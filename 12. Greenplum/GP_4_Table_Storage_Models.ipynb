{
  "nbformat": 4,
  "nbformat_minor": 0,
  "metadata": {
    "celltoolbar": "Raw Cell Format",
    "kernelspec": {
      "display_name": "Python 3",
      "language": "python",
      "name": "python3"
    },
    "language_info": {
      "codemirror_mode": {
        "name": "ipython",
        "version": 3
      },
      "file_extension": ".py",
      "mimetype": "text/x-python",
      "name": "python",
      "nbconvert_exporter": "python",
      "pygments_lexer": "ipython3",
      "version": "3.7.6"
    },
    "colab": {
      "name": "GP 4 - Table Storage Models",
      "provenance": [],
      "collapsed_sections": []
    }
  },
  "cells": [
    {
      "cell_type": "markdown",
      "metadata": {
        "id": "EjlI-4Da4Y_u"
      },
      "source": [
        "# Table Storage Model\n",
        "\n",
        "\n"
      ]
    },
    {
      "cell_type": "code",
      "metadata": {
        "id": "XEB33gcJ4Y_0"
      },
      "source": [
        "!pip install sqlalchemy psycopg2-binary ipython-sql\n",
        "!sudo apt-get install postgresql-client\n",
        "\n",
        "import os, re\n",
        "from IPython.display import display_html\n",
        "\n",
        "import pygments.lexers\n",
        "from pygments import highlight\n",
        "from pygments.formatters import HtmlFormatter\n",
        "\n",
        "CONNECTION_STRING = os.getenv('AWSGPDBCONN')\n",
        "\n",
        "DB_USER   = \"gpadmin\"\n",
        "DB_PWD    = \"TRWLO7VX3SHLX\"\n",
        "DB_SERVER = \"34.87.155.108\"\n",
        "DB_PORT   = \"5432\"\n",
        "DB_NAME   = \"dev\"\n",
        "\n",
        "CONNECTION_STRING=f\"postgresql://{DB_USER}:{DB_PWD}@{DB_SERVER}:{DB_PORT}/{DB_NAME}\"\n",
        "\n",
        "%reload_ext sql\n",
        "%sql $CONNECTION_STRING"
      ],
      "execution_count": null,
      "outputs": []
    },
    {
      "cell_type": "code",
      "metadata": {
        "id": "daHeiVJD4Y_3"
      },
      "source": [
        "query = \"SHOW gp_autostats_mode; \\\n",
        "ALTER DATABASE {} SET gp_autostats_mode TO 'NONE'; \\\n",
        "SHOW gp_autostats_mode;\".format(DB_NAME)\n",
        "\n",
        "%sql $DB_USER@$DB_NAME {''.join(query)}"
      ],
      "execution_count": null,
      "outputs": []
    },
    {
      "cell_type": "code",
      "metadata": {
        "id": "H13AUrer4Y_3"
      },
      "source": [
        "query = !cat script/7-db-maintenance.sql\n",
        "%sql $DB_USER@$DB_NAME {''.join(query)}"
      ],
      "execution_count": null,
      "outputs": []
    },
    {
      "cell_type": "markdown",
      "metadata": {
        "id": "lXeRiUZv4Y_4"
      },
      "source": [
        "## 7. Comparing Table Storage Models\n",
        "\n",
        "Re-create the Amazon Reviews table, using 2 different table storage models, row-oriented and column-oriented, as shown below:"
      ]
    },
    {
      "cell_type": "code",
      "metadata": {
        "id": "n3h7xmcm4Y_4"
      },
      "source": [
        "sqlfilecode1 = !pygmentize -f html -O full,style=colorful -l postgres script/7-1-amzn-reviews-ro.sql\n",
        "sqlfilecode3 = !pygmentize -f html -O full,style=colorful -l postgres script/7-1-amzn-reviews-co.sql\n",
        "\n",
        "display_html('\\n'.join(sqlfilecode1), raw=True)\n",
        "display_html('\\n'.join(sqlfilecode3), raw=True)\n",
        "\n",
        "query1 = !cat script/7-1-amzn-reviews-ro.sql\n",
        "query3 = !cat script/7-1-amzn-reviews-co.sql\n",
        "\n",
        "%sql $DB_USER@$DB_SERVER {''.join(query1)}\n",
        "%sql $DB_USER@$DB_SERVER {''.join(query3)}"
      ],
      "execution_count": null,
      "outputs": []
    },
    {
      "cell_type": "markdown",
      "metadata": {
        "id": "DHMcyYEp4Y_5"
      },
      "source": [
        "### 7.1 Loading\n",
        "\n",
        "#### 7.1.1 Loading from another source table\n",
        "\n",
        "Load the two tables using table `demo.amzn_reviews` as source (see [Notebook 1](AWS-GP-demo-1.ipynb)), and compare their loading times."
      ]
    },
    {
      "cell_type": "code",
      "metadata": {
        "id": "azxDq6Ic4Y_5"
      },
      "source": [
        "sqlfilecode1 = !pygmentize -f html -O full,style=colorful -l postgres script/7-1-load-amzn-reviews-ro.sql\n",
        "display_html('\\n'.join(sqlfilecode1), raw=True)\n",
        "cmd1 = !echo $(cat script/7-1-load-amzn-reviews-ro.sql | \\\n",
        "               psql $CONNECTION_STRING | \\\n",
        "               grep -e 'Execution time') | \\\n",
        "    pygmentize -f html -O full,style=colorful -l postgres\n",
        "display_html('\\n'.join(cmd1), raw=True)\n",
        "\n",
        "sqlfilecode2 = !pygmentize -f html -O full,style=colorful -l postgres script/7-1-load-amzn-reviews-co.sql\n",
        "display_html('\\n'.join(sqlfilecode2), raw=True)\n",
        "cmd2 = !echo $(cat script/7-1-load-amzn-reviews-co.sql | \\\n",
        "               psql $CONNECTION_STRING | \\\n",
        "               grep -e 'Execution time') | \\\n",
        "    pygmentize -f html -O full,style=colorful -l postgres\n",
        "display_html('\\n'.join(cmd2), raw=True)"
      ],
      "execution_count": null,
      "outputs": []
    },
    {
      "cell_type": "markdown",
      "metadata": {
        "id": "wjSd6uaJ4Y_6"
      },
      "source": [
        "#### 7.1.2 Loading from a source file (Bulk Loading)\n",
        "\n",
        "Let's drop & recreate the tables, load the input dataset in bulk to each using the `gpload` utility, and compare their loading times."
      ]
    },
    {
      "cell_type": "code",
      "metadata": {
        "id": "wcRDg8Sw4Y_7"
      },
      "source": [
        "sqlfilecode1 = !pygmentize -f html -O full,style=colorful -l postgres script/7-1-amzn-reviews-ro.sql\n",
        "sqlfilecode3 = !pygmentize -f html -O full,style=colorful -l postgres script/7-1-amzn-reviews-co.sql\n",
        "\n",
        "display_html('\\n'.join(sqlfilecode1), raw=True)\n",
        "display_html('\\n'.join(sqlfilecode3), raw=True)\n",
        "\n",
        "query1 = !cat script/7-1-amzn-reviews-ro.sql\n",
        "query3 = !cat script/7-1-amzn-reviews-co.sql\n",
        "\n",
        "%sql $DB_USER@$DB_SERVER {''.join(query1)}\n",
        "%sql $DB_USER@$DB_SERVER {''.join(query3)}"
      ],
      "execution_count": null,
      "outputs": []
    },
    {
      "cell_type": "code",
      "metadata": {
        "id": "TWme4HCj4Y_7"
      },
      "source": [
        "!ssh -i ~/.ssh/aws-gp.pem $DB_USER@$DB_SERVER 'if [ -f ./gpload-amzn-reviews-ro.log ]; then rm ./gpload-amzn-reviews-ro.log; fi'\n",
        "!scp -i ~/.ssh/aws-gp.pem script/7-1-gpload-amzn-reviews-ro.yaml $DB_USER@$DB_SERVER:gpload-amzn-reviews-ro.yaml\n",
        "cmd = \"gpload -d {0} -f ./gpload-amzn-reviews-ro.yaml -l ./gpload-amzn-reviews-ro.log 2>&1\".format(DB_NAME) \n",
        "!ssh -i ~/.ssh/aws-gp.pem $DB_USER@$DB_SERVER $cmd"
      ],
      "execution_count": null,
      "outputs": []
    },
    {
      "cell_type": "code",
      "metadata": {
        "id": "eDpe6Hbd4Y_8"
      },
      "source": [
        "!ssh -i ~/.ssh/aws-gp.pem $DB_USER@$DB_SERVER 'if [ -f ./gpload-amzn-reviews-co.log ]; then rm ./gpload-amzn-reviews-co.log; fi'\n",
        "!scp -i ~/.ssh/aws-gp.pem script/7-1-gpload-amzn-reviews-co.yaml $DB_USER@$DB_SERVER:gpload-amzn-reviews-co.yaml\n",
        "cmd = \"gpload -d {0} -f ./gpload-amzn-reviews-co.yaml -l ./gpload-amzn-reviews-co.log 2>&1\".format(DB_NAME) \n",
        "!ssh -i ~/.ssh/aws-gp.pem $DB_USER@$DB_SERVER $cmd"
      ],
      "execution_count": null,
      "outputs": []
    },
    {
      "cell_type": "code",
      "metadata": {
        "id": "bSRQA_Qg4Y_8"
      },
      "source": [
        "cmd = 'grep -e '\"'\"'running'\"'\"' /home/gpadmin/gpload-amzn-reviews*\\\n",
        "    | awk '\"'\"'BEGIN{FS=\":\"} {print $1, \"finished in\", $5}'\"'\"'' \n",
        "grep_output = !ssh -i ~/.ssh/aws-gp.pem $DB_USER@$DB_SERVER $cmd | pygmentize -f html -O full,style=colorful -l postgres\n",
        "display_html('\\n'.join(grep_output), raw=True)"
      ],
      "execution_count": null,
      "outputs": []
    },
    {
      "cell_type": "markdown",
      "metadata": {
        "id": "st5bS_zX4Y_9"
      },
      "source": [
        "### 7.2 Table Size and Disk Space Usage"
      ]
    },
    {
      "cell_type": "code",
      "metadata": {
        "id": "HQ-xLIuU4Y_-"
      },
      "source": [
        "sqlfilecode = !pygmentize -f html -O full,style=colorful -l postgres script/7-2-table-size-comparison.sql\n",
        "display_html('\\n'.join(sqlfilecode), raw=True)\n",
        "query = !cat script/7-2-table-size-comparison.sql\n",
        "%sql $DB_USER@$DB_SERVER {''.join(query)}"
      ],
      "execution_count": null,
      "outputs": []
    },
    {
      "cell_type": "markdown",
      "metadata": {
        "id": "w-ZCNwAJ4Y__"
      },
      "source": [
        "### 7.3 Query Performance"
      ]
    },
    {
      "cell_type": "markdown",
      "metadata": {
        "id": "KLOR1LKK4ZAA"
      },
      "source": [
        "#### 7.3.0 `ANALYZE` tables"
      ]
    },
    {
      "cell_type": "code",
      "metadata": {
        "id": "23g7eUUN4ZAA"
      },
      "source": [
        "sqlfilecode = !pygmentize -f html -O full,style=colorful -l postgres script/7-3-analyze.sql\n",
        "display_html('\\n'.join(sqlfilecode), raw=True)\n",
        "query = !cat script/7-3-analyze.sql\n",
        "%sql $DB_USER@$DB_SERVER {''.join(query)}"
      ],
      "execution_count": null,
      "outputs": []
    },
    {
      "cell_type": "markdown",
      "metadata": {
        "id": "4GKXzm894ZAA"
      },
      "source": [
        "#### 7.3.1 Narrow (*Few columns of the table*) `SELECT`"
      ]
    },
    {
      "cell_type": "code",
      "metadata": {
        "id": "1DQEUSPQ4ZAB"
      },
      "source": [
        "sqlfilecode1 = !pygmentize -f html -O full,style=colorful -l postgres script/7-3-narrow-select-ro.sql\n",
        "display_html('\\n'.join(sqlfilecode1), raw=True)\n",
        "cmd1 = !echo $(cat script/7-3-narrow-select-ro.sql | \\\n",
        "               psql $CONNECTION_STRING | \\\n",
        "               grep -e 'Execution time') | \\\n",
        "    pygmentize -f html -O full,style=colorful -l postgres\n",
        "display_html('\\n'.join(cmd1), raw=True)\n",
        "\n",
        "sqlfilecode3 = !pygmentize -f html -O full,style=colorful -l postgres script/7-3-narrow-select-co.sql\n",
        "display_html('\\n'.join(sqlfilecode3), raw=True)\n",
        "cmd3 = !echo $(cat script/7-3-narrow-select-co.sql | \\\n",
        "               psql $CONNECTION_STRING | \\\n",
        "               grep -e 'Execution time') | \\\n",
        "    pygmentize -f html -O full,style=colorful -l postgres\n",
        "display_html('\\n'.join(cmd3), raw=True)"
      ],
      "execution_count": null,
      "outputs": []
    },
    {
      "cell_type": "markdown",
      "metadata": {
        "id": "sxJ7T7oZ4ZAB"
      },
      "source": [
        "#### 7.3.2.1 Super Narrow (*1 column of the table*) `SELECT`: \"Short\" Data Field example"
      ]
    },
    {
      "cell_type": "code",
      "metadata": {
        "id": "Cb2URWxy4ZAB"
      },
      "source": [
        "sqlfilecode1 = !pygmentize -f html -O full,style=colorful -l postgres script/7-3-super-narrow-select-ro.sql\n",
        "display_html('\\n'.join(sqlfilecode1), raw=True)\n",
        "cmd1 = !echo $(cat script/7-3-super-narrow-select-ro.sql | \\\n",
        "               psql $CONNECTION_STRING | \\\n",
        "               grep -e 'Execution time') | \\\n",
        "    pygmentize -f html -O full,style=colorful -l postgres\n",
        "display_html('\\n'.join(cmd1), raw=True)\n",
        "\n",
        "sqlfilecode3 = !pygmentize -f html -O full,style=colorful -l postgres script/7-3-super-narrow-select-co.sql\n",
        "display_html('\\n'.join(sqlfilecode3), raw=True)\n",
        "cmd3 = !echo $(cat script/7-3-super-narrow-select-co.sql | \\\n",
        "               psql $CONNECTION_STRING | \\\n",
        "               grep -e 'Execution time') | \\\n",
        "    pygmentize -f html -O full,style=colorful -l postgres\n",
        "display_html('\\n'.join(cmd3), raw=True)"
      ],
      "execution_count": null,
      "outputs": []
    },
    {
      "cell_type": "markdown",
      "metadata": {
        "id": "ZJ0cRft24ZAC"
      },
      "source": [
        "#### 7.3.2.2 Super Narrow (*1 column of the table*) `SELECT`:  \"Long\" Data Field example"
      ]
    },
    {
      "cell_type": "code",
      "metadata": {
        "id": "3XKu4xDy4ZAC"
      },
      "source": [
        "sqlfilecode1 = !pygmentize -f html -O full,style=colorful -l postgres script/7-3-super-narrow-select-ro-2.sql\n",
        "display_html('\\n'.join(sqlfilecode1), raw=True)\n",
        "cmd1 = !echo $(cat script/7-3-super-narrow-select-ro-2.sql | \\\n",
        "               psql $CONNECTION_STRING | \\\n",
        "               grep -e 'Execution time') | \\\n",
        "    pygmentize -f html -O full,style=colorful -l postgres\n",
        "display_html('\\n'.join(cmd1), raw=True)\n",
        "\n",
        "sqlfilecode3 = !pygmentize -f html -O full,style=colorful -l postgres script/7-3-super-narrow-select-co-2.sql\n",
        "display_html('\\n'.join(sqlfilecode3), raw=True)\n",
        "cmd3 = !echo $(cat script/7-3-super-narrow-select-co-2.sql | \\\n",
        "               psql $CONNECTION_STRING | \\\n",
        "               grep -e 'Execution time') | \\\n",
        "    pygmentize -f html -O full,style=colorful -l postgres\n",
        "display_html('\\n'.join(cmd3), raw=True)"
      ],
      "execution_count": null,
      "outputs": []
    },
    {
      "cell_type": "markdown",
      "metadata": {
        "id": "gVIubR-k4ZAC"
      },
      "source": [
        "#### 7.3.3 Wide (*Most/Many columns of the table*) `SELECT`"
      ]
    },
    {
      "cell_type": "code",
      "metadata": {
        "id": "RVTAkPYj4ZAC"
      },
      "source": [
        "sqlfilecode1 = !pygmentize -f html -O full,style=colorful -l postgres script/7-3-wide-select-ro.sql\n",
        "display_html('\\n'.join(sqlfilecode1), raw=True)\n",
        "cmd1 = !echo $(cat script/7-3-wide-select-ro.sql | \\\n",
        "               psql $CONNECTION_STRING | \\\n",
        "               grep -e 'Execution time') | \\\n",
        "    pygmentize -f html -O full,style=colorful -l postgres\n",
        "display_html('\\n'.join(cmd1), raw=True)\n",
        "\n",
        "sqlfilecode3 = !pygmentize -f html -O full,style=colorful -l postgres script/7-3-wide-select-co.sql\n",
        "display_html('\\n'.join(sqlfilecode3), raw=True)\n",
        "cmd3 = !echo $(cat script/7-3-wide-select-co.sql | \\\n",
        "               psql $CONNECTION_STRING | \\\n",
        "               grep -e 'Execution time') | \\\n",
        "    pygmentize -f html -O full,style=colorful -l postgres\n",
        "display_html('\\n'.join(cmd3), raw=True)"
      ],
      "execution_count": null,
      "outputs": []
    },
    {
      "cell_type": "markdown",
      "metadata": {
        "id": "DEu8M9Ql4ZAD"
      },
      "source": [
        "#### 7.3.4.1 Aggregate/Window Functions over a limited number of columns"
      ]
    },
    {
      "cell_type": "code",
      "metadata": {
        "id": "tVOJ7T7i4ZAD"
      },
      "source": [
        "sqlfilecode1 = !pygmentize -f html -O full,style=colorful -l postgres script/7-3-aggr-select-ro.sql\n",
        "display_html('\\n'.join(sqlfilecode1), raw=True)\n",
        "cmd1 = !echo $(cat script/7-3-aggr-select-ro.sql | \\\n",
        "               psql $CONNECTION_STRING | \\\n",
        "               grep -e 'Execution time') | \\\n",
        "    pygmentize -f html -O full,style=colorful -l postgres\n",
        "display_html('\\n'.join(cmd1), raw=True)\n",
        "\n",
        "sqlfilecode3 = !pygmentize -f html -O full,style=colorful -l postgres script/7-3-aggr-select-co.sql\n",
        "display_html('\\n'.join(sqlfilecode3), raw=True)\n",
        "cmd3 = !echo $(cat script/7-3-aggr-select-co.sql | \\\n",
        "               psql $CONNECTION_STRING | \\\n",
        "               grep -e 'Execution time') | \\\n",
        "    pygmentize -f html -O full,style=colorful -l postgres\n",
        "display_html('\\n'.join(cmd3), raw=True)"
      ],
      "execution_count": null,
      "outputs": []
    },
    {
      "cell_type": "markdown",
      "metadata": {
        "id": "46gubCHX4ZAD"
      },
      "source": [
        "#### 7.3.4.2 Aggregate/Window Functions over a more columns"
      ]
    },
    {
      "cell_type": "code",
      "metadata": {
        "id": "NJDCxsHw4ZAE"
      },
      "source": [
        "sqlfilecode1 = !pygmentize -f html -O full,style=colorful -l postgres script/7-3-aggr-select-ro-2.sql\n",
        "display_html('\\n'.join(sqlfilecode1), raw=True)\n",
        "cmd1 = !echo $(cat script/7-3-aggr-select-ro.sql | \\\n",
        "               psql $CONNECTION_STRING | \\\n",
        "               grep -e 'Execution time') | \\\n",
        "    pygmentize -f html -O full,style=colorful -l postgres\n",
        "display_html('\\n'.join(cmd1), raw=True)\n",
        "\n",
        "sqlfilecode3 = !pygmentize -f html -O full,style=colorful -l postgres script/7-3-aggr-select-co-2.sql\n",
        "display_html('\\n'.join(sqlfilecode3), raw=True)\n",
        "cmd3 = !echo $(cat script/7-3-aggr-select-co.sql | \\\n",
        "               psql $CONNECTION_STRING | \\\n",
        "               grep -e 'Execution time') | \\\n",
        "    pygmentize -f html -O full,style=colorful -l postgres\n",
        "display_html('\\n'.join(cmd3), raw=True)"
      ],
      "execution_count": null,
      "outputs": []
    }
  ]
}