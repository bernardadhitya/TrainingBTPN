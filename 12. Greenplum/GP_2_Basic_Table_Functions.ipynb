{
  "nbformat": 4,
  "nbformat_minor": 0,
  "metadata": {
    "celltoolbar": "Raw Cell Format",
    "kernelspec": {
      "display_name": "Python 3",
      "language": "python",
      "name": "python3"
    },
    "language_info": {
      "codemirror_mode": {
        "name": "ipython",
        "version": 3
      },
      "file_extension": ".py",
      "mimetype": "text/x-python",
      "name": "python",
      "nbconvert_exporter": "python",
      "pygments_lexer": "ipython3",
      "version": "3.7.6"
    },
    "colab": {
      "name": "GP 2 - Basic Table Functions.ipynb",
      "provenance": [],
      "collapsed_sections": [],
      "toc_visible": true
    }
  },
  "cells": [
    {
      "cell_type": "markdown",
      "metadata": {
        "id": "FpqL4CUhwVcj"
      },
      "source": [
        "# Basic Table Functions"
      ]
    },
    {
      "cell_type": "code",
      "metadata": {
        "scrolled": true,
        "id": "bEFqe6eBwVcq"
      },
      "source": [
        "!pip install sqlalchemy psycopg2-binary ipython-sql\n",
        "!sudo apt-get install postgresql-client\n",
        "\n",
        "import os, re\n",
        "from IPython.display import display_html\n",
        "\n",
        "import pygments.lexers\n",
        "from pygments import highlight\n",
        "from pygments.formatters import HtmlFormatter\n",
        "\n",
        "CONNECTION_STRING = os.getenv('AWSGPDBCONN')\n",
        "\n",
        "DB_USER   = \"gpadmin\"\n",
        "DB_PWD    = \"TRWLO7VX3SHLX\"\n",
        "DB_SERVER = \"34.87.155.108\"\n",
        "DB_PORT   = \"5432\"\n",
        "DB_NAME   = \"dev\"\n",
        "\n",
        "CONNECTION_STRING=f\"postgresql://{DB_USER}:{DB_PWD}@{DB_SERVER}:{DB_PORT}/{DB_NAME}\"\n",
        "\n",
        "%reload_ext sql\n",
        "%sql $CONNECTION_STRING"
      ],
      "execution_count": null,
      "outputs": []
    },
    {
      "cell_type": "markdown",
      "metadata": {
        "id": "Mh9E2tmZwVct"
      },
      "source": [
        "## 4. Basic Table Functions\n",
        "\n",
        "### 4.1. DESCRIBE *demo.amzn_reviews* table using psql utility (`\\d <table name>`)"
      ]
    },
    {
      "cell_type": "code",
      "metadata": {
        "id": "GdvTILkwwVcv"
      },
      "source": [
        "sqlfilecode = !pygmentize -f html -O full,style=colorful -l psql script/4-1-psql-describe-amzn-reviews.sql\n",
        "\n",
        "display_html('\\n'.join(sqlfilecode), raw=True)\n",
        "\n",
        "psql_out = !cat script/4-1-psql-describe-amzn-reviews.sql | psql -H $CONNECTION_STRING\n",
        "\n",
        "display_html(''.join(psql_out), raw=True)"
      ],
      "execution_count": null,
      "outputs": []
    },
    {
      "cell_type": "markdown",
      "metadata": {
        "id": "YFm_yr_cwVcz"
      },
      "source": [
        "### 4.2. DESCRIBE *demo.amzn_reviews* table using `information_schema` catalog table."
      ]
    },
    {
      "cell_type": "code",
      "metadata": {
        "id": "i6mnxoyBwVc1"
      },
      "source": [
        "sqlfilecode = !pygmentize -f html -O full,style=colorful -l postgres script/4-2-gp-describe-amzn-reviews.sql\n",
        "\n",
        "display_html('\\n'.join(sqlfilecode), raw=True)\n",
        "\n",
        "query = !cat script/4-2-gp-describe-amzn-reviews.sql\n",
        "\n",
        "%sql $DB_USER@$DB_SERVER {''.join(query)}"
      ],
      "execution_count": null,
      "outputs": []
    },
    {
      "cell_type": "markdown",
      "metadata": {
        "id": "kb7eMT2HwVc3"
      },
      "source": [
        "### 4.3. Retrieve a sample of the _demo.amzn_reviews_ table data (10 rows)."
      ]
    },
    {
      "cell_type": "code",
      "metadata": {
        "id": "772IDqFmwVc4"
      },
      "source": [
        "sqlfilecode = !pygmentize -f html -O full,style=colorful -l postgres script/4-3-select-sample-amzn-reviews.sql\n",
        "\n",
        "display_html('\\n'.join(sqlfilecode), raw=True)\n",
        "\n",
        "query = !cat script/4-3-select-sample-amzn-reviews.sql\n",
        "\n",
        "%sql $DB_USER@$DB_SERVER {''.join(query)}"
      ],
      "execution_count": null,
      "outputs": []
    },
    {
      "cell_type": "markdown",
      "metadata": {
        "id": "kS0vogL9wVc7"
      },
      "source": [
        "### 4.4. Show *demo.amzn_reviews* table data distribution across segments:"
      ]
    },
    {
      "cell_type": "code",
      "metadata": {
        "id": "6nW4599NwVc8"
      },
      "source": [
        "sqlfilecode = !pygmentize -f html -O full,style=colorful -l postgres script/4-4-data-distrib-amzn-reviews.sql\n",
        "\n",
        "display_html('\\n'.join(sqlfilecode), raw=True)\n",
        "\n",
        "query = !cat script/4-4-data-distrib-amzn-reviews.sql\n",
        "\n",
        "%sql $DB_USER@$DB_SERVER {''.join(query)}"
      ],
      "execution_count": null,
      "outputs": []
    },
    {
      "cell_type": "markdown",
      "metadata": {
        "id": "1EmxkBdFwVc_"
      },
      "source": [
        "### 4.5. *demo.amzn_reviews* Table Size and Disk Space Usage\n",
        "\n",
        "#### 4.5.1. Using PostgreSQL System Administration Functions (PG 8.4)"
      ]
    },
    {
      "cell_type": "code",
      "metadata": {
        "id": "7IUGb2DVwVdA"
      },
      "source": [
        "sqlfilecode = !pygmentize -f html -O full,style=colorful -l postgres script/4-5-1-object-size-and-disk-space.sql\n",
        "\n",
        "display_html('\\n'.join(sqlfilecode), raw=True)\n",
        "\n",
        "query = !cat script/4-5-1-object-size-and-disk-space.sql\n",
        "\n",
        "%sql $DB_USER@$DB_SERVER {''.join(query)}"
      ],
      "execution_count": null,
      "outputs": []
    },
    {
      "cell_type": "markdown",
      "metadata": {
        "id": "yJMP33j4wVdC"
      },
      "source": [
        "#### 4.5.2. Using the `gp_toolkit` Administrative Schema (Greenplum 5.x)"
      ]
    },
    {
      "cell_type": "code",
      "metadata": {
        "id": "9emnjGiqwVdD"
      },
      "source": [
        "sqlfilecode = !pygmentize -f html -O full,style=colorful -l postgres script/4-5-2-object-size-and-disk-space.sql\n",
        "\n",
        "display_html('\\n'.join(sqlfilecode), raw=True)\n",
        "\n",
        "query = !cat script/4-5-2-object-size-and-disk-space.sql\n",
        "\n",
        "%sql $DB_USER@$DB_SERVER {''.join(query)}"
      ],
      "execution_count": null,
      "outputs": []
    },
    {
      "cell_type": "markdown",
      "metadata": {
        "id": "2XaP-j8fwVdF"
      },
      "source": [
        "### 4.6. Check table for Data Skew\n",
        "Data skew may be caused by uneven data distribution due to the wrong choice of distribution keys or single tuple table insert or copy operations. Present at the table level, data skew, is often the root cause of poor query performance and out of memory conditions. Skewed data affects scan (read) performance, but it also affects all other query execution operations, for instance, joins and group by operations.\n",
        "\n",
        "It is very important to *validate* distributions to ensure that data is evenly distributed after the initial load. It is equally important to *continue* to validate distributions after incremental loads.\n",
        "\n",
        "The following query shows the number of rows per segment as well as the variance from the minimum and maximum numbers of rows:"
      ]
    },
    {
      "cell_type": "code",
      "metadata": {
        "id": "q4KRLdLswVdH"
      },
      "source": [
        "sqlfilecode = !pygmentize -f html -O full,style=colorful -l postgres script/4-6-1-data-skew.sql\n",
        "\n",
        "display_html('\\n'.join(sqlfilecode), raw=True)\n",
        "\n",
        "query = !cat script/4-6-1-data-skew.sql\n",
        "\n",
        "%sql $DB_USER@$DB_SERVER {''.join(query)}"
      ],
      "execution_count": null,
      "outputs": []
    },
    {
      "cell_type": "markdown",
      "metadata": {
        "id": "WzF5nM4zwVdJ"
      },
      "source": [
        "The `gp_toolkit` schema has two views that you can use to check for skew.\n",
        "- The `gp_toolkit.gp_skew_coefficients` view shows data distribution skew by calculating the coefficient of variation (CV) for the data stored on each segment. The `skccoeff` column shows the coefficient of variation (CV), which is calculated as the standard deviation divided by the average. It takes into account both the average and variability around the average of a data series. The lower the value, the better. Higher values indicate greater data skew."
      ]
    },
    {
      "cell_type": "code",
      "metadata": {
        "id": "K7P93wlTwVdK"
      },
      "source": [
        "sqlfilecode = !pygmentize -f html -O full,style=colorful -l postgres script/4-6-2-data-skew.sql\n",
        "\n",
        "display_html('\\n'.join(sqlfilecode), raw=True)\n",
        "\n",
        "query = !cat script/4-6-2-data-skew.sql\n",
        "\n",
        "%sql $DB_USER@$DB_SERVER {''.join(query)}"
      ],
      "execution_count": null,
      "outputs": []
    },
    {
      "cell_type": "markdown",
      "metadata": {
        "id": "Vsycm5cBwVdN"
      },
      "source": [
        "- The `gp_toolkit.gp_skew_idle_fractions` view shows data distribution skew by calculating the percentage of the system that is idle during a table scan, which is an indicator of computational skew. The `siffraction` column shows the percentage of the system that is idle during a table scan. This is an indicator of uneven data distribution or query processing skew. For example, a value of 0.1 indicates 10% skew, a value of 0.5 indicates 50% skew, and so on. Tables that have more than 10% skew should have their distribution policies evaluated."
      ]
    },
    {
      "cell_type": "code",
      "metadata": {
        "id": "ww2M0fWcwVdO"
      },
      "source": [
        "sqlfilecode = !pygmentize -f html -O full,style=colorful -l postgres script/4-6-3-data-skew.sql\n",
        "\n",
        "display_html('\\n'.join(sqlfilecode), raw=True)\n",
        "\n",
        "query = !cat script/4-6-3-data-skew.sql\n",
        "\n",
        "%sql $DB_USER@$DB_SERVER {''.join(query)}"
      ],
      "execution_count": null,
      "outputs": []
    },
    {
      "cell_type": "code",
      "metadata": {
        "id": "zxqBQ1RNwVdR"
      },
      "source": [
        ""
      ],
      "execution_count": null,
      "outputs": []
    }
  ]
}