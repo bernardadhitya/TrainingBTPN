{
  "nbformat": 4,
  "nbformat_minor": 0,
  "metadata": {
    "colab": {
      "name": "GP 1 - Load Data",
      "provenance": [],
      "collapsed_sections": [
        "9mR3_I0tlyg2"
      ]
    },
    "kernelspec": {
      "name": "python3",
      "display_name": "Python 3"
    },
    "language_info": {
      "name": "python"
    }
  },
  "cells": [
    {
      "cell_type": "markdown",
      "metadata": {
        "id": "HsF2RLyClPzt"
      },
      "source": [
        "\n",
        "# Data Loading\n",
        "\n",
        "## Create Table\n",
        "\n",
        "```sql\n",
        "DROP SCHEMA IF EXISTS demo CASCADE;\n",
        "\n",
        "CREATE SCHEMA demo;\n",
        "\n",
        "DROP TABLE IF EXISTS demo.amzn_reviews;\n",
        "\n",
        "CREATE TABLE demo.amzn_reviews2(\n",
        "  marketplace TEXT, \n",
        "  customer_id BIGINT, \n",
        "  review_id TEXT,\n",
        "  product_id TEXT, \n",
        "  product_parent BIGINT, \n",
        "  product_title TEXT, \n",
        "  product_category TEXT, \n",
        "  star_rating INTEGER, \n",
        "  helpful_votes INTEGER, \n",
        "  total_votes INTEGER, \n",
        "  vine TEXT, \n",
        "  verified_purchase TEXT, \n",
        "  review_headline TEXT, \n",
        "  review_body TEXT, \n",
        "  review_date DATE) \n",
        "DISTRIBUTED BY (review_id);\n",
        "```\n",
        "\n"
      ]
    },
    {
      "cell_type": "markdown",
      "metadata": {
        "id": "9mR3_I0tlyg2"
      },
      "source": [
        "## Check Table Exist\n",
        "\n",
        "```sql\n",
        "SELECT COUNT(*) FROM demo.amzn_reviews;\n",
        "```"
      ]
    },
    {
      "cell_type": "markdown",
      "metadata": {
        "id": "Wqd20OfBmir0"
      },
      "source": [
        "## Load the Input Dataset using the gpload Utility\n",
        "\n",
        "**gpload** is a data loading utility that acts as an interface to the Greenplum Database external table parallel loading feature. Using a load specification defined in a YAML formatted control file, gpload executes a load by invoking the Greenplum Database parallel file server (**gpfdist**), creating an external table definition based on the source data defined, and executing an *INSERT*, *UPDATE* or *MERGE* operation to load the source data into the target table in the database.\n",
        "\n",
        "You can declare more than one file as input/source as long as the data is of the same format in all files specified. Additionally, if the files are compressed using **gzip** or **bzip2** (have a .gz or .bz2 file extension), the files will be uncompressed automatically (provided that gunzip or bunzip2 is in your path). You can also declare options such as the schema of the source data files, perform basic transformations, define custom delimiter and/or escape character(s), and many more. For the full list of available options, check the GPLoad Utility Reference available on Pivotal Greenplum Database Documentation (Pivotal Greenplum Documentation > Utility Guide > Management Utility Reference > gpload).\n",
        "\n",
        "The operation, including any SQL commands specified in the SQL collection of the YAML control file, are performed as a single transaction to prevent inconsistent data when performing multiple, simultaneous load operations on a target table.\n",
        "\n",
        "For our demo, we have prepared the gpload_amzn_reviews.yaml YAML control file, as shown here:\n",
        "\n"
      ]
    },
    {
      "cell_type": "markdown",
      "metadata": {
        "id": "d52Mnsx1nB0R"
      },
      "source": [
        "```bash\n",
        "cat btpn/gpload-amzn-reviews2.yaml\n",
        "```\n",
        "\n",
        "```yaml\n",
        "VERSION: 1.0.0.1\n",
        "GPLOAD:\n",
        "   INPUT:\n",
        "    - SOURCE:\n",
        "         FILE:\n",
        "           - /data1/tmp_s3_data/will_use/amazon_reviews_us_*.tsv.gz\n",
        "    - FORMAT: text\n",
        "    - HEADER: true\n",
        "    - LOG_ERRORS: true\n",
        "    - MAX_LINE_LENGTH: 100000\n",
        "    - ERROR_LIMIT: 50000\n",
        "   OUTPUT:\n",
        "    - TABLE: demo.amzn_reviews2\n",
        "    - MODE: insert\n",
        "   PRELOAD:\n",
        "    - TRUNCATE: true\n",
        "    - REUSE_TABLES: true\n",
        "```\n",
        "\n",
        "## Delete error log information for existing tables in the current database. \n",
        "\n",
        "```sql\n",
        "SELECT gp_truncate_error_log('demo.amzn_reviews2');\n",
        "```\n",
        "\n",
        "## Run gpload\n",
        "\n",
        "```sh\n",
        "gpload -d dev -f gpload-amzn-reviews2.yaml -l ./gpload_amzn_reviews.log 2>&1\n",
        "```\n",
        "\n",
        "## Check gpload execution\n",
        "\n",
        "```sql\n",
        "SELECT COUNT(*) FROM demo.amzn_reviews;\n",
        "```"
      ]
    }
  ]
}