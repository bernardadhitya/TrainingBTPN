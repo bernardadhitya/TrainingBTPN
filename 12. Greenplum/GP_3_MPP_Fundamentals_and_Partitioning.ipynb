{
  "nbformat": 4,
  "nbformat_minor": 0,
  "metadata": {
    "celltoolbar": "Raw Cell Format",
    "kernelspec": {
      "display_name": "Python 3",
      "language": "python",
      "name": "python3"
    },
    "language_info": {
      "codemirror_mode": {
        "name": "ipython",
        "version": 3
      },
      "file_extension": ".py",
      "mimetype": "text/x-python",
      "name": "python",
      "nbconvert_exporter": "python",
      "pygments_lexer": "ipython3",
      "version": "3.7.6"
    },
    "colab": {
      "name": "GP 3 - MPP Fundamentals and Partitioning",
      "provenance": [],
      "collapsed_sections": [],
      "toc_visible": true
    }
  },
  "cells": [
    {
      "cell_type": "markdown",
      "metadata": {
        "id": "5YFA__P60uVg"
      },
      "source": [
        "# MPP Fundamentals and Partitioning\n",
        "\n",
        "This is Part 3 of Greenplum Database  Concepts Explained, ***MPP Fundamentals and Partitioning***. "
      ]
    },
    {
      "cell_type": "code",
      "metadata": {
        "scrolled": true,
        "id": "PSJveaho0uVm",
        "collapsed": true
      },
      "source": [
        "!pip install sqlalchemy psycopg2-binary ipython-sql\n",
        "!sudo apt-get install postgresql-client\n",
        "\n",
        "import os, re\n",
        "from IPython.display import display_html\n",
        "\n",
        "import pygments.lexers\n",
        "from pygments import highlight\n",
        "from pygments.formatters import HtmlFormatter\n",
        "\n",
        "CONNECTION_STRING = os.getenv('AWSGPDBCONN')\n",
        "\n",
        "DB_USER   = \"gpadmin\"\n",
        "DB_PWD    = \"TRWLO7VX3SHLX\"\n",
        "DB_SERVER = \"34.87.155.108\"\n",
        "DB_PORT   = \"5432\"\n",
        "DB_NAME   = \"dev\"\n",
        "\n",
        "CONNECTION_STRING=f\"postgresql://{DB_USER}:{DB_PWD}@{DB_SERVER}:{DB_PORT}/{DB_NAME}\"\n",
        "\n",
        "%reload_ext sql\n",
        "%sql $CONNECTION_STRING"
      ],
      "execution_count": null,
      "outputs": []
    },
    {
      "cell_type": "code",
      "metadata": {
        "id": "6Pxj1tTd0uVn"
      },
      "source": [
        "query = \"SHOW gp_autostats_mode; \\\n",
        "ALTER DATABASE {} SET gp_autostats_mode TO 'NONE'; \\\n",
        "SHOW gp_autostats_mode;\".format(DB_NAME)\n",
        "\n",
        "%sql $DB_USER@$DB_NAME {''.join(query)}"
      ],
      "execution_count": null,
      "outputs": []
    },
    {
      "cell_type": "markdown",
      "metadata": {
        "id": "HOiEeOzD0uVp"
      },
      "source": [
        "## 5. MPP Fundamentals\n",
        "\n",
        "This topic provides an overview of how a MPP (*Massively Parallel Processing*) database such as Greenplum, processes queries. Understanding this process can be useful when writing and tuning queries.\n",
        "\n",
        "Users issue queries to Greenplum Database as they would to any database management system. They connect to the database instance on the Greenplum master host using a client application such as `psql` and submit SQL statements.\n",
        "\n",
        "### 5.1. Understanding Parallel Query Execution & Greenplum Query Optimizer\n",
        "\n",
        "Greenplum creates a number of database processes to handle the work of a query. On the master, the query worker process is called the **query dispatcher** (QD). The QD is responsible for creating and dispatching the query plan. It also accumulates and presents the final results. On the segments, a query worker process is called a **query executor** (QE). A QE is responsible for completing its portion of work and communicating its intermediate results to the other worker processes.\n",
        "\n",
        "There is at least one worker process assigned to each slice of the query plan. A worker process works on its assigned portion of the query plan independently. During query execution, each segment will have a number of processes working on the query in parallel.\n",
        "\n",
        "The Greenplum Database cost-based optimizer evaluates many strategies for executing a query and chooses the least costly method. The optimizer produces plans based on statistics generated for tables. It is important to have accurate statistics to produce the best plan. The Greenplum optimizer takes into account factors such as,\n",
        "- the number of rows in tables to be joined, \n",
        "- availability of indexes, and \n",
        "- cardinality of column data when calculating the costs of alternative execution plans. \n",
        "\n",
        "The optimizer also accounts for the location of the data, **preferring to perform as much of the work as possible on the segments and to minimize the amount of data that must be transmitted between segments to complete the query**.\n",
        "\n",
        "Check the following example:"
      ]
    },
    {
      "cell_type": "markdown",
      "metadata": {
        "id": "YO1rOWqe0uVq"
      },
      "source": [
        "### Example 1: Forcing data into a single segment"
      ]
    },
    {
      "cell_type": "code",
      "metadata": {
        "id": "6yDinN650uVq"
      },
      "source": [
        "sqlfilecode = !pygmentize -f html -O full,style=colorful -l postgres script/5-1-amzn-reviews-by-marketplace.sql\n",
        "display_html('\\n'.join(sqlfilecode), raw=True)"
      ],
      "execution_count": null,
      "outputs": []
    },
    {
      "cell_type": "code",
      "metadata": {
        "id": "AO9TxFL10uVr"
      },
      "source": [
        "query = !cat script/5-1-amzn-reviews-by-marketplace.sql\n",
        "%sql $DB_USER@$DB_SERVER {''.join(query)}"
      ],
      "execution_count": null,
      "outputs": []
    },
    {
      "cell_type": "markdown",
      "metadata": {
        "id": "YVjcoR2x0uVr"
      },
      "source": [
        "#### Let's compare the two tables (*demo.amzn_reviews*, *demo.amzn_reviews_by_marketplace*) data distribution across segments:"
      ]
    },
    {
      "cell_type": "code",
      "metadata": {
        "id": "11iBdGA-0uVv"
      },
      "source": [
        "sqlfilecode = !pygmentize -f html -O full,style=colorful -l psql script/5-1-data-distribution-two-tables.sql\n",
        "display_html('\\n'.join(sqlfilecode), raw=True)\n",
        "\n",
        "query = !cat script/5-1-data-distribution-two-tables.sql\n",
        "%sql $DB_USER@$DB_SERVER {''.join(query)}"
      ],
      "execution_count": null,
      "outputs": []
    },
    {
      "cell_type": "markdown",
      "metadata": {
        "id": "gqrttntX0uVw"
      },
      "source": [
        "### Let's compare the `EXPLAIN ANALYSE` output for the two tables (*demo.amzn_reviews*, *demo.amzn_reviews_by_marketplace*)"
      ]
    },
    {
      "cell_type": "code",
      "metadata": {
        "id": "QX6XM_lV0uVw"
      },
      "source": [
        "sqlfilecode = !pygmentize -f html -O full,style=colorful -l psql script/5-2-explain-analyze-count-star-1.sql\n",
        "display_html('\\n'.join(sqlfilecode), raw=True)\n",
        "\n",
        "explain_output = !cat script/5-2-explain-analyze-count-star-1.sql \\\n",
        "    | psql $CONNECTION_STRING | pygmentize -f html -O full,style=colorful -l psql \n",
        "display_html('\\n'.join(explain_output), raw=True)"
      ],
      "execution_count": null,
      "outputs": []
    },
    {
      "cell_type": "code",
      "metadata": {
        "id": "CdG_JyFu0uVx"
      },
      "source": [
        "sqlfilecode = !pygmentize -f html -O full,style=colorful -l psql script/5-2-explain-analyze-count-star-2.sql\n",
        "display_html('\\n'.join(sqlfilecode), raw=True)\n",
        "\n",
        "explain_output = !cat script/5-2-explain-analyze-count-star-2.sql \\\n",
        "    | psql $CONNECTION_STRING | pygmentize -f html -O full,style=colorful -l psql \n",
        "display_html('\\n'.join(explain_output), raw=True)"
      ],
      "execution_count": null,
      "outputs": []
    },
    {
      "cell_type": "markdown",
      "metadata": {
        "id": "Xj7xLxSB0uVy"
      },
      "source": [
        "### Let's run `ANALYZE <tablename>` to collect table statistics, and compare again the `EXPLAIN ANALYSE` output for the two tables (*demo.amzn_reviews*, *demo.amzn_reviews_by_marketplace*)"
      ]
    },
    {
      "cell_type": "code",
      "metadata": {
        "id": "keYChQVk0uVz"
      },
      "source": [
        "sqlfilecode = !pygmentize -f html -O full,style=colorful -l psql script/5-2-explain-analyze-count-star-3.sql\n",
        "display_html('\\n'.join(sqlfilecode), raw=True)\n",
        "\n",
        "explain_output = !cat script/5-2-explain-analyze-count-star-3.sql \\\n",
        "    | psql $CONNECTION_STRING | pygmentize -f html -O full,style=colorful -l psql \n",
        "display_html('\\n'.join(explain_output), raw=True)"
      ],
      "execution_count": null,
      "outputs": []
    },
    {
      "cell_type": "code",
      "metadata": {
        "id": "Nd4Qxmrz0uV0"
      },
      "source": [
        "sqlfilecode = !pygmentize -f html -O full,style=colorful -l psql script/5-2-explain-analyze-count-star-4.sql\n",
        "display_html('\\n'.join(sqlfilecode), raw=True)\n",
        "\n",
        "explain_output = !cat script/5-2-explain-analyze-count-star-4.sql \\\n",
        "    | psql $CONNECTION_STRING | pygmentize -f html -O full,style=colorful -l psql \n",
        "display_html('\\n'.join(explain_output), raw=True)"
      ],
      "execution_count": null,
      "outputs": []
    },
    {
      "cell_type": "markdown",
      "metadata": {
        "id": "MpKhMXxE0uV1"
      },
      "source": [
        "## 6. Partitioning\n",
        "\n",
        "Table partitioning enables supporting very large tables, such as fact tables, by logically dividing them into smaller, more manageable pieces. Partitioned tables can improve query performance by allowing the Greenplum Database query optimizer to scan only the data needed to satisfy a given query instead of scanning all the contents of a large table.\n",
        "\n",
        "### 6.1. Create a new copy of the original table, define a *PARTITION* pattern (by month) and load it.\n",
        "\n",
        "After you create the partitioned table structure, top-level parent tables are empty. Data is routed to the bottom-level child table partitions. In a multi-level partition design, only the subpartitions at the bottom of the hierarchy can contain data.\n",
        "\n",
        "Rows that cannot be mapped to a child table partition are rejected and the load fails. To avoid unmapped rows being rejected at load time, define your partition hierarchy with a DEFAULT partition. Any rows that do not match a partition's CHECK constraints load into the DEFAULT partition.\n",
        "\n",
        "At runtime, the query optimizer scans the entire table inheritance hierarchy and uses the CHECK table constraints to determine which of the child table partitions to scan to satisfy the query's conditions. The DEFAULT partition (if your hierarchy has one) is always scanned. DEFAULT partitions that contain data slow down the overall scan time.\n",
        "\n",
        "When you use COPY or INSERT to load data into a parent table, the data is automatically rerouted to the correct partition, just like a regular table."
      ]
    },
    {
      "cell_type": "code",
      "metadata": {
        "id": "w3Mlyxqv0uV3"
      },
      "source": [
        "sqlfilecode = !pygmentize -f html -O full,style=colorful -l postgres script/6-1-create-and-load-partition-table.sql\n",
        "display_html('\\n'.join(sqlfilecode), raw=True)\n",
        "\n",
        "query = !cat script/6-1-create-and-load-partition-table.sql\n",
        "%sql $DB_USER@$DB_SERVER {''.join(query)}"
      ],
      "execution_count": null,
      "outputs": []
    },
    {
      "cell_type": "markdown",
      "metadata": {
        "id": "JSbHd3Fy0uV4"
      },
      "source": [
        "### 6.2. Familiarize yourself with the Partitioned Table Design and Present Basic Demographics\n",
        "\n",
        "#### 6.2.1. Retrieve Partitioned Table Design"
      ]
    },
    {
      "cell_type": "code",
      "metadata": {
        "id": "lAcXpb6N0uV5"
      },
      "source": [
        "sqlfilecode = !pygmentize -f html -O full,style=colorful -l postgres script/6-2-1-partition-table-design.sql\n",
        "\n",
        "display_html('\\n'.join(sqlfilecode), raw=True)\n",
        "\n",
        "query = !cat script/6-2-1-partition-table-design.sql\n",
        "\n",
        "%sql $DB_USER@$DB_SERVER {''.join(query)}"
      ],
      "execution_count": null,
      "outputs": []
    },
    {
      "cell_type": "markdown",
      "metadata": {
        "id": "LyhLdJEB0uV6"
      },
      "source": [
        "#### 6.2.2. Row Count per Partition"
      ]
    },
    {
      "cell_type": "code",
      "metadata": {
        "id": "jmYtqhXI0uV7"
      },
      "source": [
        "sqlfilecode = !pygmentize -f html -O full,style=colorful -l postgres script/6-2-2-row_count_per_partition.sql\n",
        "\n",
        "display_html('\\n'.join(sqlfilecode), raw=True)\n",
        "\n",
        "query = !cat script/6-2-2-row_count_per_partition.sql\n",
        "\n",
        "%sql $DB_USER@$DB_SERVER {''.join(query)}"
      ],
      "execution_count": null,
      "outputs": []
    },
    {
      "cell_type": "markdown",
      "metadata": {
        "id": "hZvYfiCq0uV8"
      },
      "source": [
        "#### 6.2.3. Row Count per Partition & Segment"
      ]
    },
    {
      "cell_type": "code",
      "metadata": {
        "id": "_JQ6NENi0uV9"
      },
      "source": [
        "sqlfilecode = !pygmentize -f html -O full,style=colorful -l postgres script/6-2-3-row-count-per-partition-segment.sql\n",
        "\n",
        "display_html('\\n'.join(sqlfilecode), raw=True)\n",
        "\n",
        "query = !cat script/6-2-3-row-count-per-partition-segment.sql\n",
        "\n",
        "%sql $DB_USER@$DB_SERVER {''.join(query)}"
      ],
      "execution_count": null,
      "outputs": []
    },
    {
      "cell_type": "markdown",
      "metadata": {
        "id": "1vIqf3gr0uV-"
      },
      "source": [
        "### 6.3. Partitioned Table Size and Disk Space Usage\n",
        "\n",
        "After you create the partitioned table structure, top-level parent tables are empty. Data is routed to the bottom-level child table partitions. In a multi-level partition design, only the subpartitions at the bottom of the hierarchy can contain data.\n",
        "\n",
        "Compare the output below with the [Non-Partitioned Table Size and Disk Usage](http://127.0.0.1:9900/notebooks/gp-demo/AWS-GP-demo-2.ipynb#4.5.2.-Using-the-gp_toolkit-Administrative-Schema-(Greenplum-5.x)).\n",
        "\n",
        "When you use `COPY` or `INSERT` to load data into a parent table, the data is automatically rerouted to the correct partition, just like a regular table."
      ]
    },
    {
      "cell_type": "code",
      "metadata": {
        "id": "1r_0AznX0uV_"
      },
      "source": [
        "sqlfilecode = !pygmentize -f html -O full,style=colorful -l postgres script/6-3-partitioned-table-size-disk.sql\n",
        "\n",
        "display_html('\\n'.join(sqlfilecode), raw=True)\n",
        "\n",
        "query = !cat script/6-3-partitioned-table-size-disk.sql\n",
        "\n",
        "%sql $DB_USER@$DB_SERVER {''.join(query)}"
      ],
      "execution_count": null,
      "outputs": []
    },
    {
      "cell_type": "markdown",
      "metadata": {
        "id": "tEWZltnw0uWB"
      },
      "source": [
        "### 6.4. Verify your Partition Strategy and Demonstrate *Partition Elimination* functionality\n",
        "\n",
        "When a table is partitioned based on the query predicate, you can use `EXPLAIN` to verify that the query optimizer scans only the relevant data to examine the query plan. For example, the `demo.amzn_reviews_2` table is date-range partitioned by year. \n",
        "\n",
        "### Example 2: `SELECT` data for a single day (`2011-07-12`):\n",
        "\n",
        "The query plan for this query should show a table scan of only the following tables:\n",
        "\n",
        "- the default partition returning 0-1 rows (if your partition design has one)\n",
        "- the 2011 partition (`\tdemo.amzn_reviews_2_1_prt_year2011`) returning ***some number*** of rows\n",
        "\n",
        "To confirm, execute the `EXPLAIN` query and check the query plan:"
      ]
    },
    {
      "cell_type": "code",
      "metadata": {
        "id": "ud-kQFUr0uWC"
      },
      "source": [
        "sqlfilecode = !pygmentize -f html -O full,style=colorful -l postgres script/6-4-explain-example-1.sql\n",
        "\n",
        "display_html('\\n'.join(sqlfilecode), raw=True)\n",
        "\n",
        "explain_output = !cat script/6-4-explain-example-1.sql \\\n",
        "    | psql $CONNECTION_STRING | pygmentize -f html -O full,style=colorful -l psql \n",
        "\n",
        "display_html('\\n'.join(explain_output), raw=True)"
      ],
      "execution_count": null,
      "outputs": []
    },
    {
      "cell_type": "markdown",
      "metadata": {
        "id": "ZFobAIGG0uWD"
      },
      "source": [
        "### Example 3 : \"Single-Partition\" `SELECT`\n",
        "\n",
        "### Calculate MTD (Month-to-date) Number of Reviews for the dates, up to '25 March 2015' - Original/Non-Partitioned Table (`demo.amzn_reviews`)"
      ]
    },
    {
      "cell_type": "code",
      "metadata": {
        "id": "1i9Gyae70uWD"
      },
      "source": [
        ""
      ],
      "execution_count": null,
      "outputs": []
    },
    {
      "cell_type": "code",
      "metadata": {
        "id": "oFkGEvfr0uWD"
      },
      "source": [
        ""
      ],
      "execution_count": null,
      "outputs": []
    },
    {
      "cell_type": "code",
      "metadata": {
        "id": "6MMRhUIE0uWD"
      },
      "source": [
        ""
      ],
      "execution_count": null,
      "outputs": []
    },
    {
      "cell_type": "code",
      "metadata": {
        "id": "d1q3D15S0uWD"
      },
      "source": [
        "query = !cat script/6-4-calendar-foundation.sql\n",
        "%sql $DB_USER@$DB_SERVER {''.join(query)}"
      ],
      "execution_count": null,
      "outputs": []
    },
    {
      "cell_type": "code",
      "metadata": {
        "id": "wp27Xf_N0uWE"
      },
      "source": [
        "sqlfilecode = !pygmentize -f html -O full,style=colorful -l postgres script/6-4-explain-example-3-1.sql\n",
        "\n",
        "display_html('\\n'.join(sqlfilecode), raw=True)\n",
        "\n",
        "explain_output = !cat script/6-4-explain-example-3-1.sql \\\n",
        "    | psql $CONNECTION_STRING | pygmentize -f html -O full,style=colorful -l psql \n",
        "\n",
        "display_html('\\n'.join(explain_output), raw=True)"
      ],
      "execution_count": null,
      "outputs": []
    },
    {
      "cell_type": "markdown",
      "metadata": {
        "id": "qVLfwMw70uWE"
      },
      "source": [
        "### Calculate MTD (Month-to-date) Number of Reviews for the dates, up to '25 March 2015' - Partitioned Table (`demo.amzn_reviews_partitioned`)"
      ]
    },
    {
      "cell_type": "code",
      "metadata": {
        "id": "L6im9AaX0uWF"
      },
      "source": [
        "sqlfilecode = !pygmentize -f html -O full,style=colorful -l postgres script/6-4-explain-example-3-2.sql\n",
        "\n",
        "display_html('\\n'.join(sqlfilecode), raw=True)\n",
        "\n",
        "explain_output= !cat script/6-4-explain-example-3-2.sql \\\n",
        "    | psql $CONNECTION_STRING | pygmentize -f html -O full,style=colorful -l psql \n",
        "\n",
        "display_html('\\n'.join(explain_output), raw=True)"
      ],
      "execution_count": null,
      "outputs": []
    },
    {
      "cell_type": "markdown",
      "metadata": {
        "id": "Uh-1_iEf0uWH"
      },
      "source": [
        "## Continue to Part 4 of Greenplum Database  Concepts Explained, **[Table Storage Models](AWS-GP-demo-4.ipynb)**."
      ]
    }
  ]
}