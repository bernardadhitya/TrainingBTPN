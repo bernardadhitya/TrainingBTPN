{
  "nbformat": 4,
  "nbformat_minor": 0,
  "metadata": {
    "colab": {
      "name": "Hemoce-Spark3.ipynb",
      "provenance": [],
      "private_outputs": true
    },
    "kernelspec": {
      "name": "python3",
      "display_name": "Python 3"
    }
  },
  "cells": [
    {
      "cell_type": "code",
      "metadata": {
        "id": "ZsYw4UFEkdGN",
        "colab_type": "code",
        "colab": {}
      },
      "source": [
        "!apt-get install openjdk-8-jdk-headless -qq > /dev/null\n",
        "!wget -q https://www-us.apache.org/dist/spark/spark-3.0.0-preview/spark-3.0.0-preview-bin-hadoop2.7.tgz\n",
        "!tar xf spark-3.0.0-preview-bin-hadoop2.7.tgz\n",
        "!pip install -q findspark\n",
        "import os\n",
        "os.environ[\"JAVA_HOME\"] = \"/usr/lib/jvm/java-8-openjdk-amd64\"\n",
        "os.environ[\"SPARK_HOME\"] = \"/content/spark-3.0.0-preview-bin-hadoop2.7\"\n",
        "import findspark\n",
        "findspark.init()\n",
        "from pyspark import SparkContext, SparkConf\n",
        "from pyspark.sql import SQLContext, SparkSession\n",
        "from pyspark.sql.types import StructType, StructField, DoubleType, IntegerType, StringType\n",
        "#Spark Contexto\n",
        "#df = SparkSession.builder.master(\"local[*]\").getOrCreate()\n",
        "df = SparkContext.getOrCreate(SparkConf().setMaster(\"local[*]\"))"
      ],
      "execution_count": 0,
      "outputs": []
    },
    {
      "cell_type": "code",
      "metadata": {
        "id": "I8BXG2KIlhnP",
        "colab_type": "code",
        "colab": {}
      },
      "source": [
        "from pyspark.sql import SparkSession  \n",
        "sparkSession = SparkSession \\\n",
        "    .builder \\\n",
        "    .appName(\"Python Spark 3.0\") \\\n",
        "    .config(\"spark.some.config.option\", \"some-value\") \\\n",
        "    .getOrCreate()\n"
      ],
      "execution_count": 0,
      "outputs": []
    },
    {
      "cell_type": "code",
      "metadata": {
        "id": "ak_7mB5Pnuco",
        "colab_type": "code",
        "colab": {}
      },
      "source": [
        "df = sparkSession.read.load(\"/content/folha.csv\", format=\"csv\", sep=\",\", inferSchema=\"true\", header=\"true\")\n"
      ],
      "execution_count": 0,
      "outputs": []
    },
    {
      "cell_type": "code",
      "metadata": {
        "id": "VKTFwVx8lslB",
        "colab_type": "code",
        "colab": {}
      },
      "source": [
        "df.printSchema()"
      ],
      "execution_count": 0,
      "outputs": []
    },
    {
      "cell_type": "code",
      "metadata": {
        "id": "L6tziyHBquBw",
        "colab_type": "code",
        "colab": {}
      },
      "source": [
        "df.schema"
      ],
      "execution_count": 0,
      "outputs": []
    },
    {
      "cell_type": "code",
      "metadata": {
        "id": "3cpttj1vqwem",
        "colab_type": "code",
        "colab": {}
      },
      "source": [
        "df.count()"
      ],
      "execution_count": 0,
      "outputs": []
    },
    {
      "cell_type": "code",
      "metadata": {
        "id": "AaxH4Znyqy0h",
        "colab_type": "code",
        "colab": {}
      },
      "source": [
        "df.show()"
      ],
      "execution_count": 0,
      "outputs": []
    },
    {
      "cell_type": "code",
      "metadata": {
        "id": "mkmzPGkxJuw0",
        "colab_type": "code",
        "colab": {}
      },
      "source": [
        ""
      ],
      "execution_count": 0,
      "outputs": []
    },
    {
      "cell_type": "code",
      "metadata": {
        "id": "GKHkaVYwrC1j",
        "colab_type": "code",
        "colab": {}
      },
      "source": [
        "df.groupby('total').count().show()"
      ],
      "execution_count": 0,
      "outputs": []
    },
    {
      "cell_type": "code",
      "metadata": {
        "id": "35C6ESlcrM3v",
        "colab_type": "code",
        "colab": {}
      },
      "source": [
        "df.createOrReplaceTempView('df')\n",
        "df.show()"
      ],
      "execution_count": 0,
      "outputs": []
    },
    {
      "cell_type": "code",
      "metadata": {
        "id": "qDxrI7ZHtmla",
        "colab_type": "code",
        "colab": {}
      },
      "source": [
        "# Select pessoa com salario maior que 5 mil\n",
        "df.filter(df['salario'] > 5000).show()"
      ],
      "execution_count": 0,
      "outputs": []
    },
    {
      "cell_type": "code",
      "metadata": {
        "id": "l5s7Bjh0Pdg-",
        "colab_type": "code",
        "colab": {}
      },
      "source": [
        ""
      ],
      "execution_count": 0,
      "outputs": []
    },
    {
      "cell_type": "code",
      "metadata": {
        "id": "eoTflVySt3TH",
        "colab_type": "code",
        "colab": {}
      },
      "source": [
        "# Register the DataFrame as a SQL temporary view\n",
        "df.createOrReplaceTempView(\"salario\")\n",
        "\n",
        "sqlDF = spark.sql(\"SELECT * FROM salario\")\n",
        "sqlDF.show()"
      ],
      "execution_count": 0,
      "outputs": []
    },
    {
      "cell_type": "code",
      "metadata": {
        "id": "h5qCVEbeuSoN",
        "colab_type": "code",
        "colab": {}
      },
      "source": [
        "df.createGlobalTempView(\"salario\")\n",
        "\n",
        "# Global temporary view is tied to a system preserved database `global_temp`\n",
        "spark.sql(\"SELECT * FROM global_temp.salario\").show()\n",
        "# Global temporary view is cross-session\n",
        "spark.newSession().sql(\"SELECT * FROM global_temp.salario\").show()"
      ],
      "execution_count": 0,
      "outputs": []
    },
    {
      "cell_type": "markdown",
      "metadata": {
        "id": "bBvlAcHMr_VN",
        "colab_type": "text"
      },
      "source": [
        "# CONVERTER CSV PARA PARQUET"
      ]
    },
    {
      "cell_type": "code",
      "metadata": {
        "id": "dwNssEPirbXC",
        "colab_type": "code",
        "colab": {}
      },
      "source": [
        "import pandas as pd\n",
        "df = pd.read_csv('/content/folha.csv')\n",
        "df.to_parquet('/content/folha.parquet')"
      ],
      "execution_count": 0,
      "outputs": []
    },
    {
      "cell_type": "code",
      "metadata": {
        "id": "j1YkXGt9vTzA",
        "colab_type": "code",
        "colab": {}
      },
      "source": [
        "df = sparkSession.read.load(\"/content/folha.parquet\", format=\"parquet\", sep=\",\", inferSchema=\"true\", header=\"true\")\n",
        "df.show()"
      ],
      "execution_count": 0,
      "outputs": []
    },
    {
      "cell_type": "code",
      "metadata": {
        "id": "EhuX7kqU0Vkk",
        "colab_type": "code",
        "colab": {}
      },
      "source": [
        "df = sparkSession.read.parquet('/content/folha.parquet', '/content/folha.parquet')\n",
        "df.show(40)"
      ],
      "execution_count": 0,
      "outputs": []
    },
    {
      "cell_type": "markdown",
      "metadata": {
        "id": "5Dxb_Umu2V_L",
        "colab_type": "text"
      },
      "source": [
        "### RDD "
      ]
    },
    {
      "cell_type": "code",
      "metadata": {
        "id": "_s6d8d2H2g1I",
        "colab_type": "code",
        "colab": {}
      },
      "source": [
        ""
      ],
      "execution_count": 0,
      "outputs": []
    }
  ]
}