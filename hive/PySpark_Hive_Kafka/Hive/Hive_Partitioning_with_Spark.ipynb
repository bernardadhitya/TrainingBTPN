{
  "nbformat": 4,
  "nbformat_minor": 0,
  "metadata": {
    "colab": {
      "name": "Hive Partitioning with Spark.ipynb",
      "version": "0.3.2",
      "provenance": [],
      "collapsed_sections": [],
      "include_colab_link": true
    },
    "kernelspec": {
      "name": "python3",
      "display_name": "Python 3"
    }
  },
  "cells": [
    {
      "cell_type": "code",
      "metadata": {
        "id": "O82VS-jQVgVV",
        "colab_type": "code",
        "outputId": "1f5c52b5-e346-4049-ee99-6b3d07a7202f",
        "colab": {
          "base_uri": "https://localhost:8080/",
          "height": 72
        }
      },
      "source": [
        "!apt-get install openjdk-8-jdk-headless -qq > /dev/null\n",
        "!wget -q http://www-eu.apache.org/dist/spark/spark-2.3.3/spark-2.3.3-bin-hadoop2.7.tgz\n",
        "!tar xf spark-2.3.3-bin-hadoop2.7.tgz\n",
        "!pip install -q findspark\n",
        "!pip install pyspark"
      ],
      "execution_count": 0,
      "outputs": [
        {
          "output_type": "stream",
          "text": [
            "Requirement already satisfied: pyspark in /usr/local/lib/python3.6/dist-packages (2.4.2)\n",
            "Requirement already satisfied: py4j==0.10.7 in /usr/local/lib/python3.6/dist-packages (from pyspark) (0.10.7)\n"
          ],
          "name": "stdout"
        }
      ]
    },
    {
      "cell_type": "code",
      "metadata": {
        "id": "mZnS-K3IWQlQ",
        "colab_type": "code",
        "colab": {}
      },
      "source": [
        "import os\n",
        "os.environ[\"JAVA_HOME\"] = \"/usr/lib/jvm/java-8-openjdk-amd64\"\n",
        "os.environ[\"SPARK_HOME\"] = \"/content/spark-2.3.3-bin-hadoop2.7\""
      ],
      "execution_count": 0,
      "outputs": []
    },
    {
      "cell_type": "code",
      "metadata": {
        "id": "3Tojl2e62prV",
        "colab_type": "code",
        "colab": {}
      },
      "source": [
        "import findspark\n",
        "findspark.init()\n",
        "from pyspark.sql import SparkSession\n",
        "spark = SparkSession.builder.enableHiveSupport().config(\"spark.network.timeout\", '200s').getOrCreate()\n",
        "from pyspark.sql.types import *"
      ],
      "execution_count": 0,
      "outputs": []
    },
    {
      "cell_type": "code",
      "metadata": {
        "id": "fP53XbFbVzBR",
        "colab_type": "code",
        "outputId": "96971bf4-9e22-41b3-973e-2377b6f5a3ab",
        "colab": {
          "base_uri": "https://localhost:8080/",
          "height": 244
        }
      },
      "source": [
        "!wget \"https://nycopendata.socrata.com/api/views/erm2-nwe9/rows.csv?accessType=DOWNLOAD\""
      ],
      "execution_count": 0,
      "outputs": [
        {
          "output_type": "stream",
          "text": [
            "--2019-05-06 00:00:26--  https://nycopendata.socrata.com/api/views/erm2-nwe9/rows.csv?accessType=DOWNLOAD\n",
            "Resolving nycopendata.socrata.com (nycopendata.socrata.com)... 52.206.68.26, 52.206.140.199, 52.206.140.205\n",
            "Connecting to nycopendata.socrata.com (nycopendata.socrata.com)|52.206.68.26|:443... connected.\n",
            "HTTP request sent, awaiting response... 200 OK\n",
            "Length: unspecified [text/csv]\n",
            "Saving to: ‘rows.csv?accessType=DOWNLOAD’\n",
            "\n",
            "rows.csv?accessType     [  <=>               ]  10.89G  5.01MB/s    in 40m 27s \n",
            "\n",
            "Last-modified header invalid -- time-stamp ignored.\n",
            "2019-05-06 00:40:53 (4.60 MB/s) - ‘rows.csv?accessType=DOWNLOAD’ saved [11696132217]\n",
            "\n"
          ],
          "name": "stdout"
        }
      ]
    },
    {
      "cell_type": "code",
      "metadata": {
        "id": "Wu_v2CVAWgyK",
        "colab_type": "code",
        "outputId": "732aa0c7-c45b-4bcf-ac0f-2611a8ae94e1",
        "colab": {
          "base_uri": "https://localhost:8080/",
          "height": 52
        }
      },
      "source": [
        "!ls"
      ],
      "execution_count": 0,
      "outputs": [
        {
          "output_type": "stream",
          "text": [
            " derby.log\t metastore_db\t\t\t sample_data\n",
            " fhrw-4uyv.csv\t'rows.csv?accessType=DOWNLOAD'\t spark-2.3.3-bin-hadoop2.7\n"
          ],
          "name": "stdout"
        }
      ]
    },
    {
      "cell_type": "code",
      "metadata": {
        "id": "8qkfO0P6WlMZ",
        "colab_type": "code",
        "outputId": "d6b5e77d-72e6-4c53-92a6-c6d64a228464",
        "colab": {
          "base_uri": "https://localhost:8080/",
          "height": 210
        }
      },
      "source": [
        "!cat rows.csv\\?accessType\\=DOWNLOAD | head"
      ],
      "execution_count": 0,
      "outputs": [
        {
          "output_type": "stream",
          "text": [
            "Unique Key,Created Date,Closed Date,Agency,Agency Name,Complaint Type,Descriptor,Location Type,Incident Zip,Incident Address,Street Name,Cross Street 1,Cross Street 2,Intersection Street 1,Intersection Street 2,Address Type,City,Landmark,Facility Type,Status,Due Date,Resolution Description,Resolution Action Updated Date,Community Board,BBL,Borough,X Coordinate (State Plane),Y Coordinate (State Plane),Open Data Channel Type,Park Facility Name,Park Borough,Vehicle Type,Taxi Company Borough,Taxi Pick Up Location,Bridge Highway Name,Bridge Highway Direction,Road Ramp,Bridge Highway Segment,Latitude,Longitude,Location\n",
            "26578637,10/28/2013 12:00:00 AM,11/01/2013 12:00:00 AM,HPD,Department of Housing Preservation and Development,HEATING,HEAT,RESIDENTIAL BUILDING,10466,3908 BRONX BOULEVARD,BRONX BOULEVARD,EAST 222 STREET,EAST 224 STREET,,,ADDRESS,BRONX,,N/A,Closed,,\"The Department of Housing Preservation and Development responded to a complaint of no heat or hot water and was advised by a tenant in the building that heat and hot water had been restored. If the condition still exists, please file a new complaint.\",11/01/2013 12:00:00 AM,12 BRONX,2048190026,BRONX,1021535,262564,PHONE,Unspecified,BRONX,,,,,,,,40.88727276266042,-73.86515459131641,\"(40.88727276266042, -73.86515459131641)\"\n",
            "26578638,10/28/2013 12:00:00 AM,11/01/2013 12:00:00 AM,HPD,Department of Housing Preservation and Development,HEATING,HEAT,RESIDENTIAL BUILDING,11225,580 EMPIRE BOULEVARD,EMPIRE BOULEVARD,LAMONT COURT,KINGSTON AVENUE,,,ADDRESS,BROOKLYN,,N/A,Closed,,\"More than one complaint was received for this building-wide condition.This complaint status is for the initial complaint.The Department of Housing Preservation and Development contacted an occupant of the apartment and verified that the following conditions were corrected. The complaint has been closed. If the condition still exists, plea\",11/01/2013 12:00:00 AM,09 BROOKLYN,3013250022,BROOKLYN,1000033,181220,PHONE,Unspecified,BROOKLYN,,,,,,,,40.66406969404813,-73.9431100244629,\"(40.66406969404813, -73.9431100244629)\"\n",
            "26578639,10/28/2013 12:00:00 AM,11/01/2013 12:00:00 AM,HPD,Department of Housing Preservation and Development,HEATING,HEAT,RESIDENTIAL BUILDING,10453,57 WEST 175 STREET,WEST 175 STREET,GRAND AVENUE,MACOMBS ROAD,,,ADDRESS,BRONX,,N/A,Closed,,\"The Department of Housing Preservation and Development responded to a complaint of no heat or hot water and was advised by a tenant in the building that heat and hot water had been restored. If the condition still exists, please file a new complaint.\",11/01/2013 12:00:00 AM,05 BRONX,2028660091,BRONX,1007711,248280,PHONE,Unspecified,BRONX,,,,,,,,40.84811513088202,-73.91520061603975,\"(40.84811513088202, -73.91520061603975)\"\n",
            "26578640,10/28/2013 12:00:00 AM,11/01/2013 12:00:00 AM,HPD,Department of Housing Preservation and Development,HEATING,HEAT,RESIDENTIAL BUILDING,10467,3704 WHITE PLAINS ROAD,WHITE PLAINS ROAD,EAST 216 STREET,EAST 217 STREET,,,ADDRESS,BRONX,,N/A,Closed,,\"More than one complaint was received for this building-wide condition.This complaint status is for the initial complaint.The Department of Housing Preservation and Development contacted an occupant of the apartment and verified that the following conditions were corrected. The complaint has been closed. If the condition still exists, please\",11/01/2013 12:00:00 AM,12 BRONX,2046640050,BRONX,1021892,260509,PHONE,Unspecified,BRONX,,,,,,,,40.88163092171958,-73.86387501205282,\"(40.88163092171958, -73.86387501205282)\"\n",
            "26578645,10/28/2013 12:00:00 AM,03/06/2014 12:00:00 AM,HPD,Department of Housing Preservation and Development,ELECTRIC,LIGHTING,RESIDENTIAL BUILDING,11691,209 BEACH 31 STREET,BEACH 31 STREET,SEAGIRT AVENUE,SEAGIRT BOULEVARD,,,ADDRESS,Far Rockaway,,N/A,Closed,,\"The Department of Housing Preservation and Development was not able to gain access to inspect the following conditions. The complaint has been closed. If the condition still exists, please file a new complaint.\",03/06/2014 12:00:00 AM,Unspecified QUEENS,4158070122,QUEENS,1049876,156127,PHONE,Unspecified,QUEENS,,,,,,,,40.5949658116368,-73.76369498664252,\"(40.5949658116368, -73.76369498664252)\"\n",
            "26578646,10/28/2013 12:00:00 AM,04/28/2014 12:00:00 AM,HPD,Department of Housing Preservation and Development,GENERAL,CERAMIC-TILE,RESIDENTIAL BUILDING,11435,138-07 90 AVENUE,90 AVENUE,138 STREET,138 PLACE,,,ADDRESS,Jamaica,,N/A,Closed,,\"The Department of Housing Preservation and Development was not able to gain access to inspect the following conditions. The complaint has been closed. If the condition still exists, please file a new complaint.\",04/28/2014 12:00:00 AM,12 QUEENS,4099740029,QUEENS,1035839,194746,PHONE,Unspecified,QUEENS,,,,,,,,40.70105917223026,-73.81394365134965,\"(40.70105917223026, -73.81394365134965)\"\n",
            "26578647,10/28/2013 12:00:00 AM,10/30/2013 12:00:00 AM,HPD,Department of Housing Preservation and Development,ELECTRIC,ELECTRIC-WIRING,RESIDENTIAL BUILDING,11207,529 SNEDIKER AVENUE,SNEDIKER AVENUE,RIVERDALE AVENUE,NEWPORT STREET,,,ADDRESS,BROOKLYN,,N/A,Closed,,\"The Department of Housing Preservation and Development contacted an occupant of the apartment and verified that the following conditions were corrected. The complaint has been closed. If the condition still exists, please file a new complaint.\",10/30/2013 12:00:00 AM,05 BROOKLYN,3038340010,BROOKLYN,1012256,180417,PHONE,Unspecified,BROOKLYN,,,,,,,,40.66183541246747,-73.89905546915963,\"(40.66183541246747, -73.89905546915963)\"\n",
            "26578648,10/28/2013 12:00:00 AM,11/25/2013 12:00:00 AM,HPD,Department of Housing Preservation and Development,NONCONST,VERMIN,RESIDENTIAL BUILDING,11218,3615 FT HAMILTON PARKWAY,FT HAMILTON PARKWAY,36 STREET,37 STREET,,,ADDRESS,BROOKLYN,,N/A,Closed,,\"The Department of Housing Preservation and Development was not able to gain access to inspect the following conditions. The complaint has been closed. If the condition still exists, please file a new complaint.\",11/25/2013 12:00:00 AM,12 BROOKLYN,3052920027,BROOKLYN,987436,174065,PHONE,Unspecified,BROOKLYN,,,,,,,,40.64444427636009,-73.98851941086163,\"(40.64444427636009, -73.98851941086163)\"\n",
            "26578650,10/28/2013 04:51:48 PM,10/28/2013 08:55:11 PM,NYPD,New York City Police Department,Blocked Driveway,No Access,Street/Sidewalk,11373,40-22 79 STREET,79 STREET,ROOSEVELT AVENUE,41 AVENUE,,,ADDRESS,ELMHURST,,Precinct,Closed,10/29/2013 12:51:48 AM,The Police Department responded to the complaint and determined that police action was not necessary.,10/28/2013 08:55:11 PM,04 QUEENS,4014890017,QUEENS,1015662,211390,PHONE,Unspecified,QUEENS,,,,,,,,40.74683750531487,-73.88663445241028,\"(40.74683750531487, -73.88663445241028)\"\n"
          ],
          "name": "stdout"
        }
      ]
    },
    {
      "cell_type": "code",
      "metadata": {
        "id": "jfaOl-tdWsfH",
        "colab_type": "code",
        "outputId": "55dbac4e-9774-4802-ec6a-b4a8d54a0b8c",
        "colab": {
          "base_uri": "https://localhost:8080/",
          "height": 54
        }
      },
      "source": [
        "!head -1 rows.csv?accessType=DOWNLOAD"
      ],
      "execution_count": 0,
      "outputs": [
        {
          "output_type": "stream",
          "text": [
            "Unique Key,Created Date,Closed Date,Agency,Agency Name,Complaint Type,Descriptor,Location Type,Incident Zip,Incident Address,Street Name,Cross Street 1,Cross Street 2,Intersection Street 1,Intersection Street 2,Address Type,City,Landmark,Facility Type,Status,Due Date,Resolution Description,Resolution Action Updated Date,Community Board,BBL,Borough,X Coordinate (State Plane),Y Coordinate (State Plane),Open Data Channel Type,Park Facility Name,Park Borough,Vehicle Type,Taxi Company Borough,Taxi Pick Up Location,Bridge Highway Name,Bridge Highway Direction,Road Ramp,Bridge Highway Segment,Latitude,Longitude,Location\n"
          ],
          "name": "stdout"
        }
      ]
    },
    {
      "cell_type": "code",
      "metadata": {
        "id": "oUTZU-P1W9kj",
        "colab_type": "code",
        "colab": {}
      },
      "source": [
        "columns = \"\"\"Unique Key,Created Date,Closed Date,Agency,Agency Name,Complaint Type,Descriptor,Location Type,Incident Zip,Incident Address,Street Name,Cross Street 1,Cross Street 2,Intersection Street 1,Intersection Street 2,Address Type,City,Landmark,Facility Type,Status,Due Date,Resolution Description,Resolution Action Updated Date,Community Board,BBL,Borough,X Coordinate,Y Coordinate,Open Data Channel Type,Park Facility Name,Park Borough,Vehicle Type,Taxi Company Borough,Taxi Pick Up Location,Bridge Highway Name,Bridge Highway Direction,Road Ramp,Bridge Highway Segment,Latitude,Longitude,Location\"\"\""
      ],
      "execution_count": 0,
      "outputs": []
    },
    {
      "cell_type": "code",
      "metadata": {
        "id": "lA_Co5XzXYGz",
        "colab_type": "code",
        "outputId": "31884c29-9ce8-43db-e672-80a1984bbce2",
        "colab": {
          "base_uri": "https://localhost:8080/",
          "height": 190
        }
      },
      "source": [
        "columns = columns.replace(\" \",'_').replace('\\n','').lower().split(\",\")\n",
        "columns[:10]  # just showing the first few column names"
      ],
      "execution_count": 0,
      "outputs": [
        {
          "output_type": "execute_result",
          "data": {
            "text/plain": [
              "['unique_key',\n",
              " 'created_date',\n",
              " 'closed_date',\n",
              " 'agency',\n",
              " 'agency_name',\n",
              " 'complaint_type',\n",
              " 'descriptor',\n",
              " 'location_type',\n",
              " 'incident_zip',\n",
              " 'incident_address']"
            ]
          },
          "metadata": {
            "tags": []
          },
          "execution_count": 52
        }
      ]
    },
    {
      "cell_type": "code",
      "metadata": {
        "id": "y537oY2BXdFx",
        "colab_type": "code",
        "colab": {}
      },
      "source": [
        "nyc_schema = StructType([StructField(colName, StringType(), True) for colName in columns])"
      ],
      "execution_count": 0,
      "outputs": []
    },
    {
      "cell_type": "code",
      "metadata": {
        "id": "WijjCtDfYomP",
        "colab_type": "code",
        "outputId": "170d1c6a-80aa-4161-afd1-284be1c0b319",
        "colab": {
          "base_uri": "https://localhost:8080/",
          "height": 54
        }
      },
      "source": [
        "print(nyc_schema)"
      ],
      "execution_count": 0,
      "outputs": [
        {
          "output_type": "stream",
          "text": [
            "StructType(List(StructField(unique_key,StringType,true),StructField(created_date,StringType,true),StructField(closed_date,StringType,true),StructField(agency,StringType,true),StructField(agency_name,StringType,true),StructField(complaint_type,StringType,true),StructField(descriptor,StringType,true),StructField(location_type,StringType,true),StructField(incident_zip,StringType,true),StructField(incident_address,StringType,true),StructField(street_name,StringType,true),StructField(cross_street_1,StringType,true),StructField(cross_street_2,StringType,true),StructField(intersection_street_1,StringType,true),StructField(intersection_street_2,StringType,true),StructField(address_type,StringType,true),StructField(city,StringType,true),StructField(landmark,StringType,true),StructField(facility_type,StringType,true),StructField(status,StringType,true),StructField(due_date,StringType,true),StructField(resolution_description,StringType,true),StructField(resolution_action_updated_date,StringType,true),StructField(community_board,StringType,true),StructField(bbl,StringType,true),StructField(borough,StringType,true),StructField(x_coordinate,StringType,true),StructField(y_coordinate,StringType,true),StructField(open_data_channel_type,StringType,true),StructField(park_facility_name,StringType,true),StructField(park_borough,StringType,true),StructField(vehicle_type,StringType,true),StructField(taxi_company_borough,StringType,true),StructField(taxi_pick_up_location,StringType,true),StructField(bridge_highway_name,StringType,true),StructField(bridge_highway_direction,StringType,true),StructField(road_ramp,StringType,true),StructField(bridge_highway_segment,StringType,true),StructField(latitude,StringType,true),StructField(longitude,StringType,true),StructField(location,StringType,true)))\n"
          ],
          "name": "stdout"
        }
      ]
    },
    {
      "cell_type": "code",
      "metadata": {
        "id": "P1YJR_kYYwB3",
        "colab_type": "code",
        "colab": {}
      },
      "source": [
        "nyc311 = spark.read.csv(\"rows.csv?accessType=DOWNLOAD\",\n",
        "                         header = True, \n",
        "                         schema = nyc_schema)"
      ],
      "execution_count": 0,
      "outputs": []
    },
    {
      "cell_type": "code",
      "metadata": {
        "id": "g_HMt37vY9NO",
        "colab_type": "code",
        "outputId": "b900e9be-3898-4acd-9903-b0148e2e7d2f",
        "colab": {
          "base_uri": "https://localhost:8080/",
          "height": 294
        }
      },
      "source": [
        "nyc311.select('created_date','agency_name','city').show(10, truncate = False)"
      ],
      "execution_count": 0,
      "outputs": [
        {
          "output_type": "stream",
          "text": [
            "+----------------------+--------------------------------------------------+------------+\n",
            "|created_date          |agency_name                                       |city        |\n",
            "+----------------------+--------------------------------------------------+------------+\n",
            "|10/28/2013 12:00:00 AM|Department of Housing Preservation and Development|BRONX       |\n",
            "|10/28/2013 12:00:00 AM|Department of Housing Preservation and Development|BROOKLYN    |\n",
            "|10/28/2013 12:00:00 AM|Department of Housing Preservation and Development|BRONX       |\n",
            "|10/28/2013 12:00:00 AM|Department of Housing Preservation and Development|BRONX       |\n",
            "|10/28/2013 12:00:00 AM|Department of Housing Preservation and Development|Far Rockaway|\n",
            "|10/28/2013 12:00:00 AM|Department of Housing Preservation and Development|Jamaica     |\n",
            "|10/28/2013 12:00:00 AM|Department of Housing Preservation and Development|BROOKLYN    |\n",
            "|10/28/2013 12:00:00 AM|Department of Housing Preservation and Development|BROOKLYN    |\n",
            "|10/28/2013 04:51:48 PM|New York City Police Department                   |ELMHURST    |\n",
            "|10/28/2013 04:50:27 PM|Department of Transportation                      |FLUSHING    |\n",
            "+----------------------+--------------------------------------------------+------------+\n",
            "only showing top 10 rows\n",
            "\n"
          ],
          "name": "stdout"
        }
      ]
    },
    {
      "cell_type": "code",
      "metadata": {
        "id": "79dss3sCZLBl",
        "colab_type": "code",
        "outputId": "bc0cab30-64a2-4383-d2f3-b4afa31c07b9",
        "colab": {
          "base_uri": "https://localhost:8080/",
          "height": 34
        }
      },
      "source": [
        "nyc311.count()"
      ],
      "execution_count": 0,
      "outputs": [
        {
          "output_type": "execute_result",
          "data": {
            "text/plain": [
              "20589056"
            ]
          },
          "metadata": {
            "tags": []
          },
          "execution_count": 57
        }
      ]
    },
    {
      "cell_type": "code",
      "metadata": {
        "id": "G1lCl7JoaKfa",
        "colab_type": "code",
        "outputId": "4fea4133-f391-4716-f3f9-1a942fc33c29",
        "colab": {
          "base_uri": "https://localhost:8080/",
          "height": 227
        }
      },
      "source": [
        "nyc311.show(5)"
      ],
      "execution_count": 0,
      "outputs": [
        {
          "output_type": "stream",
          "text": [
            "+----------+--------------------+--------------------+------+--------------------+--------------+----------+--------------------+------------+--------------------+-----------------+---------------+-----------------+---------------------+---------------------+------------+------------+--------+-------------+------+--------+----------------------+------------------------------+------------------+----------+--------+------------+------------+----------------------+------------------+------------+------------+--------------------+---------------------+-------------------+------------------------+---------+----------------------+-----------------+------------------+--------------------+\n",
            "|unique_key|        created_date|         closed_date|agency|         agency_name|complaint_type|descriptor|       location_type|incident_zip|    incident_address|      street_name| cross_street_1|   cross_street_2|intersection_street_1|intersection_street_2|address_type|        city|landmark|facility_type|status|due_date|resolution_description|resolution_action_updated_date|   community_board|       bbl| borough|x_coordinate|y_coordinate|open_data_channel_type|park_facility_name|park_borough|vehicle_type|taxi_company_borough|taxi_pick_up_location|bridge_highway_name|bridge_highway_direction|road_ramp|bridge_highway_segment|         latitude|         longitude|            location|\n",
            "+----------+--------------------+--------------------+------+--------------------+--------------+----------+--------------------+------------+--------------------+-----------------+---------------+-----------------+---------------------+---------------------+------------+------------+--------+-------------+------+--------+----------------------+------------------------------+------------------+----------+--------+------------+------------+----------------------+------------------+------------+------------+--------------------+---------------------+-------------------+------------------------+---------+----------------------+-----------------+------------------+--------------------+\n",
            "|  26578637|10/28/2013 12:00:...|11/01/2013 12:00:...|   HPD|Department of Hou...|       HEATING|      HEAT|RESIDENTIAL BUILDING|       10466|3908 BRONX BOULEVARD|  BRONX BOULEVARD|EAST 222 STREET|  EAST 224 STREET|                 null|                 null|     ADDRESS|       BRONX|    null|          N/A|Closed|    null|  The Department of...|          11/01/2013 12:00:...|          12 BRONX|2048190026|   BRONX|     1021535|      262564|                 PHONE|       Unspecified|       BRONX|        null|                null|                 null|               null|                    null|     null|                  null|40.88727276266042|-73.86515459131641|(40.8872727626604...|\n",
            "|  26578638|10/28/2013 12:00:...|11/01/2013 12:00:...|   HPD|Department of Hou...|       HEATING|      HEAT|RESIDENTIAL BUILDING|       11225|580 EMPIRE BOULEVARD| EMPIRE BOULEVARD|   LAMONT COURT|  KINGSTON AVENUE|                 null|                 null|     ADDRESS|    BROOKLYN|    null|          N/A|Closed|    null|  More than one com...|          11/01/2013 12:00:...|       09 BROOKLYN|3013250022|BROOKLYN|     1000033|      181220|                 PHONE|       Unspecified|    BROOKLYN|        null|                null|                 null|               null|                    null|     null|                  null|40.66406969404813| -73.9431100244629|(40.6640696940481...|\n",
            "|  26578639|10/28/2013 12:00:...|11/01/2013 12:00:...|   HPD|Department of Hou...|       HEATING|      HEAT|RESIDENTIAL BUILDING|       10453|  57 WEST 175 STREET|  WEST 175 STREET|   GRAND AVENUE|     MACOMBS ROAD|                 null|                 null|     ADDRESS|       BRONX|    null|          N/A|Closed|    null|  The Department of...|          11/01/2013 12:00:...|          05 BRONX|2028660091|   BRONX|     1007711|      248280|                 PHONE|       Unspecified|       BRONX|        null|                null|                 null|               null|                    null|     null|                  null|40.84811513088202|-73.91520061603975|(40.8481151308820...|\n",
            "|  26578640|10/28/2013 12:00:...|11/01/2013 12:00:...|   HPD|Department of Hou...|       HEATING|      HEAT|RESIDENTIAL BUILDING|       10467|3704 WHITE PLAINS...|WHITE PLAINS ROAD|EAST 216 STREET|  EAST 217 STREET|                 null|                 null|     ADDRESS|       BRONX|    null|          N/A|Closed|    null|  More than one com...|          11/01/2013 12:00:...|          12 BRONX|2046640050|   BRONX|     1021892|      260509|                 PHONE|       Unspecified|       BRONX|        null|                null|                 null|               null|                    null|     null|                  null|40.88163092171958|-73.86387501205282|(40.8816309217195...|\n",
            "|  26578645|10/28/2013 12:00:...|03/06/2014 12:00:...|   HPD|Department of Hou...|      ELECTRIC|  LIGHTING|RESIDENTIAL BUILDING|       11691| 209 BEACH 31 STREET|  BEACH 31 STREET| SEAGIRT AVENUE|SEAGIRT BOULEVARD|                 null|                 null|     ADDRESS|Far Rockaway|    null|          N/A|Closed|    null|  The Department of...|          03/06/2014 12:00:...|Unspecified QUEENS|4158070122|  QUEENS|     1049876|      156127|                 PHONE|       Unspecified|      QUEENS|        null|                null|                 null|               null|                    null|     null|                  null| 40.5949658116368|-73.76369498664252|(40.5949658116368...|\n",
            "+----------+--------------------+--------------------+------+--------------------+--------------+----------+--------------------+------------+--------------------+-----------------+---------------+-----------------+---------------------+---------------------+------------+------------+--------+-------------+------+--------+----------------------+------------------------------+------------------+----------+--------+------------+------------+----------------------+------------------+------------+------------+--------------------+---------------------+-------------------+------------------------+---------+----------------------+-----------------+------------------+--------------------+\n",
            "only showing top 5 rows\n",
            "\n"
          ],
          "name": "stdout"
        }
      ]
    },
    {
      "cell_type": "code",
      "metadata": {
        "id": "0CaLMPf9aWSe",
        "colab_type": "code",
        "outputId": "dee36ffe-0296-4c8d-ce0e-47b64ed29f14",
        "colab": {
          "base_uri": "https://localhost:8080/",
          "height": 294
        }
      },
      "source": [
        "from datetime import datetime\n",
        "from pyspark.sql.functions import col,udf, year\n",
        "\n",
        "to_date_time =  udf(lambda x: datetime.strptime(x, '%m/%d/%Y %I:%M:%S %p'), TimestampType())\n",
        "nyc311_2 = nyc311.withColumn('created_date', to_date_time(col('created_date'))).withColumn('year', year('created_date'))\n",
        "nyc311_2.select(['created_date', 'year']).show(10)"
      ],
      "execution_count": 0,
      "outputs": [
        {
          "output_type": "stream",
          "text": [
            "+-------------------+----+\n",
            "|       created_date|year|\n",
            "+-------------------+----+\n",
            "|2013-10-28 00:00:00|2013|\n",
            "|2013-10-28 00:00:00|2013|\n",
            "|2013-10-28 00:00:00|2013|\n",
            "|2013-10-28 00:00:00|2013|\n",
            "|2013-10-28 00:00:00|2013|\n",
            "|2013-10-28 00:00:00|2013|\n",
            "|2013-10-28 00:00:00|2013|\n",
            "|2013-10-28 00:00:00|2013|\n",
            "|2013-10-28 16:51:48|2013|\n",
            "|2013-10-28 16:50:27|2013|\n",
            "+-------------------+----+\n",
            "only showing top 10 rows\n",
            "\n"
          ],
          "name": "stdout"
        }
      ]
    },
    {
      "cell_type": "code",
      "metadata": {
        "id": "Fk9FPeZQrDOO",
        "colab_type": "code",
        "colab": {}
      },
      "source": [
        "nyc311_2.sample(False, 0.5, 42).createOrReplaceTempView('nyc311_table')"
      ],
      "execution_count": 0,
      "outputs": []
    },
    {
      "cell_type": "code",
      "metadata": {
        "id": "lRRnLk41rFLW",
        "colab_type": "code",
        "colab": {}
      },
      "source": [
        "create_partitioned_table_sql = \"\"\"CREATE TABLE if not exists nyc311_orc_partitioned (unique_key STRING, created_date STRING, closed_date STRING, agency STRING, agency_name STRING, complaint_type STRING, descriptor STRING, location_type STRING, incident_zip STRING, incident_address STRING, street_name STRING, cross_street_1 STRING, cross_street_2 STRING, intersection_street_1 STRING, intersection_street_2  STRING, address_type STRING, city  STRING, landmark STRING, facility_type STRING, status STRING, due_date STRING, resolution_description  STRING,resolution_action_updated_date STRING, community_board STRING, bbl STRING, borough STRING, x_coordinate STRING, y_coordinate STRING, open_data_channel_type STRING, park_facility_name STRING, park_borough STRING, vehicle_type STRING, taxi_company_borough STRING, taxi_pick_up_location STRING, bridge_highway_name STRING, bridge_highway_direction  STRING, road_ramp STRING, bridge_highway_segment STRING, latitude STRING, longitude STRING, location STRING) PARTITIONED BY (year INT) STORED AS ORC \"\"\""
      ],
      "execution_count": 0,
      "outputs": []
    },
    {
      "cell_type": "code",
      "metadata": {
        "id": "zSx2zxnMrHNq",
        "colab_type": "code",
        "outputId": "9e9cad75-50c2-4b79-9944-870f2390528a",
        "colab": {
          "base_uri": "https://localhost:8080/",
          "height": 34
        }
      },
      "source": [
        "spark.sql(create_partitioned_table_sql)"
      ],
      "execution_count": 0,
      "outputs": [
        {
          "output_type": "execute_result",
          "data": {
            "text/plain": [
              "DataFrame[]"
            ]
          },
          "metadata": {
            "tags": []
          },
          "execution_count": 64
        }
      ]
    },
    {
      "cell_type": "code",
      "metadata": {
        "id": "2RXrnHJYrJVi",
        "colab_type": "code",
        "outputId": "2d1d1482-bf1c-4f76-eb6b-a009e9c24c4d",
        "colab": {
          "base_uri": "https://localhost:8080/",
          "height": 34
        }
      },
      "source": [
        "set_dynamic_mode  = \"SET hive.exec.dynamic.partition.mode = nonstrict\"\n",
        "spark.sql(set_dynamic_mode)"
      ],
      "execution_count": 0,
      "outputs": [
        {
          "output_type": "execute_result",
          "data": {
            "text/plain": [
              "DataFrame[key: string, value: string]"
            ]
          },
          "metadata": {
            "tags": []
          },
          "execution_count": 65
        }
      ]
    },
    {
      "cell_type": "code",
      "metadata": {
        "id": "3mlKA4sUrLUD",
        "colab_type": "code",
        "colab": {}
      },
      "source": [
        "insert_sql = \"\"\"INSERT INTO nyc311_orc_partitioned PARTITION (year) SELECT unique_key, created_date, closed_date, agency, agency_name, complaint_type, descriptor, location_type, incident_zip, incident_address, street_name, cross_street_1, cross_street_2, intersection_street_1, intersection_street_2, address_type, city, landmark, facility_type, status, due_date, resolution_description, resolution_action_updated_date, community_board, bbl, borough, x_coordinate, y_coordinate, open_data_channel_type, park_facility_name, park_borough, vehicle_type, taxi_company_borough, taxi_pick_up_location, bridge_highway_name, bridge_highway_direction, road_ramp, bridge_highway_segment, latitude, longitude, location, year FROM nyc311_table\"\"\""
      ],
      "execution_count": 0,
      "outputs": []
    },
    {
      "cell_type": "code",
      "metadata": {
        "id": "VyoOsBiBrQch",
        "colab_type": "code",
        "outputId": "41917bec-f2ad-47af-d8f8-322e0227603f",
        "colab": {
          "base_uri": "https://localhost:8080/",
          "height": 34
        }
      },
      "source": [
        "spark.sql(insert_sql)"
      ],
      "execution_count": 0,
      "outputs": [
        {
          "output_type": "execute_result",
          "data": {
            "text/plain": [
              "DataFrame[]"
            ]
          },
          "metadata": {
            "tags": []
          },
          "execution_count": 67
        }
      ]
    },
    {
      "cell_type": "code",
      "metadata": {
        "id": "cF_f9-PqrR3R",
        "colab_type": "code",
        "outputId": "322a3aaf-042b-4cdc-9f9d-958c38980314",
        "colab": {
          "base_uri": "https://localhost:8080/",
          "height": 276
        }
      },
      "source": [
        "spark.sql(\"show partitions nyc311_orc_partitioned\").show()"
      ],
      "execution_count": 0,
      "outputs": [
        {
          "output_type": "stream",
          "text": [
            "+---------+\n",
            "|partition|\n",
            "+---------+\n",
            "|year=2010|\n",
            "|year=2011|\n",
            "|year=2012|\n",
            "|year=2013|\n",
            "|year=2014|\n",
            "|year=2015|\n",
            "|year=2016|\n",
            "|year=2017|\n",
            "|year=2018|\n",
            "|year=2019|\n",
            "+---------+\n",
            "\n"
          ],
          "name": "stdout"
        }
      ]
    },
    {
      "cell_type": "code",
      "metadata": {
        "id": "pETtjbp6rc9o",
        "colab_type": "code",
        "outputId": "54551449-66b3-48f9-a1df-f852380b0edf",
        "colab": {
          "base_uri": "https://localhost:8080/",
          "height": 34
        }
      },
      "source": [
        "spark.sql('create table nyc311_orc_unpartitioned stored as orc as select * from nyc311_table')"
      ],
      "execution_count": 0,
      "outputs": [
        {
          "output_type": "execute_result",
          "data": {
            "text/plain": [
              "DataFrame[]"
            ]
          },
          "metadata": {
            "tags": []
          },
          "execution_count": 69
        }
      ]
    },
    {
      "cell_type": "code",
      "metadata": {
        "id": "ADKweHBErdwF",
        "colab_type": "code",
        "colab": {}
      },
      "source": [
        "import os"
      ],
      "execution_count": 0,
      "outputs": []
    },
    {
      "cell_type": "code",
      "metadata": {
        "id": "hM37BXKIrf9H",
        "colab_type": "code",
        "outputId": "9accb3c8-dc1c-4a48-e1df-1166fd424b61",
        "colab": {
          "base_uri": "https://localhost:8080/",
          "height": 190
        }
      },
      "source": [
        "os.listdir(\"spark-warehouse/nyc311_orc_unpartitioned\")[:10]"
      ],
      "execution_count": 0,
      "outputs": [
        {
          "output_type": "execute_result",
          "data": {
            "text/plain": [
              "['part-00016-fd414c7a-d2aa-4f51-b95d-69df19ad6dea-c000',\n",
              " '.part-00059-fd414c7a-d2aa-4f51-b95d-69df19ad6dea-c000.crc',\n",
              " 'part-00054-fd414c7a-d2aa-4f51-b95d-69df19ad6dea-c000',\n",
              " 'part-00017-fd414c7a-d2aa-4f51-b95d-69df19ad6dea-c000',\n",
              " '.part-00072-fd414c7a-d2aa-4f51-b95d-69df19ad6dea-c000.crc',\n",
              " '.part-00038-fd414c7a-d2aa-4f51-b95d-69df19ad6dea-c000.crc',\n",
              " 'part-00071-fd414c7a-d2aa-4f51-b95d-69df19ad6dea-c000',\n",
              " 'part-00056-fd414c7a-d2aa-4f51-b95d-69df19ad6dea-c000',\n",
              " '.part-00045-fd414c7a-d2aa-4f51-b95d-69df19ad6dea-c000.crc',\n",
              " '.part-00017-fd414c7a-d2aa-4f51-b95d-69df19ad6dea-c000.crc']"
            ]
          },
          "metadata": {
            "tags": []
          },
          "execution_count": 71
        }
      ]
    },
    {
      "cell_type": "code",
      "metadata": {
        "id": "vQsh7zWbrjtZ",
        "colab_type": "code",
        "outputId": "2e10f84a-4669-452e-d433-9d7d43755153",
        "colab": {
          "base_uri": "https://localhost:8080/",
          "height": 190
        }
      },
      "source": [
        "os.listdir(\"spark-warehouse/nyc311_orc_partitioned\")"
      ],
      "execution_count": 0,
      "outputs": [
        {
          "output_type": "execute_result",
          "data": {
            "text/plain": [
              "['year=2015',\n",
              " 'year=2019',\n",
              " 'year=2018',\n",
              " 'year=2016',\n",
              " 'year=2011',\n",
              " 'year=2010',\n",
              " 'year=2013',\n",
              " 'year=2014',\n",
              " 'year=2012',\n",
              " 'year=2017']"
            ]
          },
          "metadata": {
            "tags": []
          },
          "execution_count": 72
        }
      ]
    },
    {
      "cell_type": "code",
      "metadata": {
        "id": "uKvS2s18rrnG",
        "colab_type": "code",
        "outputId": "9ea318d5-fd7c-4f58-80c4-a3b6d66955cd",
        "colab": {
          "base_uri": "https://localhost:8080/",
          "height": 190
        }
      },
      "source": [
        "os.listdir(\"spark-warehouse/nyc311_orc_partitioned/year=2010\")[:10]"
      ],
      "execution_count": 0,
      "outputs": [
        {
          "output_type": "execute_result",
          "data": {
            "text/plain": [
              "['part-00074-0acd40fa-5f20-4d69-b546-52e25aae62fb.c000',\n",
              " 'part-00006-0acd40fa-5f20-4d69-b546-52e25aae62fb.c000',\n",
              " '.part-00059-0acd40fa-5f20-4d69-b546-52e25aae62fb.c000.crc',\n",
              " '.part-00026-0acd40fa-5f20-4d69-b546-52e25aae62fb.c000.crc',\n",
              " 'part-00018-0acd40fa-5f20-4d69-b546-52e25aae62fb.c000',\n",
              " '.part-00022-0acd40fa-5f20-4d69-b546-52e25aae62fb.c000.crc',\n",
              " 'part-00061-0acd40fa-5f20-4d69-b546-52e25aae62fb.c000',\n",
              " '.part-00071-0acd40fa-5f20-4d69-b546-52e25aae62fb.c000.crc',\n",
              " '.part-00079-0acd40fa-5f20-4d69-b546-52e25aae62fb.c000.crc',\n",
              " 'part-00075-0acd40fa-5f20-4d69-b546-52e25aae62fb.c000']"
            ]
          },
          "metadata": {
            "tags": []
          },
          "execution_count": 78
        }
      ]
    },
    {
      "cell_type": "code",
      "metadata": {
        "id": "hueGA6-urtiG",
        "colab_type": "code",
        "outputId": "865c3532-9561-49f3-a531-b2b5e26d5a48",
        "colab": {
          "base_uri": "https://localhost:8080/",
          "height": 34
        }
      },
      "source": [
        "import time\n",
        "t0 = time.time()\n",
        "aggregates = spark.sql(\"select agency_name, city, incident_zip, count(*) as frequency from nyc311_orc_unpartitioned where year = '2010' group by agency_name, city, incident_zip\").toPandas()\n",
        "t1 = time.time()\n",
        "\n",
        "print('time taken with unpartitioned table ', round(t1-t0,2))"
      ],
      "execution_count": 0,
      "outputs": [
        {
          "output_type": "stream",
          "text": [
            "time taken with unpartitioned table  13.04\n"
          ],
          "name": "stdout"
        }
      ]
    },
    {
      "cell_type": "code",
      "metadata": {
        "id": "Cb22llnwrwWC",
        "colab_type": "code",
        "outputId": "03d524b0-2dc4-4959-bb76-376818cb09d6",
        "colab": {
          "base_uri": "https://localhost:8080/",
          "height": 34
        }
      },
      "source": [
        "t0 = time.time()\n",
        "aggregates = spark.sql(\"select agency_name, city,incident_zip, count(*) as frequency from nyc311_orc_partitioned where year = '2010' group by agency_name, city, incident_zip\").toPandas()\n",
        "t1 = time.time()\n",
        "\n",
        "print('time taken with partitioned table ', round(t1-t0,2))"
      ],
      "execution_count": 0,
      "outputs": [
        {
          "output_type": "stream",
          "text": [
            "time taken with partitioned table  5.49\n"
          ],
          "name": "stdout"
        }
      ]
    },
    {
      "cell_type": "code",
      "metadata": {
        "id": "SgYXgAGs9JDZ",
        "colab_type": "code",
        "colab": {}
      },
      "source": [],
      "execution_count": 0,
      "outputs": []
    }
  ]
}