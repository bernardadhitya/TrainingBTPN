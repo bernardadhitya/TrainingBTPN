{
  "nbformat": 4,
  "nbformat_minor": 0,
  "metadata": {
    "colab": {
      "name": "HIVE_Partioning_Consumer_Complaint_Database.ipynb",
      "version": "0.3.2",
      "provenance": [],
      "collapsed_sections": [],
      "include_colab_link": true
    },
    "kernelspec": {
      "name": "python3",
      "display_name": "Python 3"
    }
  },
  "cells": [
    {
      "cell_type": "markdown",
      "metadata": {
        "id": "s0h7H-XJ2krU",
        "colab_type": "text"
      },
      "source": [
        "[Consumer Complaint Database](https://www.consumerfinance.gov/data-research/consumer-complaints/#download-the-data)"
      ]
    },
    {
      "cell_type": "code",
      "metadata": {
        "id": "JvXq8DnckEWi",
        "colab_type": "code",
        "colab": {
          "base_uri": "https://localhost:8080/",
          "height": 207
        },
        "outputId": "d23a78f7-a863-4234-ce64-7423bfbf7f5c"
      },
      "source": [
        "!wget https://data.consumerfinance.gov/api/views/s6ew-h6mp/rows.csv?accessType=DOWNLOAD"
      ],
      "execution_count": 5,
      "outputs": [
        {
          "output_type": "stream",
          "text": [
            "--2019-05-25 15:43:53--  https://data.consumerfinance.gov/api/views/s6ew-h6mp/rows.csv?accessType=DOWNLOAD\n",
            "Resolving data.consumerfinance.gov (data.consumerfinance.gov)... 52.206.68.26, 52.206.140.205, 52.206.140.199\n",
            "Connecting to data.consumerfinance.gov (data.consumerfinance.gov)|52.206.68.26|:443... connected.\n",
            "HTTP request sent, awaiting response... 200 OK\n",
            "Length: unspecified [text/csv]\n",
            "Saving to: ‘rows.csv?accessType=DOWNLOAD’\n",
            "\n",
            "rows.csv?accessType     [       <=>          ] 706.62M  5.37MB/s    in 79s     \n",
            "\n",
            "2019-05-25 15:45:15 (8.91 MB/s) - ‘rows.csv?accessType=DOWNLOAD’ saved [740947778]\n",
            "\n"
          ],
          "name": "stdout"
        }
      ]
    },
    {
      "cell_type": "code",
      "metadata": {
        "id": "opd3p4yGq7wZ",
        "colab_type": "code",
        "colab": {
          "base_uri": "https://localhost:8080/",
          "height": 34
        },
        "outputId": "5bc706df-8bec-417c-912b-635708f4b098"
      },
      "source": [
        "!wc -l rows.csv\\?accessType\\=DOWNLOAD"
      ],
      "execution_count": 7,
      "outputs": [
        {
          "output_type": "stream",
          "text": [
            "1982835 rows.csv?accessType=DOWNLOAD\n"
          ],
          "name": "stdout"
        }
      ]
    },
    {
      "cell_type": "code",
      "metadata": {
        "id": "TSWw83zKq-gz",
        "colab_type": "code",
        "colab": {}
      },
      "source": [
        "!mv rows.csv\\?accessType\\=DOWNLOAD consumer_complaints.csv"
      ],
      "execution_count": 0,
      "outputs": []
    },
    {
      "cell_type": "code",
      "metadata": {
        "id": "30xnZWzDrdTy",
        "colab_type": "code",
        "colab": {
          "base_uri": "https://localhost:8080/",
          "height": 124
        },
        "outputId": "affa78b9-180c-44e1-8391-28b32f86ab67"
      },
      "source": [
        "!head -5 consumer_complaints.csv"
      ],
      "execution_count": 12,
      "outputs": [
        {
          "output_type": "stream",
          "text": [
            "Date received,Product,Sub-product,Issue,Sub-issue,Consumer complaint narrative,Company public response,Company,State,ZIP code,Tags,Consumer consent provided?,Submitted via,Date sent to company,Company response to consumer,Timely response?,Consumer disputed?,Complaint ID\n",
            "05/24/2019,Debt collection,Medical debt,Written notification about debt,Didn't receive enough information to verify debt,,Company believes it acted appropriately as authorized by contract or law,\"GLA Collection Company, Inc.\",KY,40220,,Consent not provided,Web,05/24/2019,Closed with explanation,Yes,N/A,3252999\n",
            "05/24/2019,Credit card or prepaid card,General-purpose credit card or charge card,Problem with a purchase shown on your statement,Credit card company isn't resolving a dispute about a purchase on your statement,,,NAVY FEDERAL CREDIT UNION,VA,22153,,,Web,05/24/2019,In progress,Yes,N/A,3252728\n",
            "05/24/2019,Debt collection,Medical debt,Written notification about debt,Didn't receive notice of right to dispute,,Company believes it acted appropriately as authorized by contract or law,\"NIC, Inc.\",TX,78681,,,Web,05/24/2019,Closed with explanation,Yes,N/A,3252441\n",
            "05/24/2019,Mortgage,Other type of mortgage,Trouble during payment process,,,,\"BAYVIEW LOAN SERVICING, LLC\",NY,11412,,N/A,Postal mail,05/24/2019,In progress,Yes,N/A,3252928\n"
          ],
          "name": "stdout"
        }
      ]
    },
    {
      "cell_type": "code",
      "metadata": {
        "id": "A2PobfP1rtg4",
        "colab_type": "code",
        "colab": {
          "base_uri": "https://localhost:8080/",
          "height": 54
        },
        "outputId": "de05c055-8d3d-40b0-869d-f9522a339be6"
      },
      "source": [
        "!head -1 consumer_complaints.csv"
      ],
      "execution_count": 14,
      "outputs": [
        {
          "output_type": "stream",
          "text": [
            "Date received,Product,Sub-product,Issue,Sub-issue,Consumer complaint narrative,Company public response,Company,State,ZIP code,Tags,Consumer consent provided?,Submitted via,Date sent to company,Company response to consumer,Timely response?,Consumer disputed?,Complaint ID\n"
          ],
          "name": "stdout"
        }
      ]
    },
    {
      "cell_type": "code",
      "metadata": {
        "id": "HPE0oXnX1EUp",
        "colab_type": "code",
        "colab": {}
      },
      "source": [
        "columns = \"\"\"Date received,Product,Sub-product,Issue,Sub-issue,Consumer complaint narrative,Company public response,Company,State,\n",
        "ZIP code,Tags,Consumer consent provided?,Submitted via,Date sent to company,Company response to consumer,Timely response?,\n",
        "Consumer disputed?,Complaint ID\"\"\""
      ],
      "execution_count": 0,
      "outputs": []
    },
    {
      "cell_type": "code",
      "metadata": {
        "id": "gEWH0zif1SfV",
        "colab_type": "code",
        "colab": {}
      },
      "source": [
        "columns = columns.replace(\" \",'_').replace('\\n','').replace('?','').lower().split(\",\")\n",
        "# converting column names to lower case and replaced space by underscore"
      ],
      "execution_count": 0,
      "outputs": []
    },
    {
      "cell_type": "code",
      "metadata": {
        "id": "PQ-yEl7J1dAv",
        "colab_type": "code",
        "colab": {
          "base_uri": "https://localhost:8080/",
          "height": 328
        },
        "outputId": "26ba0e60-74d3-4045-b748-9b4e427ffced"
      },
      "source": [
        "columns"
      ],
      "execution_count": 18,
      "outputs": [
        {
          "output_type": "execute_result",
          "data": {
            "text/plain": [
              "['date_received',\n",
              " 'product',\n",
              " 'sub-product',\n",
              " 'issue',\n",
              " 'sub-issue',\n",
              " 'consumer_complaint_narrative',\n",
              " 'company_public_response',\n",
              " 'company',\n",
              " 'state',\n",
              " 'zip_code',\n",
              " 'tags',\n",
              " 'consumer_consent_provided',\n",
              " 'submitted_via',\n",
              " 'date_sent_to_company',\n",
              " 'company_response_to_consumer',\n",
              " 'timely_response',\n",
              " 'consumer_disputed',\n",
              " 'complaint_id']"
            ]
          },
          "metadata": {
            "tags": []
          },
          "execution_count": 18
        }
      ]
    },
    {
      "cell_type": "code",
      "metadata": {
        "id": "RIRAj2Rc1fnc",
        "colab_type": "code",
        "colab": {
          "base_uri": "https://localhost:8080/",
          "height": 34
        },
        "outputId": "ad197d14-8a03-4bf4-c93c-a0822938a608"
      },
      "source": [
        "len(columns)"
      ],
      "execution_count": 19,
      "outputs": [
        {
          "output_type": "execute_result",
          "data": {
            "text/plain": [
              "18"
            ]
          },
          "metadata": {
            "tags": []
          },
          "execution_count": 19
        }
      ]
    },
    {
      "cell_type": "code",
      "metadata": {
        "id": "gi2OzD971jxR",
        "colab_type": "code",
        "colab": {
          "base_uri": "https://localhost:8080/",
          "height": 244
        },
        "outputId": "a7176c7e-46f3-41fa-ea2b-5a3f9e37aeeb"
      },
      "source": [
        "!apt-get install openjdk-8-jdk-headless -qq > /dev/null\n",
        "!wget -q http://www-eu.apache.org/dist/spark/spark-2.3.3/spark-2.3.3-bin-hadoop2.7.tgz\n",
        "!tar xf spark-2.3.3-bin-hadoop2.7.tgz\n",
        "!pip install -q findspark\n",
        "!pip install pyspark"
      ],
      "execution_count": 20,
      "outputs": [
        {
          "output_type": "stream",
          "text": [
            "Collecting pyspark\n",
            "\u001b[?25l  Downloading https://files.pythonhosted.org/packages/37/98/244399c0daa7894cdf387e7007d5e8b3710a79b67f3fd991c0b0b644822d/pyspark-2.4.3.tar.gz (215.6MB)\n",
            "\u001b[K     |████████████████████████████████| 215.6MB 104kB/s \n",
            "\u001b[?25hCollecting py4j==0.10.7 (from pyspark)\n",
            "\u001b[?25l  Downloading https://files.pythonhosted.org/packages/e3/53/c737818eb9a7dc32a7cd4f1396e787bd94200c3997c72c1dbe028587bd76/py4j-0.10.7-py2.py3-none-any.whl (197kB)\n",
            "\u001b[K     |████████████████████████████████| 204kB 39.3MB/s \n",
            "\u001b[?25hBuilding wheels for collected packages: pyspark\n",
            "  Building wheel for pyspark (setup.py) ... \u001b[?25l\u001b[?25hdone\n",
            "  Stored in directory: /root/.cache/pip/wheels/8d/20/f0/b30e2024226dc112e256930dd2cd4f06d00ab053c86278dcf3\n",
            "Successfully built pyspark\n",
            "Installing collected packages: py4j, pyspark\n",
            "Successfully installed py4j-0.10.7 pyspark-2.4.3\n"
          ],
          "name": "stdout"
        }
      ]
    },
    {
      "cell_type": "code",
      "metadata": {
        "id": "pwSpjk9Y1sFa",
        "colab_type": "code",
        "colab": {}
      },
      "source": [
        "import os\n",
        "os.environ[\"JAVA_HOME\"] = \"/usr/lib/jvm/java-8-openjdk-amd64\"\n",
        "os.environ[\"SPARK_HOME\"] = \"/content/spark-2.3.3-bin-hadoop2.7\""
      ],
      "execution_count": 0,
      "outputs": []
    },
    {
      "cell_type": "markdown",
      "metadata": {
        "id": "RkcpY0pg2GwW",
        "colab_type": "text"
      },
      "source": [
        "**Initializing SparkSession**\n",
        "\n",
        "Using stand alone Spark and instantiated SparkSession with Hive support which creates spark-warehouse."
      ]
    },
    {
      "cell_type": "code",
      "metadata": {
        "id": "mFGQO3SF1zGx",
        "colab_type": "code",
        "colab": {}
      },
      "source": [
        "import findspark\n",
        "findspark.init()\n",
        "from pyspark.sql import SparkSession\n",
        "spark = SparkSession.builder.enableHiveSupport().config(\"spark.network.timeout\", '200s').getOrCreate()\n",
        "from pyspark.sql.types import *"
      ],
      "execution_count": 0,
      "outputs": []
    },
    {
      "cell_type": "code",
      "metadata": {
        "id": "bvXVn8gW1_IB",
        "colab_type": "code",
        "colab": {}
      },
      "source": [
        "# Define schema\n",
        "consumer_schema = StructType([StructField(colName, StringType(), True) for colName in columns]) "
      ],
      "execution_count": 0,
      "outputs": []
    },
    {
      "cell_type": "code",
      "metadata": {
        "id": "7XzvLb7u2zWY",
        "colab_type": "code",
        "colab": {}
      },
      "source": [
        "# Read Data\n",
        "cc = spark.read.csv(\"consumer_complaints.csv\",\n",
        "                         header = True, \n",
        "                         schema = consumer_schema)"
      ],
      "execution_count": 0,
      "outputs": []
    },
    {
      "cell_type": "code",
      "metadata": {
        "id": "bTikigl73ZkM",
        "colab_type": "code",
        "colab": {
          "base_uri": "https://localhost:8080/",
          "height": 314
        },
        "outputId": "145ed97c-a7f5-4b72-d712-ec71693649b5"
      },
      "source": [
        "cc.show(10, truncate = False)"
      ],
      "execution_count": 29,
      "outputs": [
        {
          "output_type": "stream",
          "text": [
            "+-------------+----------------------------------------------------------------------------+------------------------------------------+-----------------------------------------------+--------------------------------------------------------------------------------+----------------------------+------------------------------------------------------------------------+---------------------------------+-----+--------+-------------+-------------------------+-------------+--------------------+----------------------------+---------------+-----------------+------------+\n",
            "|date_received|product                                                                     |sub-product                               |issue                                          |sub-issue                                                                       |consumer_complaint_narrative|company_public_response                                                 |company                          |state|zip_code|tags         |consumer_consent_provided|submitted_via|date_sent_to_company|company_response_to_consumer|timely_response|consumer_disputed|complaint_id|\n",
            "+-------------+----------------------------------------------------------------------------+------------------------------------------+-----------------------------------------------+--------------------------------------------------------------------------------+----------------------------+------------------------------------------------------------------------+---------------------------------+-----+--------+-------------+-------------------------+-------------+--------------------+----------------------------+---------------+-----------------+------------+\n",
            "|05/24/2019   |Debt collection                                                             |Medical debt                              |Written notification about debt                |Didn't receive enough information to verify debt                                |null                        |Company believes it acted appropriately as authorized by contract or law|GLA Collection Company, Inc.     |KY   |40220   |null         |Consent not provided     |Web          |05/24/2019          |Closed with explanation     |Yes            |N/A              |3252999     |\n",
            "|05/24/2019   |Credit card or prepaid card                                                 |General-purpose credit card or charge card|Problem with a purchase shown on your statement|Credit card company isn't resolving a dispute about a purchase on your statement|null                        |null                                                                    |NAVY FEDERAL CREDIT UNION        |VA   |22153   |null         |null                     |Web          |05/24/2019          |In progress                 |Yes            |N/A              |3252728     |\n",
            "|05/24/2019   |Debt collection                                                             |Medical debt                              |Written notification about debt                |Didn't receive notice of right to dispute                                       |null                        |Company believes it acted appropriately as authorized by contract or law|NIC, Inc.                        |TX   |78681   |null         |null                     |Web          |05/24/2019          |Closed with explanation     |Yes            |N/A              |3252441     |\n",
            "|05/24/2019   |Mortgage                                                                    |Other type of mortgage                    |Trouble during payment process                 |null                                                                            |null                        |null                                                                    |BAYVIEW LOAN SERVICING, LLC      |NY   |11412   |null         |N/A                      |Postal mail  |05/24/2019          |In progress                 |Yes            |N/A              |3252928     |\n",
            "|05/24/2019   |Credit reporting, credit repair services, or other personal consumer reports|Credit reporting                          |Incorrect information on your report           |Account status incorrect                                                        |null                        |null                                                                    |Diversified Consultants, Inc.    |MN   |55117   |null         |null                     |Web          |05/24/2019          |In progress                 |Yes            |N/A              |3252385     |\n",
            "|05/24/2019   |Debt collection                                                             |Medical debt                              |Attempts to collect debt not owed              |Debt was paid                                                                   |null                        |null                                                                    |ONLINE Information Services, Inc.|TN   |38128   |null         |null                     |Web          |05/24/2019          |Closed with explanation     |Yes            |N/A              |3252932     |\n",
            "|05/24/2019   |Checking or savings account                                                 |Checking account                          |Managing an account                            |Problem accessing account                                                       |null                        |null                                                                    |ALLY FINANCIAL INC.              |TX   |78232   |null         |null                     |Web          |05/24/2019          |In progress                 |Yes            |N/A              |3253195     |\n",
            "|05/24/2019   |Credit reporting, credit repair services, or other personal consumer reports|Credit reporting                          |Improper use of your report                    |Credit inquiries on your report that you don't recognize                        |null                        |null                                                                    |ALLY FINANCIAL INC.              |SC   |29501   |null         |null                     |Web          |05/24/2019          |In progress                 |Yes            |N/A              |3252522     |\n",
            "|05/24/2019   |Credit reporting, credit repair services, or other personal consumer reports|Credit reporting                          |Incorrect information on your report           |Account status incorrect                                                        |null                        |null                                                                    |ALLY FINANCIAL INC.              |IL   |60175   |Servicemember|null                     |Web          |05/24/2019          |In progress                 |Yes            |N/A              |3252865     |\n",
            "|05/24/2019   |Debt collection                                                             |Other debt                                |Attempts to collect debt not owed              |Debt was result of identity theft                                               |null                        |Company believes it acted appropriately as authorized by contract or law|McCarthy, Burgess & Wolff, Inc.  |CA   |90036   |null         |null                     |Web          |05/24/2019          |Closed with explanation     |Yes            |N/A              |3252456     |\n",
            "+-------------+----------------------------------------------------------------------------+------------------------------------------+-----------------------------------------------+--------------------------------------------------------------------------------+----------------------------+------------------------------------------------------------------------+---------------------------------+-----+--------+-------------+-------------------------+-------------+--------------------+----------------------------+---------------+-----------------+------------+\n",
            "only showing top 10 rows\n",
            "\n"
          ],
          "name": "stdout"
        }
      ]
    },
    {
      "cell_type": "code",
      "metadata": {
        "id": "nHXt2YfT3kGh",
        "colab_type": "code",
        "colab": {
          "base_uri": "https://localhost:8080/",
          "height": 210
        },
        "outputId": "7b79d049-434b-4df6-99a8-91d6c0c62b7c"
      },
      "source": [
        "!tail -10 consumer_complaints.csv"
      ],
      "execution_count": 30,
      "outputs": [
        {
          "output_type": "stream",
          "text": [
            "12/01/2011,Credit card,,Credit determination,,,,TD BANK US HOLDING COMPANY,IL,60302,,N/A,Referral,12/01/2011,Closed without relief,Yes,No,2207\n",
            "12/01/2011,Mortgage,Home equity loan or line of credit,\"Loan modification,collection,foreclosure\",,,,\"BANK OF AMERICA, NATIONAL ASSOCIATION\",MI,48197,,N/A,Phone,12/02/2011,Closed without relief,No,No,2231\n",
            "12/01/2011,Mortgage,Conventional adjustable mortgage (ARM),\"Loan servicing, payments, escrow account\",,,,\"BANK OF AMERICA, NATIONAL ASSOCIATION\",CO,80920,,N/A,Web,12/01/2011,Closed with relief,Yes,No,2315\n",
            "12/01/2011,Credit card,,Other,,,,HSBC NORTH AMERICA HOLDINGS INC.,MD,20747,,N/A,Referral,12/19/2011,Closed without relief,Yes,No,2254\n",
            "12/01/2011,Credit card,,Credit determination,,,,\"CITIBANK, N.A.\",MO,63301,,N/A,Web,12/02/2011,Closed with relief,Yes,No,2396\n",
            "12/01/2011,Credit card,,Credit reporting,,,,CAPITAL ONE FINANCIAL CORPORATION,MD,21218,Older American,N/A,Web,12/02/2011,Closed with relief,Yes,Yes,2261\n",
            "12/01/2011,Credit card,,Credit reporting,,,,CAPITAL ONE FINANCIAL CORPORATION,AZ,85704,,N/A,Referral,12/01/2011,Closed without relief,Yes,No,2051\n",
            "12/01/2011,Credit card,,Payoff process,,,,CAPITAL ONE FINANCIAL CORPORATION,CA,941XX,,N/A,Phone,12/05/2011,Closed without relief,Yes,Yes,2374\n",
            "12/01/2011,Credit card,,APR or interest rate,,,,\"CITIBANK, N.A.\",CO,80503,Servicemember,N/A,Web,12/09/2011,Closed with relief,Yes,No,2327\n",
            "12/01/2011,Credit card,,Other,,,,\"CITIBANK, N.A.\",TX,77389,,N/A,Referral,12/01/2011,Closed without relief,Yes,No,2270\n"
          ],
          "name": "stdout"
        }
      ]
    },
    {
      "cell_type": "code",
      "metadata": {
        "id": "rF3ODG4Q4OCp",
        "colab_type": "code",
        "colab": {
          "base_uri": "https://localhost:8080/",
          "height": 363
        },
        "outputId": "f2ab3846-4bb2-4c0f-bb22-f10e9815a8eb"
      },
      "source": [
        "cc.printSchema()"
      ],
      "execution_count": 31,
      "outputs": [
        {
          "output_type": "stream",
          "text": [
            "root\n",
            " |-- date_received: string (nullable = true)\n",
            " |-- product: string (nullable = true)\n",
            " |-- sub-product: string (nullable = true)\n",
            " |-- issue: string (nullable = true)\n",
            " |-- sub-issue: string (nullable = true)\n",
            " |-- consumer_complaint_narrative: string (nullable = true)\n",
            " |-- company_public_response: string (nullable = true)\n",
            " |-- company: string (nullable = true)\n",
            " |-- state: string (nullable = true)\n",
            " |-- zip_code: string (nullable = true)\n",
            " |-- tags: string (nullable = true)\n",
            " |-- consumer_consent_provided: string (nullable = true)\n",
            " |-- submitted_via: string (nullable = true)\n",
            " |-- date_sent_to_company: string (nullable = true)\n",
            " |-- company_response_to_consumer: string (nullable = true)\n",
            " |-- timely_response: string (nullable = true)\n",
            " |-- consumer_disputed: string (nullable = true)\n",
            " |-- complaint_id: string (nullable = true)\n",
            "\n"
          ],
          "name": "stdout"
        }
      ]
    },
    {
      "cell_type": "markdown",
      "metadata": {
        "id": "WK3fj9Hy4GDg",
        "colab_type": "text"
      },
      "source": [
        "Change data type of the date_received column to timestamp and create year column\n",
        "Now, let's change the data type of the date_received from string to timestamp format and create year column from it. We will use the year column for partitioning."
      ]
    },
    {
      "cell_type": "code",
      "metadata": {
        "id": "w9_Z948532fd",
        "colab_type": "code",
        "colab": {
          "base_uri": "https://localhost:8080/",
          "height": 314
        },
        "outputId": "28a4d788-c54b-4c97-b46d-e4c7540f6b86"
      },
      "source": [
        "from datetime import datetime\n",
        "from pyspark.sql.functions import col, udf, year\n",
        "\n",
        "to_date_time =  udf(lambda x: datetime.strptime(x, '%m/%d/%Y'), TimestampType())\n",
        "cc_2 = cc.withColumn('date_received', to_date_time(col('date_received'))).withColumn('year', year('date_received'))\n",
        "cc_2.show(10)"
      ],
      "execution_count": 34,
      "outputs": [
        {
          "output_type": "stream",
          "text": [
            "+-------------------+--------------------+--------------------+--------------------+--------------------+----------------------------+-----------------------+--------------------+-----+--------+-------------+-------------------------+-------------+--------------------+----------------------------+---------------+-----------------+------------+----+\n",
            "|      date_received|             product|         sub-product|               issue|           sub-issue|consumer_complaint_narrative|company_public_response|             company|state|zip_code|         tags|consumer_consent_provided|submitted_via|date_sent_to_company|company_response_to_consumer|timely_response|consumer_disputed|complaint_id|year|\n",
            "+-------------------+--------------------+--------------------+--------------------+--------------------+----------------------------+-----------------------+--------------------+-----+--------+-------------+-------------------------+-------------+--------------------+----------------------------+---------------+-----------------+------------+----+\n",
            "|2019-05-24 00:00:00|     Debt collection|        Medical debt|Written notificat...|Didn't receive en...|                        null|   Company believes ...|GLA Collection Co...|   KY|   40220|         null|     Consent not provided|          Web|          05/24/2019|        Closed with expla...|            Yes|              N/A|     3252999|2019|\n",
            "|2019-05-24 00:00:00|Credit card or pr...|General-purpose c...|Problem with a pu...|Credit card compa...|                        null|                   null|NAVY FEDERAL CRED...|   VA|   22153|         null|                     null|          Web|          05/24/2019|                 In progress|            Yes|              N/A|     3252728|2019|\n",
            "|2019-05-24 00:00:00|     Debt collection|        Medical debt|Written notificat...|Didn't receive no...|                        null|   Company believes ...|           NIC, Inc.|   TX|   78681|         null|                     null|          Web|          05/24/2019|        Closed with expla...|            Yes|              N/A|     3252441|2019|\n",
            "|2019-05-24 00:00:00|            Mortgage|Other type of mor...|Trouble during pa...|                null|                        null|                   null|BAYVIEW LOAN SERV...|   NY|   11412|         null|                      N/A|  Postal mail|          05/24/2019|                 In progress|            Yes|              N/A|     3252928|2019|\n",
            "|2019-05-24 00:00:00|Credit reporting,...|    Credit reporting|Incorrect informa...|Account status in...|                        null|                   null|Diversified Consu...|   MN|   55117|         null|                     null|          Web|          05/24/2019|                 In progress|            Yes|              N/A|     3252385|2019|\n",
            "|2019-05-24 00:00:00|     Debt collection|        Medical debt|Attempts to colle...|       Debt was paid|                        null|                   null|ONLINE Informatio...|   TN|   38128|         null|                     null|          Web|          05/24/2019|        Closed with expla...|            Yes|              N/A|     3252932|2019|\n",
            "|2019-05-24 00:00:00|Checking or savin...|    Checking account| Managing an account|Problem accessing...|                        null|                   null| ALLY FINANCIAL INC.|   TX|   78232|         null|                     null|          Web|          05/24/2019|                 In progress|            Yes|              N/A|     3253195|2019|\n",
            "|2019-05-24 00:00:00|Credit reporting,...|    Credit reporting|Improper use of y...|Credit inquiries ...|                        null|                   null| ALLY FINANCIAL INC.|   SC|   29501|         null|                     null|          Web|          05/24/2019|                 In progress|            Yes|              N/A|     3252522|2019|\n",
            "|2019-05-24 00:00:00|Credit reporting,...|    Credit reporting|Incorrect informa...|Account status in...|                        null|                   null| ALLY FINANCIAL INC.|   IL|   60175|Servicemember|                     null|          Web|          05/24/2019|                 In progress|            Yes|              N/A|     3252865|2019|\n",
            "|2019-05-24 00:00:00|     Debt collection|          Other debt|Attempts to colle...|Debt was result o...|                        null|   Company believes ...|McCarthy, Burgess...|   CA|   90036|         null|                     null|          Web|          05/24/2019|        Closed with expla...|            Yes|              N/A|     3252456|2019|\n",
            "+-------------------+--------------------+--------------------+--------------------+--------------------+----------------------------+-----------------------+--------------------+-----+--------+-------------+-------------------------+-------------+--------------------+----------------------------+---------------+-----------------+------------+----+\n",
            "only showing top 10 rows\n",
            "\n"
          ],
          "name": "stdout"
        }
      ]
    },
    {
      "cell_type": "markdown",
      "metadata": {
        "id": "UCs45GUt5FUR",
        "colab_type": "text"
      },
      "source": [
        "**Create Partitioned Table**"
      ]
    },
    {
      "cell_type": "code",
      "metadata": {
        "id": "pfg0XX9R4g_D",
        "colab_type": "code",
        "colab": {}
      },
      "source": [
        "cc.sample(False, 0.5, 42).createOrReplaceTempView('cc_table')\n",
        "cc_2.sample(False, 0.5, 42).createOrReplaceTempView('cc2_table')"
      ],
      "execution_count": 0,
      "outputs": []
    },
    {
      "cell_type": "code",
      "metadata": {
        "id": "oUXFh-A05SMc",
        "colab_type": "code",
        "colab": {}
      },
      "source": [],
      "execution_count": 0,
      "outputs": []
    },
    {
      "cell_type": "code",
      "metadata": {
        "id": "ix6Xyp9E4hB5",
        "colab_type": "code",
        "colab": {
          "base_uri": "https://localhost:8080/",
          "height": 314
        },
        "outputId": "f42932d0-509e-4a7d-a1a4-866b2fe9fe26"
      },
      "source": [
        "spark.sql(\"select * from cc_table\").show(10)"
      ],
      "execution_count": 37,
      "outputs": [
        {
          "output_type": "stream",
          "text": [
            "+-------------+--------------------+--------------------+--------------------+--------------------+----------------------------+-----------------------+--------------------+-----+--------+-------------+-------------------------+-------------+--------------------+----------------------------+---------------+-----------------+------------+\n",
            "|date_received|             product|         sub-product|               issue|           sub-issue|consumer_complaint_narrative|company_public_response|             company|state|zip_code|         tags|consumer_consent_provided|submitted_via|date_sent_to_company|company_response_to_consumer|timely_response|consumer_disputed|complaint_id|\n",
            "+-------------+--------------------+--------------------+--------------------+--------------------+----------------------------+-----------------------+--------------------+-----+--------+-------------+-------------------------+-------------+--------------------+----------------------------+---------------+-----------------+------------+\n",
            "|   05/24/2019|Credit reporting,...|    Credit reporting|Incorrect informa...|Account status in...|                        null|                   null|Diversified Consu...|   MN|   55117|         null|                     null|          Web|          05/24/2019|                 In progress|            Yes|              N/A|     3252385|\n",
            "|   05/24/2019|Checking or savin...|    Checking account| Managing an account|Problem accessing...|                        null|                   null| ALLY FINANCIAL INC.|   TX|   78232|         null|                     null|          Web|          05/24/2019|                 In progress|            Yes|              N/A|     3253195|\n",
            "|   05/24/2019|Credit reporting,...|    Credit reporting|Improper use of y...|Credit inquiries ...|                        null|                   null| ALLY FINANCIAL INC.|   SC|   29501|         null|                     null|          Web|          05/24/2019|                 In progress|            Yes|              N/A|     3252522|\n",
            "|   05/24/2019|Credit reporting,...|    Credit reporting|Incorrect informa...|Account status in...|                        null|                   null| ALLY FINANCIAL INC.|   IL|   60175|Servicemember|                     null|          Web|          05/24/2019|                 In progress|            Yes|              N/A|     3252865|\n",
            "|   05/24/2019|     Debt collection|          Other debt|Attempts to colle...|   Debt is not yours|                        null|                   null|Diversified Consu...|   NC|   28347|         null|                     null|          Web|          05/24/2019|                 In progress|            Yes|              N/A|     3252699|\n",
            "|   05/24/2019|        Student loan|Federal student l...|Dealing with your...|Trouble with how ...|                        null|                   null|Utah System of Hi...|   NC|   28273|         null|                     null|          Web|          05/24/2019|                 In progress|            Yes|              N/A|     3252599|\n",
            "|   05/24/2019|Credit reporting,...|    Credit reporting|Incorrect informa...|Account status in...|                        null|                   null|Westlake Services...|   FL|   34744|Servicemember|                     null|          Web|          05/24/2019|        Closed with expla...|            Yes|              N/A|     3251320|\n",
            "|   05/24/2019|     Debt collection|       I do not know|Attempts to colle...|   Debt is not yours|                        null|                   null|Diversified Consu...|   TX|   77079|         null|                     null|          Web|          05/24/2019|                 In progress|            Yes|              N/A|     3252381|\n",
            "|   05/24/2019|Credit reporting,...|    Credit reporting|Incorrect informa...|Account status in...|                        null|                   null|Solomon and Solom...|   NY|   14094|         null|                     null|          Web|          05/24/2019|        Closed with expla...|            Yes|              N/A|     3252949|\n",
            "|   05/23/2019|     Debt collection|        Medical debt|Attempts to colle...|       Debt was paid|                        null|                   null|               Sarma|   TX|   75473|         null|                     null|          Web|          05/23/2019|                 In progress|            Yes|              N/A|     3251442|\n",
            "+-------------+--------------------+--------------------+--------------------+--------------------+----------------------------+-----------------------+--------------------+-----+--------+-------------+-------------------------+-------------+--------------------+----------------------------+---------------+-----------------+------------+\n",
            "only showing top 10 rows\n",
            "\n"
          ],
          "name": "stdout"
        }
      ]
    },
    {
      "cell_type": "code",
      "metadata": {
        "id": "YgfODLCR5Yjl",
        "colab_type": "code",
        "colab": {
          "base_uri": "https://localhost:8080/",
          "height": 314
        },
        "outputId": "15b947d8-9d53-419b-fc68-fd1a9e7152ce"
      },
      "source": [
        "spark.sql(\"select * from cc2_table\").show(10)"
      ],
      "execution_count": 38,
      "outputs": [
        {
          "output_type": "stream",
          "text": [
            "+-------------------+--------------------+--------------------+--------------------+--------------------+----------------------------+-----------------------+--------------------+-----+--------+-------------+-------------------------+-------------+--------------------+----------------------------+---------------+-----------------+------------+----+\n",
            "|      date_received|             product|         sub-product|               issue|           sub-issue|consumer_complaint_narrative|company_public_response|             company|state|zip_code|         tags|consumer_consent_provided|submitted_via|date_sent_to_company|company_response_to_consumer|timely_response|consumer_disputed|complaint_id|year|\n",
            "+-------------------+--------------------+--------------------+--------------------+--------------------+----------------------------+-----------------------+--------------------+-----+--------+-------------+-------------------------+-------------+--------------------+----------------------------+---------------+-----------------+------------+----+\n",
            "|2019-05-24 00:00:00|Credit reporting,...|    Credit reporting|Incorrect informa...|Account status in...|                        null|                   null|Diversified Consu...|   MN|   55117|         null|                     null|          Web|          05/24/2019|                 In progress|            Yes|              N/A|     3252385|2019|\n",
            "|2019-05-24 00:00:00|Checking or savin...|    Checking account| Managing an account|Problem accessing...|                        null|                   null| ALLY FINANCIAL INC.|   TX|   78232|         null|                     null|          Web|          05/24/2019|                 In progress|            Yes|              N/A|     3253195|2019|\n",
            "|2019-05-24 00:00:00|Credit reporting,...|    Credit reporting|Improper use of y...|Credit inquiries ...|                        null|                   null| ALLY FINANCIAL INC.|   SC|   29501|         null|                     null|          Web|          05/24/2019|                 In progress|            Yes|              N/A|     3252522|2019|\n",
            "|2019-05-24 00:00:00|Credit reporting,...|    Credit reporting|Incorrect informa...|Account status in...|                        null|                   null| ALLY FINANCIAL INC.|   IL|   60175|Servicemember|                     null|          Web|          05/24/2019|                 In progress|            Yes|              N/A|     3252865|2019|\n",
            "|2019-05-24 00:00:00|     Debt collection|          Other debt|Attempts to colle...|   Debt is not yours|                        null|                   null|Diversified Consu...|   NC|   28347|         null|                     null|          Web|          05/24/2019|                 In progress|            Yes|              N/A|     3252699|2019|\n",
            "|2019-05-24 00:00:00|        Student loan|Federal student l...|Dealing with your...|Trouble with how ...|                        null|                   null|Utah System of Hi...|   NC|   28273|         null|                     null|          Web|          05/24/2019|                 In progress|            Yes|              N/A|     3252599|2019|\n",
            "|2019-05-24 00:00:00|Credit reporting,...|    Credit reporting|Incorrect informa...|Account status in...|                        null|                   null|Westlake Services...|   FL|   34744|Servicemember|                     null|          Web|          05/24/2019|        Closed with expla...|            Yes|              N/A|     3251320|2019|\n",
            "|2019-05-24 00:00:00|     Debt collection|       I do not know|Attempts to colle...|   Debt is not yours|                        null|                   null|Diversified Consu...|   TX|   77079|         null|                     null|          Web|          05/24/2019|                 In progress|            Yes|              N/A|     3252381|2019|\n",
            "|2019-05-24 00:00:00|Credit reporting,...|    Credit reporting|Incorrect informa...|Account status in...|                        null|                   null|Solomon and Solom...|   NY|   14094|         null|                     null|          Web|          05/24/2019|        Closed with expla...|            Yes|              N/A|     3252949|2019|\n",
            "|2019-05-23 00:00:00|     Debt collection|        Medical debt|Attempts to colle...|       Debt was paid|                        null|                   null|               Sarma|   TX|   75473|         null|                     null|          Web|          05/23/2019|                 In progress|            Yes|              N/A|     3251442|2019|\n",
            "+-------------------+--------------------+--------------------+--------------------+--------------------+----------------------------+-----------------------+--------------------+-----+--------+-------------+-------------------------+-------------+--------------------+----------------------------+---------------+-----------------+------------+----+\n",
            "only showing top 10 rows\n",
            "\n"
          ],
          "name": "stdout"
        }
      ]
    },
    {
      "cell_type": "code",
      "metadata": {
        "id": "D6uXtAEz5bvL",
        "colab_type": "code",
        "colab": {
          "base_uri": "https://localhost:8080/",
          "height": 294
        },
        "outputId": "52a9c239-07b5-4420-a973-ca2f9335b5c6"
      },
      "source": [
        "spark.sql(\"select YEAR(date_received) from cc_table\").show(10)"
      ],
      "execution_count": 39,
      "outputs": [
        {
          "output_type": "stream",
          "text": [
            "+---------------------------------+\n",
            "|year(CAST(date_received AS DATE))|\n",
            "+---------------------------------+\n",
            "|                             null|\n",
            "|                             null|\n",
            "|                             null|\n",
            "|                             null|\n",
            "|                             null|\n",
            "|                             null|\n",
            "|                             null|\n",
            "|                             null|\n",
            "|                             null|\n",
            "|                             null|\n",
            "+---------------------------------+\n",
            "only showing top 10 rows\n",
            "\n"
          ],
          "name": "stdout"
        }
      ]
    },
    {
      "cell_type": "code",
      "metadata": {
        "id": "srt4CvSL5sEF",
        "colab_type": "code",
        "colab": {}
      },
      "source": [],
      "execution_count": 0,
      "outputs": []
    }
  ]
}