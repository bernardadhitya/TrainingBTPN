{
  "nbformat": 4,
  "nbformat_minor": 0,
  "metadata": {
    "colab": {
      "name": "SparkSQL_911_Emergency_Helpline_Number_Data_Analysis.ipynb",
      "version": "0.3.2",
      "provenance": [],
      "include_colab_link": true
    },
    "kernelspec": {
      "name": "python3",
      "display_name": "Python 3"
    }
  },
  "cells": [
    {
      "cell_type": "markdown",
      "metadata": {
        "id": "view-in-github",
        "colab_type": "text"
      },
      "source": [
        "<a href=\"https://colab.research.google.com/github/Nik8x/Pyspark/blob/master/SparkSQL_911_Emergency_Helpline_Number_Data_Analysis/SparkSQL_911_Emergency_Helpline_Number_Data_Analysis.ipynb\" target=\"_parent\"><img src=\"https://colab.research.google.com/assets/colab-badge.svg\" alt=\"Open In Colab\"/></a>"
      ]
    },
    {
      "metadata": {
        "id": "mxnvWc5RVCXC",
        "colab_type": "code",
        "colab": {}
      },
      "cell_type": "code",
      "source": [
        "!apt-get install openjdk-8-jdk-headless -qq > /dev/null\n",
        "!wget -q http://www-eu.apache.org/dist/spark/spark-2.3.3/spark-2.3.3-bin-hadoop2.7.tgz\n",
        "!tar xf spark-2.3.3-bin-hadoop2.7.tgz\n",
        "!pip install -q findspark\n",
        "!pip install pyspark"
      ],
      "execution_count": 0,
      "outputs": []
    },
    {
      "metadata": {
        "id": "fOywCCZ1WBKa",
        "colab_type": "code",
        "colab": {}
      },
      "cell_type": "code",
      "source": [
        "import os\n",
        "os.environ[\"JAVA_HOME\"] = \"/usr/lib/jvm/java-8-openjdk-amd64\"\n",
        "os.environ[\"SPARK_HOME\"] = \"/content/spark-2.3.3-bin-hadoop2.7\""
      ],
      "execution_count": 0,
      "outputs": []
    },
    {
      "metadata": {
        "id": "njO4aptgWvsy",
        "colab_type": "code",
        "colab": {}
      },
      "cell_type": "code",
      "source": [
        "import findspark\n",
        "findspark.init()\n",
        "\n",
        "import pyspark # only run after findspark.init()\n",
        "from pyspark.sql import SparkSession\n",
        "from pyspark.sql import Row\n",
        "spark = SparkSession.builder.getOrCreate()\n",
        "\n",
        "sc = spark.sparkContext\n",
        "\n",
        "import pandas as pd\n",
        "import matplotlib.pyplot as plt\n",
        "\n",
        "# from pyspark.ml.feature import OneHotEncoder, StringIndexer, IndexToString, VectorAssembler\n",
        "# from pyspark.ml.regression import RandomForestRegressor, LinearRegression\n",
        "# from pyspark.ml.evaluation import MulticlassClassificationEvaluator, RegressionEvaluator\n",
        "# from pyspark.ml import Pipeline, Model\n",
        "from pyspark.sql.functions import col"
      ],
      "execution_count": 0,
      "outputs": []
    },
    {
      "metadata": {
        "id": "RdqQWgXskr_e",
        "colab_type": "code",
        "colab": {}
      },
      "cell_type": "code",
      "source": [
        "from pyspark.sql import SQLContext\n",
        "sql_context = SQLContext(sc)"
      ],
      "execution_count": 0,
      "outputs": []
    },
    {
      "metadata": {
        "id": "x0ap8cG7W21I",
        "colab_type": "code",
        "colab": {}
      },
      "cell_type": "code",
      "source": [
        "df = spark.read.format(\"csv\").options(header=\"true\").load(\"911.csv\")"
      ],
      "execution_count": 0,
      "outputs": []
    },
    {
      "metadata": {
        "id": "TfbmiT_1YZPM",
        "colab_type": "code",
        "outputId": "2a1fb8f5-0381-4f62-f2aa-01f05e7daee9",
        "colab": {
          "base_uri": "https://localhost:8080/",
          "height": 33
        }
      },
      "cell_type": "code",
      "source": [
        "type(df)"
      ],
      "execution_count": 0,
      "outputs": [
        {
          "output_type": "execute_result",
          "data": {
            "text/plain": [
              "pyspark.sql.dataframe.DataFrame"
            ]
          },
          "metadata": {
            "tags": []
          },
          "execution_count": 8
        }
      ]
    },
    {
      "metadata": {
        "id": "rnNqCRh_Ya6x",
        "colab_type": "code",
        "outputId": "68e4da9c-d0d0-4c77-d3d1-57e2460d8f2d",
        "colab": {
          "base_uri": "https://localhost:8080/",
          "height": 201
        }
      },
      "cell_type": "code",
      "source": [
        "df.show(5)"
      ],
      "execution_count": 0,
      "outputs": [
        {
          "output_type": "stream",
          "text": [
            "+----------+-----------+--------------------+-----+--------------------+-------------------+-----------------+--------------------+---+\n",
            "|       lat|        lng|                desc|  zip|               title|          timeStamp|              twp|                addr|  e|\n",
            "+----------+-----------+--------------------+-----+--------------------+-------------------+-----------------+--------------------+---+\n",
            "|40.2978759|-75.5812935|REINDEER CT & DEA...|19525|EMS: BACK PAINS/I...|2015-12-10 17:40:00|      NEW HANOVER|REINDEER CT & DEA...|  1|\n",
            "|40.2580614|-75.2646799|BRIAR PATH & WHIT...|19446|EMS: DIABETIC EME...|2015-12-10 17:40:00|HATFIELD TOWNSHIP|BRIAR PATH & WHIT...|  1|\n",
            "|40.1211818|-75.3519752|HAWS AVE; NORRIST...|19401| Fire: GAS-ODOR/LEAK|2015-12-10 17:40:00|       NORRISTOWN|            HAWS AVE|  1|\n",
            "|40.1161530|-75.3435130|AIRY ST & SWEDE S...|19401|EMS: CARDIAC EMER...|2015-12-10 17:40:01|       NORRISTOWN|  AIRY ST & SWEDE ST|  1|\n",
            "|40.2514920|-75.6033497|CHERRYWOOD CT & D...| null|      EMS: DIZZINESS|2015-12-10 17:40:01| LOWER POTTSGROVE|CHERRYWOOD CT & D...|  1|\n",
            "+----------+-----------+--------------------+-----+--------------------+-------------------+-----------------+--------------------+---+\n",
            "only showing top 5 rows\n",
            "\n"
          ],
          "name": "stdout"
        }
      ]
    },
    {
      "metadata": {
        "id": "3IRJE2rOYdbg",
        "colab_type": "code",
        "colab": {}
      },
      "cell_type": "code",
      "source": [
        "data = sc.textFile(\"911.csv\")"
      ],
      "execution_count": 0,
      "outputs": []
    },
    {
      "metadata": {
        "id": "GOjZpv7gY7WG",
        "colab_type": "code",
        "outputId": "5e6253fe-2952-4ccc-da54-3f81055bdc50",
        "colab": {
          "base_uri": "https://localhost:8080/",
          "height": 154
        }
      },
      "cell_type": "code",
      "source": [
        "print(type(data))\n",
        "\n",
        "print(type(data.take(5)))\n",
        "\n",
        "data.take(5)"
      ],
      "execution_count": 0,
      "outputs": [
        {
          "output_type": "stream",
          "text": [
            "<class 'pyspark.rdd.RDD'>\n",
            "<class 'list'>\n"
          ],
          "name": "stdout"
        },
        {
          "output_type": "execute_result",
          "data": {
            "text/plain": [
              "['lat,lng,desc,zip,title,timeStamp,twp,addr,e',\n",
              " '40.2978759,-75.5812935,REINDEER CT & DEAD END;  NEW HANOVER; Station 332; 2015-12-10 @ 17:10:52;,19525,EMS: BACK PAINS/INJURY,2015-12-10 17:40:00,NEW HANOVER,REINDEER CT & DEAD END,1',\n",
              " '40.2580614,-75.2646799,BRIAR PATH & WHITEMARSH LN;  HATFIELD TOWNSHIP; Station 345; 2015-12-10 @ 17:29:21;,19446,EMS: DIABETIC EMERGENCY,2015-12-10 17:40:00,HATFIELD TOWNSHIP,BRIAR PATH & WHITEMARSH LN,1',\n",
              " '40.1211818,-75.3519752,HAWS AVE; NORRISTOWN; 2015-12-10 @ 14:39:21-Station:STA27;,19401,Fire: GAS-ODOR/LEAK,2015-12-10 17:40:00,NORRISTOWN,HAWS AVE,1',\n",
              " '40.1161530,-75.3435130,AIRY ST & SWEDE ST;  NORRISTOWN; Station 308A; 2015-12-10 @ 16:47:36;,19401,EMS: CARDIAC EMERGENCY,2015-12-10 17:40:01,NORRISTOWN,AIRY ST & SWEDE ST,1']"
            ]
          },
          "metadata": {
            "tags": []
          },
          "execution_count": 24
        }
      ]
    },
    {
      "metadata": {
        "id": "mCAMN8unYwao",
        "colab_type": "code",
        "outputId": "8273d4ff-bde1-42bc-f026-4f29ad2eb273",
        "colab": {
          "base_uri": "https://localhost:8080/",
          "height": 50
        }
      },
      "cell_type": "code",
      "source": [
        "header = data.first()\n",
        "print(type(header))\n",
        "header"
      ],
      "execution_count": 0,
      "outputs": [
        {
          "output_type": "stream",
          "text": [
            "<class 'str'>\n"
          ],
          "name": "stdout"
        },
        {
          "output_type": "execute_result",
          "data": {
            "text/plain": [
              "'lat,lng,desc,zip,title,timeStamp,twp,addr,e'"
            ]
          },
          "metadata": {
            "tags": []
          },
          "execution_count": 27
        }
      ]
    },
    {
      "metadata": {
        "id": "W7qrb04fY0h5",
        "colab_type": "code",
        "outputId": "af910a4d-0c89-4f3c-a72d-97a1d99d6176",
        "colab": {
          "base_uri": "https://localhost:8080/",
          "height": 70
        }
      },
      "cell_type": "code",
      "source": [
        "data1 = data.filter(lambda row: row != header)\n",
        "data1.take(2)"
      ],
      "execution_count": 0,
      "outputs": [
        {
          "output_type": "execute_result",
          "data": {
            "text/plain": [
              "['40.2978759,-75.5812935,REINDEER CT & DEAD END;  NEW HANOVER; Station 332; 2015-12-10 @ 17:10:52;,19525,EMS: BACK PAINS/INJURY,2015-12-10 17:40:00,NEW HANOVER,REINDEER CT & DEAD END,1',\n",
              " '40.2580614,-75.2646799,BRIAR PATH & WHITEMARSH LN;  HATFIELD TOWNSHIP; Station 345; 2015-12-10 @ 17:29:21;,19446,EMS: DIABETIC EMERGENCY,2015-12-10 17:40:00,HATFIELD TOWNSHIP,BRIAR PATH & WHITEMARSH LN,1']"
            ]
          },
          "metadata": {
            "tags": []
          },
          "execution_count": 36
        }
      ]
    },
    {
      "metadata": {
        "id": "9umysUXRa8zX",
        "colab_type": "code",
        "outputId": "791f6cec-6829-4049-bf09-46de141f6cd4",
        "colab": {
          "base_uri": "https://localhost:8080/",
          "height": 167
        }
      },
      "cell_type": "code",
      "source": [
        "data1.map(lambda x: x.split(\",\")).take(1)#.filter(x => x.length>=9).map(x => emergency(x(0),x(1),x(2),x(3),x(4).substring(0 , x(4).indexOf(\":\")),x(5),x(6),x(7),x(8))).toDF"
      ],
      "execution_count": 0,
      "outputs": [
        {
          "output_type": "execute_result",
          "data": {
            "text/plain": [
              "[['40.2978759',\n",
              "  '-75.5812935',\n",
              "  'REINDEER CT & DEAD END;  NEW HANOVER; Station 332; 2015-12-10 @ 17:10:52;',\n",
              "  '19525',\n",
              "  'EMS: BACK PAINS/INJURY',\n",
              "  '2015-12-10 17:40:00',\n",
              "  'NEW HANOVER',\n",
              "  'REINDEER CT & DEAD END',\n",
              "  '1']]"
            ]
          },
          "metadata": {
            "tags": []
          },
          "execution_count": 37
        }
      ]
    },
    {
      "metadata": {
        "id": "mSYi90NubKHA",
        "colab_type": "code",
        "outputId": "7128a025-e281-44f8-9d01-b00550b0189c",
        "colab": {
          "base_uri": "https://localhost:8080/",
          "height": 167
        }
      },
      "cell_type": "code",
      "source": [
        "data1.map(lambda x: x.split(\",\")).filter(lambda x: len(x) >= 9).take(1)"
      ],
      "execution_count": 0,
      "outputs": [
        {
          "output_type": "execute_result",
          "data": {
            "text/plain": [
              "[['40.2978759',\n",
              "  '-75.5812935',\n",
              "  'REINDEER CT & DEAD END;  NEW HANOVER; Station 332; 2015-12-10 @ 17:10:52;',\n",
              "  '19525',\n",
              "  'EMS: BACK PAINS/INJURY',\n",
              "  '2015-12-10 17:40:00',\n",
              "  'NEW HANOVER',\n",
              "  'REINDEER CT & DEAD END',\n",
              "  '1']]"
            ]
          },
          "metadata": {
            "tags": []
          },
          "execution_count": 48
        }
      ]
    },
    {
      "metadata": {
        "id": "vlmgATGEdIZz",
        "colab_type": "code",
        "outputId": "dd05cb71-e485-48b1-fd9b-4a1f51ef0753",
        "colab": {
          "base_uri": "https://localhost:8080/",
          "height": 33
        }
      },
      "cell_type": "code",
      "source": [
        "data1.map(lambda x: x.split(\",\")).filter(lambda x: len(x) >= 9).take(1)[0][4][0: data1.map(lambda x: x.split(\",\")).filter(lambda x: len(x) >= 9).take(1)[0][4].index(\":\")]"
      ],
      "execution_count": 0,
      "outputs": [
        {
          "output_type": "execute_result",
          "data": {
            "text/plain": [
              "'EMS'"
            ]
          },
          "metadata": {
            "tags": []
          },
          "execution_count": 75
        }
      ]
    },
    {
      "metadata": {
        "id": "Ox1EBKJ5bgf6",
        "colab_type": "code",
        "outputId": "82ca8c80-735d-401f-ded0-8ec4745932fb",
        "colab": {
          "base_uri": "https://localhost:8080/",
          "height": 70
        }
      },
      "cell_type": "code",
      "source": [
        "data1.map(lambda x: x.split(\",\")).filter(lambda x: len(x) >= 9).map(lambda x: Row(lat = x[0], lng = x[1], desc = x[2], zip_code = x[3], title = x[4][0 : x[4].index(\":\")], timeStamp = x[5], twp = x[6], addr = x[7], e = x[8])).take(2)"
      ],
      "execution_count": 0,
      "outputs": [
        {
          "output_type": "execute_result",
          "data": {
            "text/plain": [
              "[Row(addr='REINDEER CT & DEAD END', desc='REINDEER CT & DEAD END;  NEW HANOVER; Station 332; 2015-12-10 @ 17:10:52;', e='1', lat='40.2978759', lng='-75.5812935', timeStamp='2015-12-10 17:40:00', title='EMS', twp='NEW HANOVER', zip_code='19525'),\n",
              " Row(addr='BRIAR PATH & WHITEMARSH LN', desc='BRIAR PATH & WHITEMARSH LN;  HATFIELD TOWNSHIP; Station 345; 2015-12-10 @ 17:29:21;', e='1', lat='40.2580614', lng='-75.2646799', timeStamp='2015-12-10 17:40:00', title='EMS', twp='HATFIELD TOWNSHIP', zip_code='19446')]"
            ]
          },
          "metadata": {
            "tags": []
          },
          "execution_count": 92
        }
      ]
    },
    {
      "metadata": {
        "id": "VmzTfCe-jBZ_",
        "colab_type": "code",
        "outputId": "30ac3b7f-2de2-4b57-8e7b-919ca54693db",
        "colab": {
          "base_uri": "https://localhost:8080/",
          "height": 33
        }
      },
      "cell_type": "code",
      "source": [
        "emergency_data = data1.map(lambda x: x.split(\",\")).filter(lambda x: len(x) >= 9).map(lambda x: Row(lat = x[0], lng = x[1], desc = x[2], zip_code = x[3], title = x[4][0 : x[4].index(\":\")], timeStamp = x[5], twp = x[6], addr = x[7], e = x[8])).toDF()\n",
        "emergency_data"
      ],
      "execution_count": 0,
      "outputs": [
        {
          "output_type": "execute_result",
          "data": {
            "text/plain": [
              "DataFrame[addr: string, desc: string, e: string, lat: string, lng: string, timeStamp: string, title: string, twp: string, zip_code: string]"
            ]
          },
          "metadata": {
            "tags": []
          },
          "execution_count": 94
        }
      ]
    },
    {
      "metadata": {
        "id": "btAQf-UTn7u7",
        "colab_type": "code",
        "outputId": "55839cf2-4e71-459b-d20d-b43b1fbd20e0",
        "colab": {
          "base_uri": "https://localhost:8080/",
          "height": 150
        }
      },
      "cell_type": "code",
      "source": [
        "emergency_data.show(2)"
      ],
      "execution_count": 0,
      "outputs": [
        {
          "output_type": "stream",
          "text": [
            "+--------------------+--------------------+---+----------+-----------+-------------------+-----+-----------------+--------+\n",
            "|                addr|                desc|  e|       lat|        lng|          timeStamp|title|              twp|zip_code|\n",
            "+--------------------+--------------------+---+----------+-----------+-------------------+-----+-----------------+--------+\n",
            "|REINDEER CT & DEA...|REINDEER CT & DEA...|  1|40.2978759|-75.5812935|2015-12-10 17:40:00|  EMS|      NEW HANOVER|   19525|\n",
            "|BRIAR PATH & WHIT...|BRIAR PATH & WHIT...|  1|40.2580614|-75.2646799|2015-12-10 17:40:00|  EMS|HATFIELD TOWNSHIP|   19446|\n",
            "+--------------------+--------------------+---+----------+-----------+-------------------+-----+-----------------+--------+\n",
            "only showing top 2 rows\n",
            "\n"
          ],
          "name": "stdout"
        }
      ]
    },
    {
      "metadata": {
        "id": "LpLOIrAqoRwF",
        "colab_type": "code",
        "outputId": "da70eeee-5600-4cf4-9fb7-08aeb6516dc7",
        "colab": {
          "base_uri": "https://localhost:8080/",
          "height": 50
        }
      },
      "cell_type": "code",
      "source": [
        "print(type(emergency_data))\n",
        "emergency_data.count()"
      ],
      "execution_count": 0,
      "outputs": [
        {
          "output_type": "stream",
          "text": [
            "<class 'pyspark.sql.dataframe.DataFrame'>\n"
          ],
          "name": "stdout"
        },
        {
          "output_type": "execute_result",
          "data": {
            "text/plain": [
              "99492"
            ]
          },
          "metadata": {
            "tags": []
          },
          "execution_count": 133
        }
      ]
    },
    {
      "metadata": {
        "id": "kifPyTMmoAQK",
        "colab_type": "code",
        "outputId": "f015a4e5-881a-47e7-cb5a-2f08fa7d6ec6",
        "colab": {
          "base_uri": "https://localhost:8080/",
          "height": 201
        }
      },
      "cell_type": "code",
      "source": [
        "emergency_data.printSchema()"
      ],
      "execution_count": 0,
      "outputs": [
        {
          "output_type": "stream",
          "text": [
            "root\n",
            " |-- addr: string (nullable = true)\n",
            " |-- desc: string (nullable = true)\n",
            " |-- e: string (nullable = true)\n",
            " |-- lat: string (nullable = true)\n",
            " |-- lng: string (nullable = true)\n",
            " |-- timeStamp: string (nullable = true)\n",
            " |-- title: string (nullable = true)\n",
            " |-- twp: string (nullable = true)\n",
            " |-- zip_code: string (nullable = true)\n",
            "\n"
          ],
          "name": "stdout"
        }
      ]
    },
    {
      "metadata": {
        "id": "QPpjxp6qkX_E",
        "colab_type": "code",
        "colab": {}
      },
      "cell_type": "code",
      "source": [
        "emergency_data.registerTempTable(\"emergency_911\")"
      ],
      "execution_count": 0,
      "outputs": []
    },
    {
      "metadata": {
        "id": "vHECqLS4koIw",
        "colab_type": "code",
        "colab": {}
      },
      "cell_type": "code",
      "source": [
        "data2 = sc.textFile(\"zipcode.csv\")\n",
        "header1 = data2.first()\n",
        "data3 = data2.filter(lambda row: row != header1)"
      ],
      "execution_count": 0,
      "outputs": []
    },
    {
      "metadata": {
        "id": "iiT27N4EmHU6",
        "colab_type": "code",
        "outputId": "a8b8ff1b-0a8a-4fce-8dbb-600169a6fc02",
        "colab": {
          "base_uri": "https://localhost:8080/",
          "height": 50
        }
      },
      "cell_type": "code",
      "source": [
        "data2.take(2)"
      ],
      "execution_count": 0,
      "outputs": [
        {
          "output_type": "execute_result",
          "data": {
            "text/plain": [
              "['\"zip\",\"city\",\"state\",\"latitude\",\"longitude\",\"timezone\",\"dst\"',\n",
              " '\"00210\",\"Portsmouth\",\"NH\",\"43.005895\",\"-71.013202\",\"-5\",\"1\"']"
            ]
          },
          "metadata": {
            "tags": []
          },
          "execution_count": 104
        }
      ]
    },
    {
      "metadata": {
        "id": "QHLpzck-mK9J",
        "colab_type": "code",
        "outputId": "ffbd1bc2-7efc-420b-d1a1-1bd0f20272f0",
        "colab": {
          "base_uri": "https://localhost:8080/",
          "height": 50
        }
      },
      "cell_type": "code",
      "source": [
        "data3.take(2)"
      ],
      "execution_count": 0,
      "outputs": [
        {
          "output_type": "execute_result",
          "data": {
            "text/plain": [
              "['\"00210\",\"Portsmouth\",\"NH\",\"43.005895\",\"-71.013202\",\"-5\",\"1\"',\n",
              " '\"00211\",\"Portsmouth\",\"NH\",\"43.005895\",\"-71.013202\",\"-5\",\"1\"']"
            ]
          },
          "metadata": {
            "tags": []
          },
          "execution_count": 105
        }
      ]
    },
    {
      "metadata": {
        "id": "H5YUI3YOmTZx",
        "colab_type": "code",
        "outputId": "b4e91f5e-21e6-4129-a9de-3411e5aa4e6f",
        "colab": {
          "base_uri": "https://localhost:8080/",
          "height": 33
        }
      },
      "cell_type": "code",
      "source": [
        "data3.map(lambda x: x.split(\",\")).map(lambda x: Row(zip_code = x[0].replace('\"', \"\"), city = x[1].replace('\"', \"\"), state = x[2].replace('\"', \"\"), latitude = x[3].replace('\"', \"\"), longitude = x[4].replace('\"', \"\"), timezone = x[5].replace('\"', \"\"), dst = x[6].replace('\"', \"\"))).take(1)"
      ],
      "execution_count": 0,
      "outputs": [
        {
          "output_type": "execute_result",
          "data": {
            "text/plain": [
              "[Row(city='Portsmouth', dst='1', latitude='43.005895', longitude='-71.013202', state='NH', timezone='-5', zip_code='00210')]"
            ]
          },
          "metadata": {
            "tags": []
          },
          "execution_count": 125
        }
      ]
    },
    {
      "metadata": {
        "id": "qXK4BgrXnyds",
        "colab_type": "code",
        "outputId": "5e370edd-1b8a-4a4b-f36a-6c0c10105c6c",
        "colab": {
          "base_uri": "https://localhost:8080/",
          "height": 150
        }
      },
      "cell_type": "code",
      "source": [
        "zipcodes = data3.map(lambda x: x.split(\",\")).map(lambda x: Row(zip_code = x[0].replace('\"', \"\"), city = x[1].replace('\"', \"\"), state = x[2].replace('\"', \"\"), latitude = x[3].replace('\"', \"\"), longitude = x[4].replace('\"', \"\"), timezone = x[5].replace('\"', \"\"), dst = x[6].replace('\"', \"\"))).toDF()\n",
        "zipcodes.show(2)"
      ],
      "execution_count": 0,
      "outputs": [
        {
          "output_type": "stream",
          "text": [
            "+----------+---+---------+----------+-----+--------+--------+\n",
            "|      city|dst| latitude| longitude|state|timezone|zip_code|\n",
            "+----------+---+---------+----------+-----+--------+--------+\n",
            "|Portsmouth|  1|43.005895|-71.013202|   NH|      -5|   00210|\n",
            "|Portsmouth|  1|43.005895|-71.013202|   NH|      -5|   00211|\n",
            "+----------+---+---------+----------+-----+--------+--------+\n",
            "only showing top 2 rows\n",
            "\n"
          ],
          "name": "stdout"
        }
      ]
    },
    {
      "metadata": {
        "id": "2b5S8mVwoZeb",
        "colab_type": "code",
        "outputId": "0546c62a-0537-4ce2-d165-c5163c2cceb2",
        "colab": {
          "base_uri": "https://localhost:8080/",
          "height": 33
        }
      },
      "cell_type": "code",
      "source": [
        "zipcodes.count(), type(zipcodes)"
      ],
      "execution_count": 0,
      "outputs": [
        {
          "output_type": "execute_result",
          "data": {
            "text/plain": [
              "(43191, pyspark.sql.dataframe.DataFrame)"
            ]
          },
          "metadata": {
            "tags": []
          },
          "execution_count": 132
        }
      ]
    },
    {
      "metadata": {
        "id": "Tci_BNR0opnh",
        "colab_type": "code",
        "colab": {}
      },
      "cell_type": "code",
      "source": [
        "zipcodes.createOrReplaceTempView(\"zipcode_table\")"
      ],
      "execution_count": 0,
      "outputs": []
    },
    {
      "metadata": {
        "id": "km7h1Nd5qvEV",
        "colab_type": "code",
        "outputId": "4cbda7ca-f7e4-4182-d07d-a6627f5230f4",
        "colab": {
          "base_uri": "https://localhost:8080/",
          "height": 33
        }
      },
      "cell_type": "code",
      "source": [
        "type(sql_context), type(sql_context.sql)"
      ],
      "execution_count": 0,
      "outputs": [
        {
          "output_type": "execute_result",
          "data": {
            "text/plain": [
              "(pyspark.sql.context.SQLContext, method)"
            ]
          },
          "metadata": {
            "tags": []
          },
          "execution_count": 147
        }
      ]
    },
    {
      "metadata": {
        "id": "XWiiENgsp7R0",
        "colab_type": "code",
        "outputId": "1552f98d-fedb-4d6e-b7ae-911a32ccc696",
        "colab": {
          "base_uri": "https://localhost:8080/",
          "height": 167
        }
      },
      "cell_type": "code",
      "source": [
        "print(type(sql_context.sql(\"select * from emergency_911\")))\n",
        "sql_context.sql(\"select * from emergency_911\").show(2)"
      ],
      "execution_count": 0,
      "outputs": [
        {
          "output_type": "stream",
          "text": [
            "<class 'pyspark.sql.dataframe.DataFrame'>\n",
            "+--------------------+--------------------+---+----------+-----------+-------------------+-----+-----------------+--------+\n",
            "|                addr|                desc|  e|       lat|        lng|          timeStamp|title|              twp|zip_code|\n",
            "+--------------------+--------------------+---+----------+-----------+-------------------+-----+-----------------+--------+\n",
            "|REINDEER CT & DEA...|REINDEER CT & DEA...|  1|40.2978759|-75.5812935|2015-12-10 17:40:00|  EMS|      NEW HANOVER|   19525|\n",
            "|BRIAR PATH & WHIT...|BRIAR PATH & WHIT...|  1|40.2580614|-75.2646799|2015-12-10 17:40:00|  EMS|HATFIELD TOWNSHIP|   19446|\n",
            "+--------------------+--------------------+---+----------+-----------+-------------------+-----+-----------------+--------+\n",
            "only showing top 2 rows\n",
            "\n"
          ],
          "name": "stdout"
        }
      ]
    },
    {
      "metadata": {
        "id": "cElG_jsyrKjd",
        "colab_type": "code",
        "outputId": "c2cc2bed-d801-4eaa-b685-3e70b13b13e3",
        "colab": {
          "base_uri": "https://localhost:8080/",
          "height": 167
        }
      },
      "cell_type": "code",
      "source": [
        "print(type(sql_context.sql(\"select * from zipcode_table\")))\n",
        "sql_context.sql(\"select * from zipcode_table\").show(2)"
      ],
      "execution_count": 0,
      "outputs": [
        {
          "output_type": "stream",
          "text": [
            "<class 'pyspark.sql.dataframe.DataFrame'>\n",
            "+----------+---+---------+----------+-----+--------+--------+\n",
            "|      city|dst| latitude| longitude|state|timezone|zip_code|\n",
            "+----------+---+---------+----------+-----+--------+--------+\n",
            "|Portsmouth|  1|43.005895|-71.013202|   NH|      -5|   00210|\n",
            "|Portsmouth|  1|43.005895|-71.013202|   NH|      -5|   00211|\n",
            "+----------+---+---------+----------+-----+--------+--------+\n",
            "only showing top 2 rows\n",
            "\n"
          ],
          "name": "stdout"
        }
      ]
    },
    {
      "metadata": {
        "id": "z6QwiKoCpiUY",
        "colab_type": "code",
        "outputId": "30bff0dc-95df-4c4d-d0f1-61bce37e7966",
        "colab": {
          "base_uri": "https://localhost:8080/",
          "height": 201
        }
      },
      "cell_type": "code",
      "source": [
        "build1 = sql_context.sql(\"select e.title, z.city,z.state from emergency_911 e join zipcode_table z on e.zip_code = z.zip_code\")\n",
        "build1.show(5)"
      ],
      "execution_count": 0,
      "outputs": [
        {
          "output_type": "stream",
          "text": [
            "+-------+-------+-----+\n",
            "|  title|   city|state|\n",
            "+-------+-------+-----+\n",
            "|    EMS|Wyncote|   PA|\n",
            "|    EMS|Wyncote|   PA|\n",
            "|Traffic|Wyncote|   PA|\n",
            "|   Fire|Wyncote|   PA|\n",
            "|Traffic|Wyncote|   PA|\n",
            "+-------+-------+-----+\n",
            "only showing top 5 rows\n",
            "\n"
          ],
          "name": "stdout"
        }
      ]
    },
    {
      "metadata": {
        "id": "wBSkMYaauV4V",
        "colab_type": "code",
        "outputId": "4ec13ccb-1321-4533-b608-5d071afffbff",
        "colab": {
          "base_uri": "https://localhost:8080/",
          "height": 33
        }
      },
      "cell_type": "code",
      "source": [
        "type(build1), build1.count()"
      ],
      "execution_count": 0,
      "outputs": [
        {
          "output_type": "execute_result",
          "data": {
            "text/plain": [
              "(pyspark.sql.dataframe.DataFrame, 86637)"
            ]
          },
          "metadata": {
            "tags": []
          },
          "execution_count": 161
        }
      ]
    },
    {
      "metadata": {
        "id": "tD5LlYnRp5cK",
        "colab_type": "code",
        "colab": {}
      },
      "cell_type": "code",
      "source": [
        "# What kind of problems are prevalent, and in which state?"
      ],
      "execution_count": 0,
      "outputs": []
    },
    {
      "metadata": {
        "id": "ff1-ohvtsXCT",
        "colab_type": "code",
        "outputId": "b6e3b4fe-2790-4b76-8890-6a587156de17",
        "colab": {
          "base_uri": "https://localhost:8080/",
          "height": 33
        }
      },
      "cell_type": "code",
      "source": [
        "ps = build1.rdd.map(lambda x: (x[0] + \" -->\" + str(x[2]))) # .rdd because dataframe does not have map function\n",
        "ps.take(2)"
      ],
      "execution_count": 0,
      "outputs": [
        {
          "output_type": "execute_result",
          "data": {
            "text/plain": [
              "['EMS -->PA', 'EMS -->PA']"
            ]
          },
          "metadata": {
            "tags": []
          },
          "execution_count": 163
        }
      ]
    },
    {
      "metadata": {
        "id": "8U_Ko3NuulxF",
        "colab_type": "code",
        "outputId": "d8d92c66-d1b6-4d8e-f066-211b70676e0e",
        "colab": {
          "base_uri": "https://localhost:8080/",
          "height": 33
        }
      },
      "cell_type": "code",
      "source": [
        "ps.map(lambda x: (x,1)).take(2)#.reduceByKey(_+_).map(item => item.swap).sortByKey(false).foreach(println)"
      ],
      "execution_count": 0,
      "outputs": [
        {
          "output_type": "execute_result",
          "data": {
            "text/plain": [
              "[('EMS -->PA', 1), ('EMS -->PA', 1)]"
            ]
          },
          "metadata": {
            "tags": []
          },
          "execution_count": 166
        }
      ]
    },
    {
      "metadata": {
        "id": "MSCqPGDrwyZL",
        "colab_type": "code",
        "outputId": "e4abc837-895c-46ea-c4d3-df40ff3d1ca2",
        "colab": {
          "base_uri": "https://localhost:8080/",
          "height": 33
        }
      },
      "cell_type": "code",
      "source": [
        "type(ps.map(lambda x: (x,1)).take(2)[0])"
      ],
      "execution_count": 0,
      "outputs": [
        {
          "output_type": "execute_result",
          "data": {
            "text/plain": [
              "tuple"
            ]
          },
          "metadata": {
            "tags": []
          },
          "execution_count": 175
        }
      ]
    },
    {
      "metadata": {
        "id": "se9pQVImvvcK",
        "colab_type": "code",
        "colab": {}
      },
      "cell_type": "code",
      "source": [
        "from operator import add"
      ],
      "execution_count": 0,
      "outputs": []
    },
    {
      "metadata": {
        "id": "7z80G-lzvRWo",
        "colab_type": "code",
        "outputId": "7c1e2052-c7af-4a19-fcb4-ffd5a38e680e",
        "colab": {
          "base_uri": "https://localhost:8080/",
          "height": 33
        }
      },
      "cell_type": "code",
      "source": [
        "ps.map(lambda x: (x,1)).reduceByKey(add).take(2)#.map(item => item.swap).sortByKey(false).foreach(println)"
      ],
      "execution_count": 0,
      "outputs": [
        {
          "output_type": "execute_result",
          "data": {
            "text/plain": [
              "[('Traffic -->PA', 29297), ('Traffic -->AL', 1)]"
            ]
          },
          "metadata": {
            "tags": []
          },
          "execution_count": 169
        }
      ]
    },
    {
      "metadata": {
        "id": "KqFzXIN4uN61",
        "colab_type": "code",
        "outputId": "af90b811-8f36-4088-f8ba-96b028775a50",
        "colab": {
          "base_uri": "https://localhost:8080/",
          "height": 33
        }
      },
      "cell_type": "code",
      "source": [
        "ps.map(lambda x: (x,1)).reduceByKey(add).map(lambda item: (item[1], item[0])).take(2)#.sortByKey(false).foreach(println)"
      ],
      "execution_count": 0,
      "outputs": [
        {
          "output_type": "execute_result",
          "data": {
            "text/plain": [
              "[(29297, 'Traffic -->PA'), (1, 'Traffic -->AL')]"
            ]
          },
          "metadata": {
            "tags": []
          },
          "execution_count": 176
        }
      ]
    },
    {
      "metadata": {
        "id": "m3sgeSMgwXMI",
        "colab_type": "code",
        "outputId": "2250d760-7159-42f4-b2d2-1f0fa8c81a3a",
        "colab": {
          "base_uri": "https://localhost:8080/",
          "height": 33
        }
      },
      "cell_type": "code",
      "source": [
        "ps.map(lambda x: (x,1)).reduceByKey(add).map(lambda item: (item[1], item[0])).sortByKey(False).take(2)#.foreach(println)"
      ],
      "execution_count": 0,
      "outputs": [
        {
          "output_type": "execute_result",
          "data": {
            "text/plain": [
              "[(44326, 'EMS -->PA'), (29297, 'Traffic -->PA')]"
            ]
          },
          "metadata": {
            "tags": []
          },
          "execution_count": 177
        }
      ]
    },
    {
      "metadata": {
        "id": "KINVNT69zK9D",
        "colab_type": "code",
        "outputId": "03bb5c0e-21d5-42a4-8f39-6266f5c241fd",
        "colab": {
          "base_uri": "https://localhost:8080/",
          "height": 33
        }
      },
      "cell_type": "code",
      "source": [
        "ps1 = ps.map(lambda x: (x,1)).reduceByKey(add).map(lambda item: (item[1], item[0])).sortByKey(False)\n",
        "type(ps1)"
      ],
      "execution_count": 0,
      "outputs": [
        {
          "output_type": "execute_result",
          "data": {
            "text/plain": [
              "pyspark.rdd.PipelinedRDD"
            ]
          },
          "metadata": {
            "tags": []
          },
          "execution_count": 185
        }
      ]
    },
    {
      "metadata": {
        "id": "6PwuuB-uzkiy",
        "colab_type": "code",
        "outputId": "3766b182-d7bd-4160-94ad-082139df5f41",
        "colab": {
          "base_uri": "https://localhost:8080/",
          "height": 33
        }
      },
      "cell_type": "code",
      "source": [
        "ps1.collect()[0:3]"
      ],
      "execution_count": 0,
      "outputs": [
        {
          "output_type": "execute_result",
          "data": {
            "text/plain": [
              "[(44326, 'EMS -->PA'), (29297, 'Traffic -->PA'), (13012, 'Fire -->PA')]"
            ]
          },
          "metadata": {
            "tags": []
          },
          "execution_count": 188
        }
      ]
    },
    {
      "metadata": {
        "id": "YZuaaxhw0pLj",
        "colab_type": "code",
        "colab": {}
      },
      "cell_type": "code",
      "source": [
        "# What kind of problems are prevalent, and in which city?"
      ],
      "execution_count": 0,
      "outputs": []
    },
    {
      "metadata": {
        "id": "CZiQ9Hz60qB-",
        "colab_type": "code",
        "outputId": "b2b82e67-76b8-40a1-ef12-fcbc58b99518",
        "colab": {
          "base_uri": "https://localhost:8080/",
          "height": 33
        }
      },
      "cell_type": "code",
      "source": [
        "ps2 = build1.rdd.map(lambda x: (x[0] + \" -->\" + str(x[1])))\n",
        "ps2.take(2)"
      ],
      "execution_count": 0,
      "outputs": [
        {
          "output_type": "execute_result",
          "data": {
            "text/plain": [
              "['EMS -->Wyncote', 'EMS -->Wyncote']"
            ]
          },
          "metadata": {
            "tags": []
          },
          "execution_count": 195
        }
      ]
    },
    {
      "metadata": {
        "id": "h9pAQ4vv02PD",
        "colab_type": "code",
        "outputId": "5de4da92-373a-4e86-ea1a-26c869c2c45c",
        "colab": {
          "base_uri": "https://localhost:8080/",
          "height": 184
        }
      },
      "cell_type": "code",
      "source": [
        "ps3 = ps2.map(lambda x: (x,1)).reduceByKey(add).map(lambda item: (item[1], item[0])).sortByKey(False)\n",
        "ps3.collect()[0:10]"
      ],
      "execution_count": 0,
      "outputs": [
        {
          "output_type": "execute_result",
          "data": {
            "text/plain": [
              "[(7409, 'EMS -->Norristown'),\n",
              " (4237, 'EMS -->Pottstown'),\n",
              " (2919, 'Traffic -->Norristown'),\n",
              " (2665, 'EMS -->Lansdale'),\n",
              " (1822, 'Traffic -->Pottstown'),\n",
              " (1677, 'EMS -->King Of Prussia'),\n",
              " (1505, 'Fire -->Norristown'),\n",
              " (1466, 'Traffic -->Lansdale'),\n",
              " (1451, 'EMS -->Royersford'),\n",
              " (1397, 'EMS -->Ambler')]"
            ]
          },
          "metadata": {
            "tags": []
          },
          "execution_count": 196
        }
      ]
    }
  ]
}