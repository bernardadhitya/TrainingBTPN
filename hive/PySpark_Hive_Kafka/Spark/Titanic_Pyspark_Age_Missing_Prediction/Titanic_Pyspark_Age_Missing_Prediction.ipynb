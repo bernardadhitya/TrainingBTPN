{
  "nbformat": 4,
  "nbformat_minor": 0,
  "metadata": {
    "colab": {
      "name": "Titanic_Pyspark_Age_Missing_Prediction.ipynb",
      "version": "0.3.2",
      "provenance": [],
      "collapsed_sections": [],
      "include_colab_link": true
    },
    "kernelspec": {
      "name": "python3",
      "display_name": "Python 3"
    }
  },
  "cells": [
    {
      "cell_type": "markdown",
      "metadata": {
        "id": "view-in-github",
        "colab_type": "text"
      },
      "source": [
        "<a href=\"https://colab.research.google.com/github/Nik8x/Titanic_Pyspark_Age_Missing_Prediction/blob/master/Titanic_Pyspark_Age_Missing_Prediction.ipynb\" target=\"_parent\"><img src=\"https://colab.research.google.com/assets/colab-badge.svg\" alt=\"Open In Colab\"/></a>"
      ]
    },
    {
      "metadata": {
        "id": "VXRslLILqwOU",
        "colab_type": "code",
        "colab": {
          "base_uri": "https://localhost:8080/",
          "height": 50
        },
        "outputId": "49129255-b265-46b6-e47e-91f3b610c434"
      },
      "cell_type": "code",
      "source": [
        "!apt-get install openjdk-8-jdk-headless -qq > /dev/null\n",
        "!wget -q http://www-eu.apache.org/dist/spark/spark-2.3.2/spark-2.3.2-bin-hadoop2.7.tgz\n",
        "!tar xf spark-2.3.2-bin-hadoop2.7.tgz\n",
        "!pip install -q findspark\n",
        "!pip install pyspark"
      ],
      "execution_count": 1,
      "outputs": [
        {
          "output_type": "stream",
          "text": [
            "Requirement already satisfied: pyspark in /usr/local/lib/python3.6/dist-packages (2.4.0)\n",
            "Requirement already satisfied: py4j==0.10.7 in /usr/local/lib/python3.6/dist-packages (from pyspark) (0.10.7)\n"
          ],
          "name": "stdout"
        }
      ]
    },
    {
      "metadata": {
        "id": "b3xUsdXKqybI",
        "colab_type": "code",
        "colab": {}
      },
      "cell_type": "code",
      "source": [
        "import os\n",
        "os.environ[\"JAVA_HOME\"] = \"/usr/lib/jvm/java-8-openjdk-amd64\"\n",
        "os.environ[\"SPARK_HOME\"] = \"/content/spark-2.3.2-bin-hadoop2.7\""
      ],
      "execution_count": 0,
      "outputs": []
    },
    {
      "metadata": {
        "id": "JhxT4r45qz95",
        "colab_type": "code",
        "colab": {
          "base_uri": "https://localhost:8080/",
          "height": 67
        },
        "outputId": "180fd917-6111-4dbb-ec8e-1f1ae32ba53e"
      },
      "cell_type": "code",
      "source": [
        "import findspark\n",
        "findspark.init()\n",
        "\n",
        "import pyspark # only run after findspark.init()\n",
        "from pyspark.sql import SparkSession\n",
        "spark = SparkSession.builder.getOrCreate()\n",
        "\n",
        "sc = spark.sparkContext\n",
        "\n",
        "import pandas as pd\n",
        "import matplotlib.pyplot as plt\n",
        "\n",
        "from pyspark.ml.feature import OneHotEncoder, StringIndexer, IndexToString, VectorAssembler\n",
        "from pyspark.ml.regression import RandomForestRegressor, LinearRegression\n",
        "from pyspark.ml.evaluation import MulticlassClassificationEvaluator, RegressionEvaluator\n",
        "from pyspark.ml import Pipeline, Model\n",
        "from pyspark.sql.functions import col\n",
        "\n",
        "# for google colab\n",
        "# Load the Drive helper and mount\n",
        "from google.colab import drive\n",
        "drive.mount('/content/drive/')\n",
        "\n",
        "import os\n",
        "os.chdir(\"/content/drive/My Drive/Colab Notebooks/files\")\n",
        "!ls"
      ],
      "execution_count": 38,
      "outputs": [
        {
          "output_type": "stream",
          "text": [
            "Drive already mounted at /content/drive/; to attempt to forcibly remount, call drive.mount(\"/content/drive/\", force_remount=True).\n",
            "dfff.csv       test_list.txt  Titanic.json  val_list.txt\n",
            "SwannsWay.txt  titanic.csv    Titanic.py\n"
          ],
          "name": "stdout"
        }
      ]
    },
    {
      "metadata": {
        "id": "9ogtgwC7q1x1",
        "colab_type": "code",
        "colab": {}
      },
      "cell_type": "code",
      "source": [
        "# I have downloaded Titanic.json file which I was working on zeppelin, I'll convert it to .py and copy paste lines from there to here\n",
        "\n",
        "import sys\n",
        "input_file_name = sys.argv[1]\n",
        "output_file_name = sys.argv[2]\n",
        "\n",
        "import json\n",
        "import codecs\n",
        "notebook = json.load(codecs.open('Titanic.json', 'r', 'utf-8-sig'))\n",
        "\n",
        "script = []\n",
        "for i in notebook[\"paragraphs\"]:\n",
        "    para = i[\"text\"].splitlines()[1:]\n",
        "    if len(para) > 0:\n",
        "        para = '\\n'.join(para)\n",
        "        script.append(para)\n",
        "script_f = '\\n\\n'.join(script)\n",
        "\n",
        "with open('Titanic.py', 'w') as the_file:\n",
        "    the_file.write(script_f)"
      ],
      "execution_count": 0,
      "outputs": []
    },
    {
      "metadata": {
        "id": "WzKYjIwZ1KNC",
        "colab_type": "code",
        "colab": {}
      },
      "cell_type": "code",
      "source": [
        "#df = spark.read.option(\"header\", \"true\").csv(\"/content/drive/My Drive/Colab Notebooks/files/titanic.csv\")\n",
        "df = (spark.read.format(\"csv\").options(header=\"true\").load(\"/content/drive/My Drive/Colab Notebooks/files/titanic.csv\"))"
      ],
      "execution_count": 0,
      "outputs": []
    },
    {
      "metadata": {
        "id": "8tfbUymRwVkg",
        "colab_type": "code",
        "colab": {
          "base_uri": "https://localhost:8080/",
          "height": 235
        },
        "outputId": "e4d0b212-9eed-44eb-af94-ddfbb4f793c8"
      },
      "cell_type": "code",
      "source": [
        "df.printSchema()"
      ],
      "execution_count": 6,
      "outputs": [
        {
          "output_type": "stream",
          "text": [
            "root\n",
            " |-- row.names: string (nullable = true)\n",
            " |-- pclass: string (nullable = true)\n",
            " |-- survived: string (nullable = true)\n",
            " |-- name: string (nullable = true)\n",
            " |-- age: string (nullable = true)\n",
            " |-- embarked: string (nullable = true)\n",
            " |-- home.dest: string (nullable = true)\n",
            " |-- room: string (nullable = true)\n",
            " |-- ticket: string (nullable = true)\n",
            " |-- boat: string (nullable = true)\n",
            " |-- sex: string (nullable = true)\n",
            "\n"
          ],
          "name": "stdout"
        }
      ]
    },
    {
      "metadata": {
        "id": "Kk8C4wAKx-_M",
        "colab_type": "code",
        "colab": {
          "base_uri": "https://localhost:8080/",
          "height": 185
        },
        "outputId": "5816daf1-6c90-42e8-e8a3-0740ad37cc25"
      },
      "cell_type": "code",
      "source": [
        "df.show(4)"
      ],
      "execution_count": 7,
      "outputs": [
        {
          "output_type": "stream",
          "text": [
            "+---------+------+--------+--------------------+----+-----------+--------------------+----+----------+-----+------+\n",
            "|row.names|pclass|survived|                name| age|   embarked|           home.dest|room|    ticket| boat|   sex|\n",
            "+---------+------+--------+--------------------+----+-----------+--------------------+----+----------+-----+------+\n",
            "|        1|   1st|       1|Allen, Miss Elisa...|29.0|Southampton|        St Louis, MO| B-5|24160 L221|    2|female|\n",
            "|        2|   1st|       0|Allison, Miss Hel...| 2.0|Southampton|Montreal, PQ / Ch...| C26|      null| null|female|\n",
            "|        3|   1st|       0|Allison, Mr Hudso...|30.0|Southampton|Montreal, PQ / Ch...| C26|      null|(135)|  male|\n",
            "|        4|   1st|       0|Allison, Mrs Huds...|25.0|Southampton|Montreal, PQ / Ch...| C26|      null| null|female|\n",
            "+---------+------+--------+--------------------+----+-----------+--------------------+----+----------+-----+------+\n",
            "only showing top 4 rows\n",
            "\n"
          ],
          "name": "stdout"
        }
      ]
    },
    {
      "metadata": {
        "id": "inClLzOq3EU2",
        "colab_type": "code",
        "colab": {
          "base_uri": "https://localhost:8080/",
          "height": 34
        },
        "outputId": "1298343a-2c97-49af-b5e1-5e7419b613d2"
      },
      "cell_type": "code",
      "source": [
        "df.count()"
      ],
      "execution_count": 8,
      "outputs": [
        {
          "output_type": "execute_result",
          "data": {
            "text/plain": [
              "1313"
            ]
          },
          "metadata": {
            "tags": []
          },
          "execution_count": 8
        }
      ]
    },
    {
      "metadata": {
        "id": "5QaNBizw3IOO",
        "colab_type": "code",
        "colab": {
          "base_uri": "https://localhost:8080/",
          "height": 185
        },
        "outputId": "8aab53e0-5731-44a7-922f-d2f84cdf2b88"
      },
      "cell_type": "code",
      "source": [
        "df.select(\"age\", \"survived\").show(4)"
      ],
      "execution_count": 9,
      "outputs": [
        {
          "output_type": "stream",
          "text": [
            "+----+--------+\n",
            "| age|survived|\n",
            "+----+--------+\n",
            "|29.0|       1|\n",
            "| 2.0|       0|\n",
            "|30.0|       0|\n",
            "|25.0|       0|\n",
            "+----+--------+\n",
            "only showing top 4 rows\n",
            "\n"
          ],
          "name": "stdout"
        }
      ]
    },
    {
      "metadata": {
        "id": "Cm4N6nXt3J4Y",
        "colab_type": "code",
        "colab": {
          "base_uri": "https://localhost:8080/",
          "height": 134
        },
        "outputId": "02cca34a-799e-47ca-93ca-0e018a85e3d4"
      },
      "cell_type": "code",
      "source": [
        "df.groupby(\"survived\").count().show()"
      ],
      "execution_count": 10,
      "outputs": [
        {
          "output_type": "stream",
          "text": [
            "+--------+-----+\n",
            "|survived|count|\n",
            "+--------+-----+\n",
            "|       0|  864|\n",
            "|       1|  449|\n",
            "+--------+-----+\n",
            "\n"
          ],
          "name": "stdout"
        }
      ]
    },
    {
      "metadata": {
        "id": "rJ5biKo7KkFT",
        "colab_type": "code",
        "colab": {
          "base_uri": "https://localhost:8080/",
          "height": 367
        },
        "outputId": "830c3232-44ce-4386-a626-c0332293aa51"
      },
      "cell_type": "code",
      "source": [
        "#Bar chart of no. of people survived\n",
        "df.toPandas().sex.value_counts().plot.bar()\n",
        "plt.show()"
      ],
      "execution_count": 46,
      "outputs": [
        {
          "output_type": "display_data",
          "data": {
            "image/png": "[encoded data removed]",
            "text/plain": [
              "<Figure size 576x396 with 1 Axes>"
            ]
          },
          "metadata": {
            "tags": []
          }
        }
      ]
    },
    {
      "metadata": {
        "id": "cPTBeERP3Rj_",
        "colab_type": "code",
        "colab": {
          "base_uri": "https://localhost:8080/",
          "height": 454
        },
        "outputId": "4542c509-7a68-402f-8711-dac9fccbd420"
      },
      "cell_type": "code",
      "source": [
        "df.groupby(\"age\", \"survived\").count().show()"
      ],
      "execution_count": 11,
      "outputs": [
        {
          "output_type": "stream",
          "text": [
            "+------+--------+-----+\n",
            "|   age|survived|count|\n",
            "+------+--------+-----+\n",
            "|  53.0|       1|    3|\n",
            "|  39.0|       1|    5|\n",
            "|   7.0|       1|    1|\n",
            "|  45.0|       1|    9|\n",
            "|  21.0|       0|   14|\n",
            "|   5.0|       0|    1|\n",
            "|  65.0|       0|    2|\n",
            "|0.3333|       0|    1|\n",
            "|0.9167|       1|    1|\n",
            "|  67.0|       0|    1|\n",
            "|  46.0|       1|    1|\n",
            "|  36.0|       0|    7|\n",
            "|  29.0|       0|    6|\n",
            "|  44.0|       0|    4|\n",
            "|  24.0|       0|   12|\n",
            "|  25.0|       1|    5|\n",
            "|  61.0|       0|    3|\n",
            "|  37.0|       1|    2|\n",
            "|  18.0|       0|   15|\n",
            "|  35.0|       1|    6|\n",
            "+------+--------+-----+\n",
            "only showing top 20 rows\n",
            "\n"
          ],
          "name": "stdout"
        }
      ]
    },
    {
      "metadata": {
        "id": "lBfZP9WGMFSB",
        "colab_type": "code",
        "colab": {
          "base_uri": "https://localhost:8080/",
          "height": 202
        },
        "outputId": "c33f3653-fc39-45ff-a879-0beb9054397b"
      },
      "cell_type": "code",
      "source": [
        "# check missing values in all columns using pandas dataframe\n",
        "df.toPandas().isnull().sum()"
      ],
      "execution_count": 47,
      "outputs": [
        {
          "output_type": "execute_result",
          "data": {
            "text/plain": [
              "rows            0\n",
              "pclass          0\n",
              "survived        0\n",
              "name            0\n",
              "age           680\n",
              "home.dest     559\n",
              "room         1236\n",
              "ticket       1244\n",
              "boat          966\n",
              "sex             0\n",
              "dtype: int64"
            ]
          },
          "metadata": {
            "tags": []
          },
          "execution_count": 47
        }
      ]
    },
    {
      "metadata": {
        "id": "y4QrYrEH3ULm",
        "colab_type": "code",
        "colab": {
          "base_uri": "https://localhost:8080/",
          "height": 101
        },
        "outputId": "d30a7c6e-4a87-43d7-fb87-02d1e1f6efa3"
      },
      "cell_type": "code",
      "source": [
        "# check missing values in all columns\n",
        "print(df.where(col(\"age\").isNull()).count())\n",
        "print(df.where(col(\"pclass\").isNull()).count())\n",
        "print(df.where(col(\"survived\").isNull()).count())\n",
        "print(df.where(col(\"embarked\").isNull()).count())\n",
        "print(df.where(col(\"sex\").isNull()).count())"
      ],
      "execution_count": 12,
      "outputs": [
        {
          "output_type": "stream",
          "text": [
            "680\n",
            "0\n",
            "0\n",
            "492\n",
            "0\n"
          ],
          "name": "stdout"
        }
      ]
    },
    {
      "metadata": {
        "id": "m3yhGFaK3WUP",
        "colab_type": "code",
        "colab": {
          "base_uri": "https://localhost:8080/",
          "height": 185
        },
        "outputId": "d7979303-bc94-49b2-eb42-c745ac1afee2"
      },
      "cell_type": "code",
      "source": [
        "df.describe('age').show()"
      ],
      "execution_count": 13,
      "outputs": [
        {
          "output_type": "stream",
          "text": [
            "+-------+------------------+\n",
            "|summary|               age|\n",
            "+-------+------------------+\n",
            "|  count|               633|\n",
            "|   mean| 31.19418104265403|\n",
            "| stddev|14.747525275652208|\n",
            "|    min|            0.1667|\n",
            "|    max|               9.0|\n",
            "+-------+------------------+\n",
            "\n"
          ],
          "name": "stdout"
        }
      ]
    },
    {
      "metadata": {
        "id": "Y8oJujrSLH4X",
        "colab_type": "code",
        "colab": {
          "base_uri": "https://localhost:8080/",
          "height": 332
        },
        "outputId": "270b826d-6b99-435a-de32-ca06fe46545a"
      },
      "cell_type": "code",
      "source": [
        "# line plot of Age\n",
        "df.toPandas().age.value_counts().sort_index().plot.line()\n",
        "plt.show()"
      ],
      "execution_count": 43,
      "outputs": [
        {
          "output_type": "display_data",
          "data": {
            "image/png": "[encoded data removed]",
            "text/plain": [
              "<Figure size 576x396 with 1 Axes>"
            ]
          },
          "metadata": {
            "tags": []
          }
        }
      ]
    },
    {
      "metadata": {
        "id": "O6xfgAMy3XsU",
        "colab_type": "code",
        "colab": {
          "base_uri": "https://localhost:8080/",
          "height": 34
        },
        "outputId": "2739984d-818f-479c-e923-52a6a10cb22a"
      },
      "cell_type": "code",
      "source": [
        "print(df.count(), len(df.columns))"
      ],
      "execution_count": 14,
      "outputs": [
        {
          "output_type": "stream",
          "text": [
            "1313 11\n"
          ],
          "name": "stdout"
        }
      ]
    },
    {
      "metadata": {
        "id": "BROjzhhX3ZC4",
        "colab_type": "code",
        "colab": {
          "base_uri": "https://localhost:8080/",
          "height": 370
        },
        "outputId": "2c0903b3-c172-4e44-e6c9-33eebdeaa6aa"
      },
      "cell_type": "code",
      "source": [
        "df = df.withColumn(\"AGEImputed\", (df[\"age\"] * 0))\n",
        "\n",
        "df.show(15)"
      ],
      "execution_count": 15,
      "outputs": [
        {
          "output_type": "stream",
          "text": [
            "+---------+------+--------+--------------------+------+-----------+--------------------+-----+-----------------+-----+------+----------+\n",
            "|row.names|pclass|survived|                name|   age|   embarked|           home.dest| room|           ticket| boat|   sex|AGEImputed|\n",
            "+---------+------+--------+--------------------+------+-----------+--------------------+-----+-----------------+-----+------+----------+\n",
            "|        1|   1st|       1|Allen, Miss Elisa...|  29.0|Southampton|        St Louis, MO|  B-5|       24160 L221|    2|female|       0.0|\n",
            "|        2|   1st|       0|Allison, Miss Hel...|   2.0|Southampton|Montreal, PQ / Ch...|  C26|             null| null|female|       0.0|\n",
            "|        3|   1st|       0|Allison, Mr Hudso...|  30.0|Southampton|Montreal, PQ / Ch...|  C26|             null|(135)|  male|       0.0|\n",
            "|        4|   1st|       0|Allison, Mrs Huds...|  25.0|Southampton|Montreal, PQ / Ch...|  C26|             null| null|female|       0.0|\n",
            "|        5|   1st|       1|Allison, Master H...|0.9167|Southampton|Montreal, PQ / Ch...|  C22|             null|   11|  male|       0.0|\n",
            "|        6|   1st|       1|  Anderson, Mr Harry|  47.0|Southampton|        New York, NY| E-12|             null|    3|  male|       0.0|\n",
            "|        7|   1st|       1|Andrews, Miss Kor...|  63.0|Southampton|          Hudson, NY|  D-7|        13502 L77|   10|female|       0.0|\n",
            "|        8|   1st|       0|Andrews, Mr Thoma...|  39.0|Southampton|         Belfast, NI| A-36|             null| null|  male|       0.0|\n",
            "|        9|   1st|       1|Appleton, Mrs Edw...|  58.0|Southampton| Bayside, Queens, NY|C-101|             null|    2|female|       0.0|\n",
            "|       10|   1st|       0|Artagaveytia, Mr ...|  71.0|  Cherbourg| Montevideo, Uruguay| null|             null| (22)|  male|       0.0|\n",
            "|       11|   1st|       0|Astor, Colonel Jo...|  47.0|  Cherbourg|        New York, NY| null|17754 L224 10s 6d|(124)|  male|       0.0|\n",
            "|       12|   1st|       1|Astor, Mrs John J...|  19.0|  Cherbourg|        New York, NY| null|17754 L224 10s 6d|    4|female|       0.0|\n",
            "|       13|   1st|       1|Aubert, Mrs Leont...|  null|  Cherbourg|       Paris, France| B-35|     17477 L69 6s|    9|female|      null|\n",
            "|       14|   1st|       1|Barkworth, Mr Alg...|  null|Southampton|       Hessle, Yorks| A-23|             null|    B|  male|      null|\n",
            "|       15|   1st|       0| Baumann, Mr John D.|  null|Southampton|        New York, NY| null|             null| null|  male|      null|\n",
            "+---------+------+--------+--------------------+------+-----------+--------------------+-----+-----------------+-----+------+----------+\n",
            "only showing top 15 rows\n",
            "\n"
          ],
          "name": "stdout"
        }
      ]
    },
    {
      "metadata": {
        "id": "p--zR2293bqd",
        "colab_type": "code",
        "colab": {
          "base_uri": "https://localhost:8080/",
          "height": 185
        },
        "outputId": "12ea0965-684c-419f-88ad-a41e3b21be6c"
      },
      "cell_type": "code",
      "source": [
        "df = df.withColumnRenamed(\"row.names\", \"rows\")\n",
        "\n",
        "imputed = df.select(\"rows\", \"AGEImputed\").fillna(1)  # making a new dataframe with filling missing values in AGEImputed, also including rows column so we can merge this to original df\n",
        "\n",
        "imputed_e = df.select(\"rows\", \"embarked\").fillna('Southampton')\n",
        "\n",
        "df = df.drop(\"AGEImputed\", \"embarked\")  # so we have a new imputed dataframe with 1 and 0 for age missing, let's drop the AGEImputed column from df\n",
        "df.show(4)"
      ],
      "execution_count": 16,
      "outputs": [
        {
          "output_type": "stream",
          "text": [
            "+----+------+--------+--------------------+----+--------------------+----+----------+-----+------+\n",
            "|rows|pclass|survived|                name| age|           home.dest|room|    ticket| boat|   sex|\n",
            "+----+------+--------+--------------------+----+--------------------+----+----------+-----+------+\n",
            "|   1|   1st|       1|Allen, Miss Elisa...|29.0|        St Louis, MO| B-5|24160 L221|    2|female|\n",
            "|   2|   1st|       0|Allison, Miss Hel...| 2.0|Montreal, PQ / Ch...| C26|      null| null|female|\n",
            "|   3|   1st|       0|Allison, Mr Hudso...|30.0|Montreal, PQ / Ch...| C26|      null|(135)|  male|\n",
            "|   4|   1st|       0|Allison, Mrs Huds...|25.0|Montreal, PQ / Ch...| C26|      null| null|female|\n",
            "+----+------+--------+--------------------+----+--------------------+----+----------+-----+------+\n",
            "only showing top 4 rows\n",
            "\n"
          ],
          "name": "stdout"
        }
      ]
    },
    {
      "metadata": {
        "id": "lPFCqcT13gYY",
        "colab_type": "code",
        "colab": {
          "base_uri": "https://localhost:8080/",
          "height": 218
        },
        "outputId": "c01fa993-74fa-474c-f8a8-feb7869438ea"
      },
      "cell_type": "code",
      "source": [
        "df.columns, imputed.columns, imputed_e.columns"
      ],
      "execution_count": 17,
      "outputs": [
        {
          "output_type": "execute_result",
          "data": {
            "text/plain": [
              "(['rows',\n",
              "  'pclass',\n",
              "  'survived',\n",
              "  'name',\n",
              "  'age',\n",
              "  'home.dest',\n",
              "  'room',\n",
              "  'ticket',\n",
              "  'boat',\n",
              "  'sex'],\n",
              " ['rows', 'AGEImputed'],\n",
              " ['rows', 'embarked'])"
            ]
          },
          "metadata": {
            "tags": []
          },
          "execution_count": 17
        }
      ]
    },
    {
      "metadata": {
        "id": "g8dcPj3Q3iUD",
        "colab_type": "code",
        "colab": {
          "base_uri": "https://localhost:8080/",
          "height": 370
        },
        "outputId": "2e56fb93-9b1e-4f6c-f837-e488569f0a2c"
      },
      "cell_type": "code",
      "source": [
        "titanic = df.join(imputed, ['rows'])  # merging df and imputed on rows column and saving in titanic\n",
        "titanic = titanic.join(imputed_e, ['rows'])\n",
        "titanic.show(15)"
      ],
      "execution_count": 18,
      "outputs": [
        {
          "output_type": "stream",
          "text": [
            "+----+------+--------+--------------------+------+--------------------+-----+-----------------+-----+------+----------+-----------+\n",
            "|rows|pclass|survived|                name|   age|           home.dest| room|           ticket| boat|   sex|AGEImputed|   embarked|\n",
            "+----+------+--------+--------------------+------+--------------------+-----+-----------------+-----+------+----------+-----------+\n",
            "|   1|   1st|       1|Allen, Miss Elisa...|  29.0|        St Louis, MO|  B-5|       24160 L221|    2|female|       0.0|Southampton|\n",
            "|   2|   1st|       0|Allison, Miss Hel...|   2.0|Montreal, PQ / Ch...|  C26|             null| null|female|       0.0|Southampton|\n",
            "|   3|   1st|       0|Allison, Mr Hudso...|  30.0|Montreal, PQ / Ch...|  C26|             null|(135)|  male|       0.0|Southampton|\n",
            "|   4|   1st|       0|Allison, Mrs Huds...|  25.0|Montreal, PQ / Ch...|  C26|             null| null|female|       0.0|Southampton|\n",
            "|   5|   1st|       1|Allison, Master H...|0.9167|Montreal, PQ / Ch...|  C22|             null|   11|  male|       0.0|Southampton|\n",
            "|   6|   1st|       1|  Anderson, Mr Harry|  47.0|        New York, NY| E-12|             null|    3|  male|       0.0|Southampton|\n",
            "|   7|   1st|       1|Andrews, Miss Kor...|  63.0|          Hudson, NY|  D-7|        13502 L77|   10|female|       0.0|Southampton|\n",
            "|   8|   1st|       0|Andrews, Mr Thoma...|  39.0|         Belfast, NI| A-36|             null| null|  male|       0.0|Southampton|\n",
            "|   9|   1st|       1|Appleton, Mrs Edw...|  58.0| Bayside, Queens, NY|C-101|             null|    2|female|       0.0|Southampton|\n",
            "|  10|   1st|       0|Artagaveytia, Mr ...|  71.0| Montevideo, Uruguay| null|             null| (22)|  male|       0.0|  Cherbourg|\n",
            "|  11|   1st|       0|Astor, Colonel Jo...|  47.0|        New York, NY| null|17754 L224 10s 6d|(124)|  male|       0.0|  Cherbourg|\n",
            "|  12|   1st|       1|Astor, Mrs John J...|  19.0|        New York, NY| null|17754 L224 10s 6d|    4|female|       0.0|  Cherbourg|\n",
            "|  13|   1st|       1|Aubert, Mrs Leont...|  null|       Paris, France| B-35|     17477 L69 6s|    9|female|       1.0|  Cherbourg|\n",
            "|  14|   1st|       1|Barkworth, Mr Alg...|  null|       Hessle, Yorks| A-23|             null|    B|  male|       1.0|Southampton|\n",
            "|  15|   1st|       0| Baumann, Mr John D.|  null|        New York, NY| null|             null| null|  male|       1.0|Southampton|\n",
            "+----+------+--------+--------------------+------+--------------------+-----+-----------------+-----+------+----------+-----------+\n",
            "only showing top 15 rows\n",
            "\n"
          ],
          "name": "stdout"
        }
      ]
    },
    {
      "metadata": {
        "id": "usBNWuRJ3kyu",
        "colab_type": "code",
        "colab": {
          "base_uri": "https://localhost:8080/",
          "height": 101
        },
        "outputId": "80b85a32-4959-4d06-d19b-a76968784047"
      },
      "cell_type": "code",
      "source": [
        "# check missing values in all columns\n",
        "print(titanic.where(col(\"age\").isNull()).count())\n",
        "print(titanic.where(col(\"pclass\").isNull()).count())\n",
        "print(titanic.where(col(\"survived\").isNull()).count())\n",
        "print(titanic.where(col(\"embarked\").isNull()).count())\n",
        "print(titanic.where(col(\"sex\").isNull()).count())"
      ],
      "execution_count": 19,
      "outputs": [
        {
          "output_type": "stream",
          "text": [
            "680\n",
            "0\n",
            "0\n",
            "0\n",
            "0\n"
          ],
          "name": "stdout"
        }
      ]
    },
    {
      "metadata": {
        "id": "jTE2cSNb3m1m",
        "colab_type": "code",
        "colab": {
          "base_uri": "https://localhost:8080/",
          "height": 118
        },
        "outputId": "320082d0-1156-4e9c-ff53-59841d31940a"
      },
      "cell_type": "code",
      "source": [
        "# now we can select the rows, name, ticket, boat, room, home.dest columns from titanic, and change age dataype from string to float\n",
        "titanic = titanic.select('pclass', 'survived', 'embarked', 'sex', 'AGEImputed', titanic.age.cast('float'))\n",
        "\n",
        "test = titanic.filter(col(\"AGEImputed\") == 1)  # dataframe for which we have missing age\n",
        "train = titanic.filter(col(\"AGEImputed\") == 0)  # dataframe for which we have age values\n",
        "\n",
        "(train, validation) = train.randomSplit([.7, .3])\n",
        "\n",
        "# now we can drop the AGEImputed column from both these dataframes\n",
        "# test = test.drop(\"AGEImputed\")\n",
        "# train = train.drop(\"AGEImputed\")\n",
        "\n",
        "print('test columns: ', test.columns)\n",
        "print('train columns: ', train.columns)\n",
        "print('validation columns: ', validation.columns)\n",
        "\n",
        "print(\"Number of training records: \" + str(train.count()))\n",
        "print(\"Number of testing records : \" + str(test.count()))\n",
        "print(\"Number of validation records : \" + str(validation.count()))"
      ],
      "execution_count": 20,
      "outputs": [
        {
          "output_type": "stream",
          "text": [
            "test columns:  ['pclass', 'survived', 'embarked', 'sex', 'AGEImputed', 'age']\n",
            "train columns:  ['pclass', 'survived', 'embarked', 'sex', 'AGEImputed', 'age']\n",
            "validation columns:  ['pclass', 'survived', 'embarked', 'sex', 'AGEImputed', 'age']\n",
            "Number of training records: 451\n",
            "Number of testing records : 680\n",
            "Number of validation records : 182\n"
          ],
          "name": "stdout"
        }
      ]
    },
    {
      "metadata": {
        "id": "nRUF5hOl36c6",
        "colab_type": "code",
        "colab": {
          "base_uri": "https://localhost:8080/",
          "height": 286
        },
        "outputId": "8712dd87-5717-4460-ffda-8682fd91db33"
      },
      "cell_type": "code",
      "source": [
        "x = StringIndexer(inputCol = \"pclass\", outputCol = \"pclass_1\").fit(train).transform(train)\n",
        "OneHotEncoder(inputCol = \"pclass_1\", outputCol = \"pclass_2\").transform(x).show(10)   # demonstrating the work of OneHotEncoder with StringIndexer"
      ],
      "execution_count": 22,
      "outputs": [
        {
          "output_type": "stream",
          "text": [
            "+------+--------+---------+------+----------+----+--------+-------------+\n",
            "|pclass|survived| embarked|   sex|AGEImputed| age|pclass_1|     pclass_2|\n",
            "+------+--------+---------+------+----------+----+--------+-------------+\n",
            "|   1st|       0|Cherbourg|female|       0.0|36.0|     0.0|(2,[0],[1.0])|\n",
            "|   1st|       0|Cherbourg|female|       0.0|50.0|     0.0|(2,[0],[1.0])|\n",
            "|   1st|       0|Cherbourg|  male|       0.0|18.0|     0.0|(2,[0],[1.0])|\n",
            "|   1st|       0|Cherbourg|  male|       0.0|24.0|     0.0|(2,[0],[1.0])|\n",
            "|   1st|       0|Cherbourg|  male|       0.0|25.0|     0.0|(2,[0],[1.0])|\n",
            "|   1st|       0|Cherbourg|  male|       0.0|27.0|     0.0|(2,[0],[1.0])|\n",
            "|   1st|       0|Cherbourg|  male|       0.0|28.0|     0.0|(2,[0],[1.0])|\n",
            "|   1st|       0|Cherbourg|  male|       0.0|32.0|     0.0|(2,[0],[1.0])|\n",
            "|   1st|       0|Cherbourg|  male|       0.0|33.0|     0.0|(2,[0],[1.0])|\n",
            "|   1st|       0|Cherbourg|  male|       0.0|36.0|     0.0|(2,[0],[1.0])|\n",
            "+------+--------+---------+------+----------+----+--------+-------------+\n",
            "only showing top 10 rows\n",
            "\n"
          ],
          "name": "stdout"
        }
      ]
    },
    {
      "metadata": {
        "id": "FYtTmqAj381r",
        "colab_type": "code",
        "colab": {}
      },
      "cell_type": "code",
      "source": [
        "si_pclass = StringIndexer(inputCol = \"pclass\", outputCol = \"pclass_1\")\n",
        "si_embarked = StringIndexer(inputCol = \"embarked\", outputCol = \"embarked_1\")\n",
        "si_survived = StringIndexer(inputCol = \"survived\", outputCol = \"survived_1\")\n",
        "si_sex = StringIndexer(inputCol = \"sex\", outputCol = \"sex_1\")\n",
        "\n",
        "vectorAssembler_features = VectorAssembler(inputCols = [\"pclass_1\", \"embarked_1\", \"sex_1\", \"survived_1\"], outputCol = \"features\")\n",
        "\n",
        "rf = RandomForestRegressor(labelCol = \"age\", featuresCol = \"features\")  # random forest regressor\n",
        "\n",
        "lr = LinearRegression(maxIter = 10, regParam = .01, labelCol = \"age\", featuresCol = \"features\")  # linear regression\n",
        "\n",
        "pipeline_rf = Pipeline(stages = [si_pclass, si_embarked, si_survived, si_sex, vectorAssembler_features, rf])  # # pipeline for random forest\n",
        "\n",
        "pipeline_lr = Pipeline(stages = [si_pclass, si_embarked, si_survived, si_sex, vectorAssembler_features, lr])  # pipeline for linear regression"
      ],
      "execution_count": 0,
      "outputs": []
    },
    {
      "metadata": {
        "id": "XrMdcbae4BYI",
        "colab_type": "code",
        "colab": {
          "base_uri": "https://localhost:8080/",
          "height": 151
        },
        "outputId": "91c6bcb0-adc3-4771-ea2f-af2505f68311"
      },
      "cell_type": "code",
      "source": [
        "train.printSchema()"
      ],
      "execution_count": 24,
      "outputs": [
        {
          "output_type": "stream",
          "text": [
            "root\n",
            " |-- pclass: string (nullable = true)\n",
            " |-- survived: string (nullable = true)\n",
            " |-- embarked: string (nullable = false)\n",
            " |-- sex: string (nullable = true)\n",
            " |-- AGEImputed: double (nullable = false)\n",
            " |-- age: float (nullable = true)\n",
            "\n"
          ],
          "name": "stdout"
        }
      ]
    },
    {
      "metadata": {
        "id": "aeAVb41f4C6d",
        "colab_type": "code",
        "colab": {}
      },
      "cell_type": "code",
      "source": [
        "model_rf = pipeline_rf.fit(train)\n",
        "model_lr = pipeline_lr.fit(train)"
      ],
      "execution_count": 0,
      "outputs": []
    },
    {
      "metadata": {
        "id": "JMR7YNFc5VHy",
        "colab_type": "code",
        "colab": {}
      },
      "cell_type": "code",
      "source": [
        "prediction_rf = model_rf.transform(validation)\n",
        "prediction_lr = model_lr.transform(validation)"
      ],
      "execution_count": 0,
      "outputs": []
    },
    {
      "metadata": {
        "id": "p0B6diEm55US",
        "colab_type": "code",
        "colab": {
          "base_uri": "https://localhost:8080/",
          "height": 353
        },
        "outputId": "f45a4921-ef81-4541-8c11-91af6ada46bd"
      },
      "cell_type": "code",
      "source": [
        "prediction_rf.show(4)\n",
        "prediction_lr.show(4)"
      ],
      "execution_count": 27,
      "outputs": [
        {
          "output_type": "stream",
          "text": [
            "+------+--------+---------+----+----------+----+--------+----------+----------+-----+-------------+------------------+\n",
            "|pclass|survived| embarked| sex|AGEImputed| age|pclass_1|embarked_1|survived_1|sex_1|     features|        prediction|\n",
            "+------+--------+---------+----+----------+----+--------+----------+----------+-----+-------------+------------------+\n",
            "|   1st|       0|Cherbourg|male|       0.0|27.0|     0.0|       1.0|       0.0|  0.0|(4,[1],[1.0])|44.350357087186076|\n",
            "|   1st|       0|Cherbourg|male|       0.0|30.0|     0.0|       1.0|       0.0|  0.0|(4,[1],[1.0])|44.350357087186076|\n",
            "|   1st|       0|Cherbourg|male|       0.0|48.0|     0.0|       1.0|       0.0|  0.0|(4,[1],[1.0])|44.350357087186076|\n",
            "|   1st|       0|Cherbourg|male|       0.0|58.0|     0.0|       1.0|       0.0|  0.0|(4,[1],[1.0])|44.350357087186076|\n",
            "+------+--------+---------+----+----------+----+--------+----------+----------+-----+-------------+------------------+\n",
            "only showing top 4 rows\n",
            "\n",
            "+------+--------+---------+----+----------+----+--------+----------+----------+-----+-------------+-----------------+\n",
            "|pclass|survived| embarked| sex|AGEImputed| age|pclass_1|embarked_1|survived_1|sex_1|     features|       prediction|\n",
            "+------+--------+---------+----+----------+----+--------+----------+----------+-----+-------------+-----------------+\n",
            "|   1st|       0|Cherbourg|male|       0.0|27.0|     0.0|       1.0|       0.0|  0.0|(4,[1],[1.0])|41.94620707794914|\n",
            "|   1st|       0|Cherbourg|male|       0.0|30.0|     0.0|       1.0|       0.0|  0.0|(4,[1],[1.0])|41.94620707794914|\n",
            "|   1st|       0|Cherbourg|male|       0.0|48.0|     0.0|       1.0|       0.0|  0.0|(4,[1],[1.0])|41.94620707794914|\n",
            "|   1st|       0|Cherbourg|male|       0.0|58.0|     0.0|       1.0|       0.0|  0.0|(4,[1],[1.0])|41.94620707794914|\n",
            "+------+--------+---------+----+----------+----+--------+----------+----------+-----+-------------+-----------------+\n",
            "only showing top 4 rows\n",
            "\n"
          ],
          "name": "stdout"
        }
      ]
    },
    {
      "metadata": {
        "id": "4NLAJuyw_2nr",
        "colab_type": "code",
        "colab": {}
      },
      "cell_type": "code",
      "source": [
        "def regeval(pred_x):\n",
        "  eval = RegressionEvaluator(labelCol = \"age\", predictionCol = \"prediction\", metricName = \"rmse\")\n",
        "\n",
        "  # Root Mean Square Error\n",
        "  rmse = eval.evaluate(pred_x)\n",
        "  print(\"RMSE: %.3f\" % rmse)\n",
        "\n",
        "  # Mean Square Error\n",
        "  mse = eval.evaluate(pred_x, {eval.metricName: \"mse\"})\n",
        "  print(\"MSE: %.3f\" % mse)\n",
        "\n",
        "  # Mean Absolute Error\n",
        "  mae = eval.evaluate(pred_x, {eval.metricName: \"mae\"})\n",
        "  print(\"MAE: %.3f\" % mae)\n",
        "\n",
        "  # r2 - coefficient of determination\n",
        "  r2 = eval.evaluate(pred_x, {eval.metricName: \"r2\"})\n",
        "  print(\"r2: %.3f\" %r2)"
      ],
      "execution_count": 0,
      "outputs": []
    },
    {
      "metadata": {
        "id": "QPBLIaUPG-hH",
        "colab_type": "code",
        "colab": {
          "base_uri": "https://localhost:8080/",
          "height": 84
        },
        "outputId": "5ba8d96c-8f45-41bb-a6d2-a5c8e3aa42e9"
      },
      "cell_type": "code",
      "source": [
        "regeval(prediction_lr) # Linear Regression"
      ],
      "execution_count": 31,
      "outputs": [
        {
          "output_type": "stream",
          "text": [
            "RMSE: 13.444\n",
            "MSE: 180.752\n",
            "MAE: 11.038\n",
            "r2: 0.180\n"
          ],
          "name": "stdout"
        }
      ]
    },
    {
      "metadata": {
        "id": "Y4MIRY74HBia",
        "colab_type": "code",
        "colab": {
          "base_uri": "https://localhost:8080/",
          "height": 84
        },
        "outputId": "98bcbcb4-23be-4ff0-ca71-ebdd626453e1"
      },
      "cell_type": "code",
      "source": [
        "regeval(prediction_rf) # Random Forest"
      ],
      "execution_count": 32,
      "outputs": [
        {
          "output_type": "stream",
          "text": [
            "RMSE: 13.307\n",
            "MSE: 177.083\n",
            "MAE: 10.657\n",
            "r2: 0.197\n"
          ],
          "name": "stdout"
        }
      ]
    },
    {
      "metadata": {
        "id": "AcJoN54mIA3h",
        "colab_type": "code",
        "colab": {}
      },
      "cell_type": "code",
      "source": [
        ""
      ],
      "execution_count": 0,
      "outputs": []
    }
  ]
}