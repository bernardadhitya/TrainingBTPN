{
 "metadata": {
  "language_info": {
   "codemirror_mode": {
    "name": "ipython",
    "version": 3
   },
   "file_extension": ".py",
   "mimetype": "text/x-python",
   "name": "python",
   "nbconvert_exporter": "python",
   "pygments_lexer": "ipython3",
   "version": 3
  },
  "orig_nbformat": 2
 },
 "nbformat": 4,
 "nbformat_minor": 2,
 "cells": [
  {
   "source": [
    "# Exercises\n",
    "\n",
    "1. Read `movies.csv` with pandas \n",
    "2. Publish data with json serialization to kafka and consume it\n",
    "3. Publish data with avro serialization to kafka and consume it"
   ],
   "cell_type": "markdown",
   "metadata": {}
  }
 ]
}