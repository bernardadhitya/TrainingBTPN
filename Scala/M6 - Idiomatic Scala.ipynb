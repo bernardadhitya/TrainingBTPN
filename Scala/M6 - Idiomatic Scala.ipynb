{
 "cells": [
  {
   "cell_type": "markdown",
   "id": "dfa1d4a4-38e4-45b4-8cd6-32e2884f36af",
   "metadata": {},
   "source": [
    "# For expressions\n",
    "\n",
    "After completing this lesson, you should be able to:\n",
    "  - Understand the relationship between for expressions and higher order functions\n",
    "  - Describe the usage of for expressions\n",
    "\n",
    "For expressions are syntactic sugar that simplifies the work of programming a multistage transformation\n",
    "\n",
    "Let's take an example:"
   ]
  },
  {
   "cell_type": "code",
   "execution_count": null,
   "id": "35e217ff-056a-41fc-837f-6bf5842e1474",
   "metadata": {},
   "outputs": [],
   "source": [
    "val myNums = 1 to 3\n",
    "myNums.map(i => (1 to i).map(j => i * j))\n",
    "\n",
    "// produce Vector(Vector(1), Vector(2, 4), Vector(3, 6, 9))"
   ]
  },
  {
   "cell_type": "markdown",
   "id": "907e6135-38cf-4f41-b00c-58569e7ee796",
   "metadata": {},
   "source": [
    "The following two examples show the same but in Python.\n",
    "```python\n",
    "lst = range(1, 4) # python range is not inclusive\n",
    "\n",
    "result = []\n",
    "for i in lst:\n",
    "    sub_result = [j * i for j in range(1, i+1)]\n",
    "    result.append(sub_result)\n",
    "\n",
    "print(result)\n",
    "```\n",
    "\n",
    "\n",
    "Since, we want a collections of integers rather than a collection of collections, we start the processing with `flatMap` instead of `map`."
   ]
  },
  {
   "cell_type": "code",
   "execution_count": null,
   "id": "ae89ccd2-3bc3-4fec-8476-430403e50bc0",
   "metadata": {},
   "outputs": [],
   "source": [
    "myNums.flatMap(i => (1 to i).map(j => i * j)) \n",
    "// Vector(1, 2, 4, 3, 6, 9)"
   ]
  },
  {
   "cell_type": "markdown",
   "id": "957a58f2-f152-4c1d-b04f-19d186d6d6fa",
   "metadata": {},
   "source": [
    "We can simplify the appearance of the code in the example above by using for-expressions. "
   ]
  },
  {
   "cell_type": "code",
   "execution_count": null,
   "id": "77a79374-5d4c-4c8c-b203-58784590da8d",
   "metadata": {},
   "outputs": [],
   "source": [
    "val myNums = (1 to 3).toVector\n",
    "val result: Vector[Int] = for {\n",
    "  i <- myNums\n",
    "  j <- 1 to i\n",
    "} yield i * j"
   ]
  },
  {
   "cell_type": "markdown",
   "id": "571c19da-7692-443b-bb13-c1a5c9ed32c1",
   "metadata": {},
   "source": [
    "The rules for using the `for` expressions is that they:\n",
    "  - must with the keyword `for`\n",
    "  - must have generators that use `<-`\n",
    "  - the `yield` keyword will dictate whether or not a new value is returned\n",
    "\n",
    "`for` expressions are alternative syntax (a.k.a syntactic sugar) for the combined use of `flatMap`, `map`, `withFilter` and `foreach` higher-order functions.\n",
    "\n",
    "We can also apply guard conditions in `for` expressions. Below we modify the earlier example by filtering the original list of `myNums` to odd numbers only."
   ]
  },
  {
   "cell_type": "code",
   "execution_count": null,
   "id": "f3632407-7060-43ba-8212-6b67e6fcf1ec",
   "metadata": {},
   "outputs": [],
   "source": [
    "val myNums = (1 to 3).toVector\n",
    "val result: Vector[Int] = for {\n",
    "  i <- myNums if i % 2 == 1\n",
    "  j <- 1 to i\n",
    "} yield i*j"
   ]
  },
  {
   "cell_type": "markdown",
   "id": "33232a92-ebf8-40ee-a8bf-7f4551115180",
   "metadata": {},
   "source": [
    "With this modification we have the results of starting the multiplication with the odd numbers only. You can also modify one of the other earlier examples in Java or Python to achieve the same result.\n",
    "\n",
    "`for` expression syntax also allows for local definitions. For instance,"
   ]
  },
  {
   "cell_type": "code",
   "execution_count": null,
   "id": "77584869-e462-4dd5-8d9c-80f6a25f4821",
   "metadata": {},
   "outputs": [],
   "source": [
    "case class Time(hours: Int, minutes: Int)\n",
    "\n",
    "val times = List[Time](Time(10, 10), Time(11, 11), Time(20, 9))\n",
    "\n",
    "val result: List[String] = for {\n",
    "  time <- times\n",
    "  hours = time.hours if hours > 12\n",
    "} yield (hours - 12) + \"pm\""
   ]
  },
  {
   "cell_type": "markdown",
   "id": "2ca83dcd-fabe-46d4-bcc3-2d83df3c85c8",
   "metadata": {},
   "source": [
    "Note that this is the same as"
   ]
  },
  {
   "cell_type": "code",
   "execution_count": null,
   "id": "94745d8d-7e68-4823-b27f-f2e351ab1908",
   "metadata": {},
   "outputs": [],
   "source": [
    "case class Time(hours: Int, minutes: Int)\n",
    "\n",
    "val times = List[Time](Time(10, 10), Time(11, 11), Time(20, 9))\n",
    "\n",
    "val result: List[String] = for {\n",
    "  time <- times\n",
    "  if time.hours > 12\n",
    "} yield (time.hours - 12) + \"pm\""
   ]
  },
  {
   "cell_type": "markdown",
   "id": "a615cf19-b623-4ce2-b026-466a28bbdbc9",
   "metadata": {},
   "source": [
    "The local definition of `hours` is introduced only to simplify the code below.\n",
    "\n",
    "All of the code written up to this point has been used to produce values. There are times when we do not want to produce a value. We are executing code to accomplish some sort of side-effect. This could be writing to a database or printing something to the screen or any operation that doesn't return a value but has an external effect. `for` expressions accommodate this situation by allowing us to omit the use of `yield`. "
   ]
  },
  {
   "cell_type": "code",
   "execution_count": null,
   "id": "a56ca653-8647-4323-8175-39315501aa72",
   "metadata": {},
   "outputs": [],
   "source": [
    "for (n <- 1 to 3) println(n)"
   ]
  },
  {
   "cell_type": "markdown",
   "id": "05200d50-9e20-42e0-87d2-77c0f5c84d35",
   "metadata": {},
   "source": [
    "The code above is equivalent to "
   ]
  },
  {
   "cell_type": "code",
   "execution_count": null,
   "id": "9378cd9b-6700-4eed-b89a-ba55363db3d7",
   "metadata": {},
   "outputs": [],
   "source": [
    "(1 to 3).foreach(i => println(i))"
   ]
  },
  {
   "cell_type": "markdown",
   "id": "794542ee-1ed1-41ba-aba0-551b1b3073f9",
   "metadata": {},
   "source": [
    "To summarize:\n",
    "\n",
    "  - `for` expressions are a more readable way of expressions consisting of nested `map`, `flatMap`, `filter` and `foreach`.\n",
    "  - the compiler will translate for expressions that we write into a chain of `map`, `flatMap`, `filter` and `foreach`\n",
    "  - the syntax allows for filtering and local definitions\n",
    "  - use `for` expressions whenever you are iterating thought more than one collection-like object or want to chain multiple transformations\n"
   ]
  },
  {
   "cell_type": "markdown",
   "id": "6d9fa9b5-8caf-414e-90eb-5fbdfb226506",
   "metadata": {},
   "source": [
    "# Patterns Matching\n",
    "\n",
    "\n",
    "Pattern matching is a powerful construct that improves on the familiar `switch`/`case` syntax (which is absent in Scala). It is best to start with a simple example:"
   ]
  },
  {
   "cell_type": "code",
   "execution_count": null,
   "id": "e849716a-679e-4599-a131-9459cafea186",
   "metadata": {},
   "outputs": [],
   "source": [
    "val result: Int = 10\n",
    "\n",
    "result match {\n",
    "  case 1 => println(\"found 1\")\n",
    "  case someInteger: Int => println(\"found some value of type Int\")\n",
    "  // the compiler will issue a warning because this code is acutally impossible to reach. Any value of type Int will match the second condition\n",
    "  case _ => println(\"found something that is not 1 or some other integer\")\n",
    "}"
   ]
  },
  {
   "cell_type": "markdown",
   "id": "81637672-61aa-47ee-a317-4d591fce1c92",
   "metadata": {},
   "source": [
    "Matching is started with the keyword `match` which is followed by a block of case statements. The left-hand side of the `=>` in the `case` statement supports several varieties of syntax. The right-hand side can contain arbitrary code.\n",
    "\n",
    "In the first `case` statement, we've checking if the `result` we're trying to find a match for is an integer 1. If it is not, the pattern matching moves on to the next `case` statement. In the following statement, if the value of `result` has a type of `Int`. If that is true, the value of `result` is stored in the name `someInteger`, this is known as a `type` pattern. If this pattern match is not successful, ie if `result` is not of type `Int`, the next case is evaluated. This last statement is a catch-all that will successfully match anything. When it matches, the string `\"found something that is not 1 or some other integer\"` will be printed to the screen.\n",
    "We can wrap this pattern matching expressions into a function and experiment with it.\n"
   ]
  },
  {
   "cell_type": "code",
   "execution_count": null,
   "id": "6d621346-70bd-4781-a19a-c99e0265cc9a",
   "metadata": {},
   "outputs": [],
   "source": [
    "def isOneOrInteger(value: Int): Unit =\n",
    "  value match {\n",
    "    case 1 => println(\"found 1\")\n",
    "    case someInteger: Int => println(\"found some value of type Int\")\n",
    "    case _ => println(\"found something that is not 1 or some other integer\")\n",
    "  }\n",
    "\n",
    "isOneOrInteger(1)\n",
    "isOneOrInteger(22)"
   ]
  },
  {
   "cell_type": "markdown",
   "id": "f32ebfeb-343d-4ae8-ba76-c0da2a21dbbf",
   "metadata": {},
   "source": [
    "With this definition of the function the compiler will not actually allow us to pass anything other than integers as parameters to the function. In order to get around this, we have to relax the type of `value` to `Any`. Make this change and pass parameters of other types into the function. Observe the output.\n",
    "\n",
    "Pattern matching is very useful when you want to act on specific values of some case class or a hierarchy of types that represents a set of alternatives (also known as an Algebraic Data Type).\n",
    "\n",
    "As a reminder, an Algebraic Data Type is a way to encode the fact that a certain type is represented by a finite set of alternatives. For instance, in Scala the Boolean type contains two values, `true` and `false`. We could represent these as distinct types. This is shown below:\n"
   ]
  },
  {
   "cell_type": "code",
   "execution_count": null,
   "id": "c30ade79-2f8a-4913-8b91-7b3b0b4bf087",
   "metadata": {},
   "outputs": [],
   "source": [
    "trait MyBoolean {\n",
    "  def value: Boolean\n",
    "}\n",
    "case class True(value: Boolean = true) extends MyBoolean\n",
    "case class False(value: Boolean = false) extends MyBoolean"
   ]
  },
  {
   "cell_type": "markdown",
   "id": "46b96ce8-4642-4fba-83d1-508ab9f00d27",
   "metadata": {},
   "source": [
    "\n",
    "This the typical representation of an ADT in Scala. Closing the `trait` with `sealed` means that all of the definitions that are inherit from this trait are are defined in the same Scala file where this definition is located.\n",
    "\n",
    "As another example, we could model the behavior of a light switch with an ADT. This is shown below:"
   ]
  },
  {
   "cell_type": "code",
   "execution_count": null,
   "id": "aeb32071-ac0d-4a76-8402-0cbe2ec56c49",
   "metadata": {},
   "outputs": [],
   "source": [
    "trait LightSwitch\n",
    "case object On extends LightSwitch\n",
    "case object Off extends LightSwitch"
   ]
  },
  {
   "cell_type": "markdown",
   "id": "b51649fc-afa7-463c-a7cd-c479a73fb166",
   "metadata": {},
   "source": [
    "Since we've notified the compiler, by using `sealed`, that all of the subtypes of `LightSwitch` are in this file, it (the compiler) will verify that we have covered all of the cases when we pattern match on a value of type `LightSwitch`. Assign a value to `light` and observe the behavior."
   ]
  },
  {
   "cell_type": "code",
   "execution_count": null,
   "id": "07b9315e-561e-43b6-b29a-653164c233cb",
   "metadata": {},
   "outputs": [],
   "source": [
    "trait LightSwitch\n",
    "case object On extends LightSwitch\n",
    "case object Off extends LightSwitch\n",
    "\n",
    "val light: LightSwitch = Off\n",
    "\n",
    "def status(value: LightSwitch): Unit = \n",
    "  value match {\n",
    "    case On => println(\"the switch is on\")\n",
    "    case Off => println(\"this switch is off\")\n",
    "  }\n",
    "\n",
    "status(light)"
   ]
  },
  {
   "cell_type": "markdown",
   "id": "2e5a5b81-7ad2-43e9-9c22-b58a1d5372d5",
   "metadata": {},
   "source": [
    "We can write something similar to the above for our custom `Boolean` type. These values are little bit more complex in that they actually carry some values. However, using pattern matching we can de-compose or `unapply` case class into its components. Set value of `b` to one of the possible alternatives and observe the difference."
   ]
  },
  {
   "cell_type": "code",
   "execution_count": null,
   "id": "d650f613-29a1-44e1-8a3b-fd9ea5d9c81e",
   "metadata": {},
   "outputs": [],
   "source": [
    "trait MyBoolean {\n",
    "  def value: Boolean\n",
    "}\n",
    "\n",
    "case class True(override val value: Boolean = true) extends MyBoolean\n",
    "case class False(override val value: Boolean = false) extends MyBoolean\n",
    "\n",
    "\n",
    "val b: MyBoolean = True(false)\n",
    "\n",
    "def isItActuallyTrue(value: MyBoolean): Unit =\n",
    "  value match {\n",
    "    case True(true) => println(\"it is actually true!\")\n",
    "    case True(false) => println(\"it is pretending to be true!\")\n",
    "    case False(true) => println(\"it is pretending to be false, but is actually true!\")\n",
    "    case False(false) => println(\"it is really false!\")\n",
    "  }\n",
    "\n",
    "isItActuallyTrue(b)"
   ]
  },
  {
   "cell_type": "markdown",
   "id": "93043d9f-df37-40cd-a0c2-1441f8a633e4",
   "metadata": {},
   "source": [
    "# Options\n",
    "\n",
    "`Option` represents a presence or an absence of a value. Consider division. We could implement division and handle division by 0 by throwing an exception like so:\n"
   ]
  },
  {
   "cell_type": "code",
   "execution_count": null,
   "id": "2a628f66-0d6f-4207-9158-870fed09668e",
   "metadata": {},
   "outputs": [],
   "source": [
    "def divE(numerator: Int, denominator: Int): Int =\n",
    "  if (denominator == 0) throw new Exception(\"Denominator is 0\") else numerator / denominator\n",
    "\n",
    "divE(10, 2)\n",
    "divE(2, 0)"
   ]
  },
  {
   "cell_type": "markdown",
   "id": "2f586253-d451-4473-a18f-274e050f51c4",
   "metadata": {},
   "source": [
    "However, this is far from idiomatic Scala. In the above we interrupting the flow of the program with an exception that we can easily handle ourselves. Furthermore, there is nothing about the function definition that communicates to us that this function may not produce a value in some cases. The following is a better definition of the same function:"
   ]
  },
  {
   "cell_type": "code",
   "execution_count": null,
   "id": "1618262e-9ded-46e4-8e33-56e7a2881364",
   "metadata": {},
   "outputs": [],
   "source": [
    "def divO(numerator: Int, denominator: Int): Option[Int] =\n",
    "  if (denominator == 0) None else Some(numerator / denominator)\n",
    "\n",
    "divO(10, 2)\n",
    "divO(2, 0)"
   ]
  },
  {
   "cell_type": "markdown",
   "id": "640f967a-1086-456e-a81a-4f2047910122",
   "metadata": {},
   "source": [
    "Pattern matching makes processing values of type `Option` straightforward."
   ]
  },
  {
   "cell_type": "code",
   "execution_count": null,
   "id": "f7717b73-efb2-465e-a440-194368f0f38a",
   "metadata": {},
   "outputs": [],
   "source": [
    "def stringLegnth(value: Option[String]): Int =\n",
    "  value match {\n",
    "    case Some(str) => str.length\n",
    "    case None => 0\n",
    "  }"
   ]
  },
  {
   "cell_type": "markdown",
   "id": "22843469-d0f8-44d5-98cb-b36d0157b6c9",
   "metadata": {},
   "source": [
    "This pattern, where we want to extract the value from an `Option` or provide a default value when the it is None occurs frequently. It is more concisely represented by the function `getOrElse`. Thus, we can reimplement the functionality of `stringLength` as: \n"
   ]
  },
  {
   "cell_type": "code",
   "execution_count": null,
   "id": "1aaa08de-57a7-4096-a20c-18339ef73f95",
   "metadata": {},
   "outputs": [],
   "source": [
    "def stringLegnth(value: Option[String]): Int =\n",
    "  value.getOrElse(\"\").length"
   ]
  },
  {
   "cell_type": "markdown",
   "id": "19b77dff-6afe-42f3-a8a3-842d6a972935",
   "metadata": {},
   "source": [
    "We provide the default value of `\"\"` (empty string) for the case when `value` is `None`. \n",
    "\n",
    "There are a number of higher order functions we can use with `Option`. For example, another way to implement `stringLegnth` to combine `map` and `getOrElse`.\n"
   ]
  },
  {
   "cell_type": "code",
   "execution_count": null,
   "id": "f5b1e7df-ecac-48b9-9fd6-38bc368319e8",
   "metadata": {},
   "outputs": [],
   "source": [
    "def stringLegnth(value: Option[String]): Int =\n",
    "  value.map(str => str.length).getOrElse(0)"
   ]
  },
  {
   "cell_type": "markdown",
   "id": "abb4b2ab-03ea-4110-89ea-3a83ab9398b9",
   "metadata": {},
   "source": [
    "If `value` is a `Some` we will compute the length of the string that it contains. If it is `None`, `map` will not do anything. Subsequently, `getOrElse` will be called. Note, that `getOrElse` is now being called on an `Option[Int]` value, because by using `map` we have changed the type of the value inside the `Option` from `String` to `Int`. As always, `getOrElse` will either return the contents of the `Option` or the default value of 0.\n",
    "\n",
    "We can sequence processing of options with `flatMap`. For example,"
   ]
  },
  {
   "cell_type": "code",
   "execution_count": null,
   "id": "8d583bf1-11cf-488e-a35c-5f81aa0a090d",
   "metadata": {},
   "outputs": [],
   "source": [
    "def fullName(firstName: Option[String], lastName: Option[String]): Option[String] =\n",
    "  firstName.flatMap(fn => lastName.map(ln => s\"$fn $ln\"))\n",
    "\n",
    "val bothOption: Option[String] = fullName(Option(\"John\"), Option(\"Doe\"))\n",
    "val oneOption: Option[String] = fullName(Option(\"Prince\"), None)"
   ]
  },
  {
   "cell_type": "markdown",
   "id": "109cd748-cf78-41ee-a151-dbc7447710f9",
   "metadata": {},
   "source": [
    "As you may remember the section on `for` expressions, nested combinations of `map` and `flatMap` can be re-written using `for` expressions. Thus, the `fullName` function above can be written as:"
   ]
  },
  {
   "cell_type": "code",
   "execution_count": null,
   "id": "06550225-e5d4-4b91-84f7-6797b2f59c2f",
   "metadata": {},
   "outputs": [],
   "source": [
    "def fullName(firstName: Option[String], lastName: Option[String]): Option[String] =\n",
    "  for {\n",
    "    fn <- firstName\n",
    "    ln <- lastName\n",
    "  } yield s\"$fn $ln\"\n",
    "\n",
    "fullName(Option(\"John\"), Option(\"Doe\"))\n",
    "fullName(Option(\"Prince\"), None)"
   ]
  },
  {
   "cell_type": "markdown",
   "id": "8f70c3ad-9183-4e1d-8596-c48c6f39cc4d",
   "metadata": {},
   "source": [
    "# Handling Failure\n",
    "\n",
    "There are a number of mechanisms that we can use in Scala to handle failures. In particular, we have already seen that instead of throwing exceptions we can avoid them by using `Option`. The Scala standard library provides another abstraction to help us with code where we have to handle an exception rather than avoiding it, `Try`.\n",
    "\n",
    "`Try` is actually an ADT that consists of `Success` and `Failure`. `Success` captures the result of the successful computation. `Failure` captures the exception that occurred during the computation. This is shown below.\n"
   ]
  },
  {
   "cell_type": "code",
   "execution_count": null,
   "id": "f694f230-6fd5-4aaa-9584-4a376b70b414",
   "metadata": {},
   "outputs": [],
   "source": [
    "import scala.util.{Try, Success, Failure}\n",
    "\n",
    "def divT(numerator: Int, denominator: Int): Try[Int] =\n",
    "  Try(numerator / denominator)\n",
    "\n",
    "val result: Try[Int] = divT(10, 0)\n",
    "\n",
    "result match {\n",
    "  case Success(v) => println(\"got the result of: \" + v)\n",
    "  case Failure(e) => println(\"got an exception of: \" + e)\n",
    "}"
   ]
  },
  {
   "cell_type": "markdown",
   "id": "39ab9a41-81cc-400c-93c5-fb74ee516cc3",
   "metadata": {},
   "source": [
    "As can be seen above, we can use pattern matching to process a value of type `Try`. Similar to `Option`, `Try` implements a number of higher order functions. Some of these functions are shown below."
   ]
  },
  {
   "cell_type": "code",
   "execution_count": null,
   "id": "a7129325-399e-4131-a0f5-238b47a8bc62",
   "metadata": {},
   "outputs": [],
   "source": [
    "import scala.util.{Try, Success, Failure}\n",
    "\n",
    "def divT(numerator: Int, denominator: Int): Try[Int] =\n",
    "  Try(numerator / denominator)\n",
    "\n",
    "val result: Try[Int] = divT(10, 0)\n",
    "\n",
    "// getOrElse on Try works the same was as on Option. note that the value has to be the same type as the success case\n",
    "val getOrElseValue: Int = result.getOrElse(0)\n",
    "\n",
    "// similar to Option, if `result` is a `Success` add 10 to it. Otherwise, do nothing\n",
    "val mapValue: Try[Int] = result.map(success => success + 10)\n",
    "\n",
    "// just like with `Option` we can sequence try computations with `flatMap`\n",
    "val flatMapValue: Try[Int] = result.flatMap(success => divT(success, 10))\n",
    "\n",
    "// transform takes two functions as parameters, one for each type of result\n",
    "val transformValue: Try[Int] = result.transform(s => Success(s + 10), ex => Success(0))"
   ]
  },
  {
   "cell_type": "markdown",
   "id": "6071a80b-3d5a-4f3f-8dab-6f5b4889287d",
   "metadata": {},
   "source": [
    "Since we have `map` and `flatMap` implemented on `Try`, we can use `for` expressions with `Try`."
   ]
  },
  {
   "cell_type": "code",
   "execution_count": null,
   "id": "64024dc3-d68c-458e-9e27-b73cb7d32f0a",
   "metadata": {},
   "outputs": [],
   "source": [
    "import scala.util.{Try, Success, Failure}\n",
    "\n",
    "def divT(numerator: Int, denominator: Int): Try[Int] =\n",
    "  Try(numerator / denominator)\n",
    "\n",
    "val result: Try[Int] = for {\n",
    "  r1 <- divT(10, 10)\n",
    "  r2 <- divT(1100, 34)\n",
    "} yield r1 * r2"
   ]
  },
  {
   "cell_type": "markdown",
   "id": "e49de91e-7fea-4d00-bbe0-8650a64a7e86",
   "metadata": {},
   "source": [
    "The above can also be represented as:"
   ]
  },
  {
   "cell_type": "code",
   "execution_count": null,
   "id": "101d3d4d-f5ec-42ae-8d65-19281d8e1126",
   "metadata": {},
   "outputs": [],
   "source": [
    "import scala.util.{Try, Success, Failure}\n",
    "\n",
    "def divT(numerator: Int, denominator: Int): Try[Int] =\n",
    "  Try(numerator / denominator)\n",
    "\n",
    "val resultForExpression: Try[Int] = for {\n",
    "  r1 <- divT(10, 10)\n",
    "  r2 <- divT(1100, 34)\n",
    "} yield r1 * r2\n",
    "\n",
    "val resultFlatMap = divT(10, 10).flatMap(r1 => divT(1100, 34).map(r2 => r1 * r2))"
   ]
  }
 ],
 "metadata": {
  "kernelspec": {
   "display_name": "spylon-kernel",
   "language": "scala",
   "name": "spylon-kernel"
  },
  "language_info": {
   "codemirror_mode": "text/x-scala",
   "file_extension": ".scala",
   "help_links": [
    {
     "text": "MetaKernel Magics",
     "url": "https://metakernel.readthedocs.io/en/latest/source/README.html"
    }
   ],
   "mimetype": "text/x-scala",
   "name": "scala",
   "pygments_lexer": "scala",
   "version": "0.4.1"
  }
 },
 "nbformat": 4,
 "nbformat_minor": 5
}
