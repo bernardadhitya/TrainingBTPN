{
 "cells": [
  {
   "cell_type": "markdown",
   "id": "e5f3fd98-2e72-4402-883d-16436ce1f22b",
   "metadata": {},
   "source": [
    "# Exercise 1"
   ]
  },
  {
   "cell_type": "markdown",
   "id": "ee8375f5-619a-40b9-a7da-e204387924f1",
   "metadata": {},
   "source": [
    "1. Write a code to compute the sum of the two given integer values. If the two values are the same, then return triples their sum"
   ]
  },
  {
   "cell_type": "code",
   "execution_count": null,
   "id": "9266c283-9299-439b-a69b-5db1abeea64b",
   "metadata": {},
   "outputs": [],
   "source": []
  },
  {
   "cell_type": "markdown",
   "id": "e21eebd6-ae92-4780-b72e-8937a1487e1b",
   "metadata": {},
   "source": [
    "2. Write a Scala program to get the absolute difference (no negative value) between n and 51. If n is greater than 51 return triple the absolute difference for example:"
   ]
  },
  {
   "cell_type": "code",
   "execution_count": null,
   "id": "975bd291-6c27-4c63-9f8f-49920cc4cbbe",
   "metadata": {},
   "outputs": [],
   "source": []
  },
  {
   "cell_type": "markdown",
   "id": "5d9d3fd3-cae2-4228-a6ec-d27a99766ecb",
   "metadata": {},
   "source": [
    "3. Write a code to switch the first and last characters in a given string and return the new string"
   ]
  },
  {
   "cell_type": "code",
   "execution_count": null,
   "id": "250bf433-89c5-48ea-8dc5-09a0eec0c599",
   "metadata": {},
   "outputs": [],
   "source": []
  },
  {
   "cell_type": "markdown",
   "id": "e97ba777-727c-4e0a-9a33-859905ba5e51",
   "metadata": {},
   "source": [
    "4. Write a code to check which number is nearest to the value 100 among two given integers.def test(x: Int, y: Int): Int = {\n",
    "    val x_abs = Math.abs(x - 100)\n",
    "    val y_abs = Math.abs(y - 100)\n",
    "    if (x_abs == y_abs) 0\n",
    "    else if (x_abs < y_abs) x\n",
    "    else y\n",
    "    }\n",
    " Return 0 if the two numbers are equal."
   ]
  },
  {
   "cell_type": "code",
   "execution_count": null,
   "id": "4ae5fef9-454b-4eac-9d0c-c3f82720f34b",
   "metadata": {},
   "outputs": [],
   "source": []
  },
  {
   "cell_type": "markdown",
   "id": "fd22295a-ba89-45a5-a68c-0c444da62e4a",
   "metadata": {},
   "source": [
    "5. Create functions named `mathOperation` with arguments name:String. \n",
    "  - if name == \"addtion\" then return function to sum 2 integer\n",
    "  - if name == \"multiplication\" then return function to multiply 2 integer\n",
    "  - if name == \"division\" then return function to div 2 integer into integer\n",
    "  - if name == \"subtraction\" then return function to substrac 1 integer to another integer\n",
    "  - if name is not match then return 0\n",
    "  \n",
    "  then create partial applied function `add`, `multiply`, `div` and `sub`"
   ]
  },
  {
   "cell_type": "code",
   "execution_count": null,
   "id": "2b185d01-c7ce-4fba-8d03-14fcb16c1dbf",
   "metadata": {},
   "outputs": [],
   "source": []
  },
  {
   "cell_type": "markdown",
   "id": "4e756cab-719c-4130-bc04-5746117e9a1c",
   "metadata": {},
   "source": [
    "6. Create code that has variable `height` and will output right triangle. for example if `val height = 5` then output is\n",
    "\n",
    "```\n",
    "*\n",
    "**\n",
    "***\n",
    "****\n",
    "*****\n",
    "```"
   ]
  },
  {
   "cell_type": "code",
   "execution_count": null,
   "id": "30bee6fa-168b-4033-9b72-956dabb650ef",
   "metadata": {},
   "outputs": [],
   "source": []
  },
  {
   "cell_type": "markdown",
   "id": "7351c44c-24b8-4ed5-8f2e-05105c60307c",
   "metadata": {},
   "source": [
    "7. Create code that has variable `height` and will output Isosceles triangle. for example if `val height = 4` then output is\n",
    "\n",
    "```\n",
    "   *\n",
    "  ***\n",
    " *****\n",
    "*******\n",
    "```"
   ]
  },
  {
   "cell_type": "code",
   "execution_count": null,
   "id": "c993c106-857e-4285-acd8-8c49dcccb4ae",
   "metadata": {},
   "outputs": [],
   "source": []
  },
  {
   "cell_type": "markdown",
   "id": "56b8454a-426e-49d3-91e8-f79fc45b2134",
   "metadata": {},
   "source": [
    "8. Create code that has variable `height` and will output Diamond and height must be odd. for example `val height = 7` then output is\n",
    "\n",
    "```\n",
    "   *\n",
    "  ***\n",
    " *****\n",
    "*******\n",
    " *****\n",
    "  ***\n",
    "   *\n",
    "```"
   ]
  },
  {
   "cell_type": "code",
   "execution_count": null,
   "id": "11ff7dfa-c408-4d70-a5a5-eaf613bdf411",
   "metadata": {},
   "outputs": [],
   "source": []
  }
 ],
 "metadata": {
  "kernelspec": {
   "display_name": "spylon-kernel",
   "language": "scala",
   "name": "spylon-kernel"
  },
  "language_info": {
   "codemirror_mode": "text/x-scala",
   "file_extension": ".scala",
   "help_links": [
    {
     "text": "MetaKernel Magics",
     "url": "https://metakernel.readthedocs.io/en/latest/source/README.html"
    }
   ],
   "mimetype": "text/x-scala",
   "name": "scala",
   "pygments_lexer": "scala",
   "version": "0.4.1"
  }
 },
 "nbformat": 4,
 "nbformat_minor": 5
}
