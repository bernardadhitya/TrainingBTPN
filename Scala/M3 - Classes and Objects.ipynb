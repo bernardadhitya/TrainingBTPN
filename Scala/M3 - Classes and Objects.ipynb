{
 "cells": [
  {
   "cell_type": "markdown",
   "metadata": {},
   "source": [
    "# Basic Object and Classes"
   ]
  },
  {
   "cell_type": "markdown",
   "metadata": {},
   "source": [
    "<a id=\"ref1\"></a>\n",
    "\n",
    "# Classes"
   ]
  },
  {
   "cell_type": "markdown",
   "metadata": {},
   "source": [
    "### By the end of this section you should be able to:\n",
    "\n",
    "<ul>\n",
    "  <li> Create a class in Scala  </li>\n",
    "  <li> Create a class with parameters   </li>\n",
    "  <li> Create an instance of a class (aka object)  </li>\n",
    "</ul>  \n"
   ]
  },
  {
   "cell_type": "markdown",
   "metadata": {},
   "source": [
    "### Create a new class hello: "
   ]
  },
  {
   "cell_type": "markdown",
   "metadata": {},
   "source": [
    "We can create a class \"Hello\" as follows "
   ]
  },
  {
   "cell_type": "code",
   "execution_count": null,
   "metadata": {},
   "outputs": [],
   "source": [
    "class Hello"
   ]
  },
  {
   "cell_type": "markdown",
   "metadata": {},
   "source": [
    " We can create an instance of the class of  type \"Hello\": "
   ]
  },
  {
   "cell_type": "code",
   "execution_count": null,
   "metadata": {},
   "outputs": [],
   "source": [
    "new Hello()"
   ]
  },
  {
   "cell_type": "markdown",
   "metadata": {},
   "source": [
    " This output is the location of the instance of the class inside the JVM , Hello() is Sometimes called the class constructor. "
   ]
  },
  {
   "cell_type": "markdown",
   "metadata": {},
   "source": [
    " Lets call a method that converts the instance to a string. We will go more in to methods later on:"
   ]
  },
  {
   "cell_type": "code",
   "execution_count": null,
   "metadata": {},
   "outputs": [],
   "source": [
    "(new Hello() ).toString()"
   ]
  },
  {
   "cell_type": "markdown",
   "metadata": {},
   "source": [
    "## The body of a class    "
   ]
  },
  {
   "cell_type": "markdown",
   "metadata": {},
   "source": [
    "The body of the class is contained in two curly brackets as shown below:"
   ]
  },
  {
   "cell_type": "markdown",
   "metadata": {},
   "source": [
    "\n",
    "<center> <font size=\"10\" color=\"green\">class </font> <font size=\"10\" color=\"blue\">Hello</font><font size=\"10\" >{</font><font size=\"10\" color=\"red\"> Body of a Class    </font><font size=\"10\" >}</font></center>"
   ]
  },
  {
   "cell_type": "markdown",
   "metadata": {},
   "source": [
    "Anything in the body will run when an instance of the class is created, For example, we can create the class hello, in the body we can put a statement in the class to print out “hello” : "
   ]
  },
  {
   "cell_type": "code",
   "execution_count": null,
   "metadata": {},
   "outputs": [],
   "source": [
    "class Hello {print(\"hello\")}"
   ]
  },
  {
   "cell_type": "markdown",
   "metadata": {},
   "source": [
    " When we create a new instance of the class hello, the new object runs the statement and prints out \"hello\" "
   ]
  },
  {
   "cell_type": "code",
   "execution_count": null,
   "metadata": {},
   "outputs": [],
   "source": [
    "new Hello()"
   ]
  },
  {
   "cell_type": "markdown",
   "metadata": {},
   "source": [
    "## Class Parameters "
   ]
  },
  {
   "cell_type": "markdown",
   "metadata": {},
   "source": [
    "You can pass values into a class using parameters, parameters are placed inside the parentheses following  the class name as shown here:"
   ]
  },
  {
   "cell_type": "markdown",
   "metadata": {},
   "source": [
    " <center> <font size=\"10\" color=\"green\">class </font> <font size=\"10\" color=\"blue\">Hello</font><font size=\"10\" ><font size=\"10\" >(</font><font size=\"10\" color=\"red\"> Parameters  </font><font size=\"10\" > <font size=\"10\" >)</font>{</font><font size=\"10\" color=\"red\"> Body of a Class    </font><font size=\"10\" >}</font></center>\n"
   ]
  },
  {
   "cell_type": "markdown",
   "metadata": {},
   "source": [
    "You must specify the type of the parameters, for example we have the class \"Hello\", the parameter is a message of type string.  We can use the parameter in the body of the class but the parameter is not visible outside the class "
   ]
  },
  {
   "cell_type": "code",
   "execution_count": null,
   "metadata": {},
   "outputs": [],
   "source": [
    "class Hello( message:String){\n",
    "    \n",
    "    println(message)\n",
    "    \n",
    "}"
   ]
  },
  {
   "cell_type": "markdown",
   "metadata": {},
   "source": [
    " We can use the parameter in the body of the class, for example we print out the value of \"message\". When we create an instance of the class we will not have access to the parameter outside the instance:"
   ]
  },
  {
   "cell_type": "code",
   "execution_count": null,
   "metadata": {},
   "outputs": [],
   "source": [
    "new Hello(\"what up\")"
   ]
  },
  {
   "cell_type": "markdown",
   "metadata": {},
   "source": [
    "We do not have access to the parameters:"
   ]
  },
  {
   "cell_type": "code",
   "execution_count": null,
   "metadata": {},
   "outputs": [],
   "source": [
    "(new Hello(\"what up\")).message"
   ]
  },
  {
   "cell_type": "markdown",
   "metadata": {},
   "source": [
    " If a class has parameter values and  we create an instance of that class  without any parameter values we get an error:"
   ]
  },
  {
   "cell_type": "code",
   "execution_count": null,
   "metadata": {},
   "outputs": [],
   "source": [
    "new Hello()"
   ]
  },
  {
   "cell_type": "markdown",
   "metadata": {},
   "source": [
    "class parameters are not accessible "
   ]
  },
  {
   "cell_type": "markdown",
   "metadata": {},
   "source": [
    " <div class=\"alert alert-danger alertdanger\" style=\"margin-top: 20px\">\n",
    "<h1> Question 1: </h1>\n",
    "<p> \n",
    "Create an instance of the class Hello, set the parameter message to “Hi” .</b>\n",
    "</p>\n",
    "</div>"
   ]
  },
  {
   "cell_type": "code",
   "execution_count": null,
   "metadata": {},
   "outputs": [],
   "source": []
  },
  {
   "cell_type": "markdown",
   "metadata": {},
   "source": [
    "<a id=\"ref2\"></a>\n",
    "\n",
    "# Immutable and Mutable Fields "
   ]
  },
  {
   "cell_type": "markdown",
   "metadata": {},
   "source": [
    "### By the end of this section you should be able to:\n",
    "\n",
    "<ul>\n",
    "  <li>Describe the difference between mutable and immutable fields </li>\n",
    "  <li>create fields in Scala classes</li>\n",
    "  <li>describe the difference between class parameters and fields  </li>\n",
    "   <li>outline how to promote class parameters to fields  </li>\n",
    "</ul>  \n"
   ]
  },
  {
   "cell_type": "markdown",
   "metadata": {},
   "source": [
    " A Field is a value inside an instance of a class, it represents the state of the instance. Unlike parameters fields are inside the body of the class and accessible outside the instance of a class unless specified.  "
   ]
  },
  {
   "cell_type": "markdown",
   "metadata": {},
   "source": [
    "### Immutable fields "
   ]
  },
  {
   "cell_type": "markdown",
   "metadata": {},
   "source": [
    "Immutable fields cannot be changed, we use the “val” keyword to indicate the field is immutable.  We can create a class hello, with the field “message” in the body:"
   ]
  },
  {
   "cell_type": "code",
   "execution_count": null,
   "metadata": {},
   "outputs": [],
   "source": [
    "class Hello1{val message=\"hello\"}"
   ]
  },
  {
   "cell_type": "markdown",
   "metadata": {},
   "source": [
    "We can create an instance of the object Hello1 and access the field “message “ by using the dot notation :"
   ]
  },
  {
   "cell_type": "code",
   "execution_count": null,
   "metadata": {},
   "outputs": [],
   "source": [
    "(new Hello1).message "
   ]
  },
  {
   "cell_type": "markdown",
   "metadata": {},
   "source": [
    " Mutable fields can be changed, we use the “var” keyword to indicate the field is mutable. We can create a class hello, with the field “message” in the body: "
   ]
  },
  {
   "cell_type": "code",
   "execution_count": null,
   "metadata": {},
   "outputs": [],
   "source": [
    "class Hello2{var message=\"hello\"}"
   ]
  },
  {
   "cell_type": "markdown",
   "metadata": {},
   "source": [
    " We can create an instance of the object Hello2 and access the field “message “ by using the dot notation :"
   ]
  },
  {
   "cell_type": "code",
   "execution_count": null,
   "metadata": {},
   "outputs": [],
   "source": [
    "val hello2= new Hello2"
   ]
  },
  {
   "cell_type": "code",
   "execution_count": null,
   "metadata": {},
   "outputs": [],
   "source": [
    "hello2.message"
   ]
  },
  {
   "cell_type": "markdown",
   "metadata": {},
   "source": [
    " We can change the field value:"
   ]
  },
  {
   "cell_type": "code",
   "execution_count": null,
   "metadata": {},
   "outputs": [],
   "source": [
    "hello2.message=\"good bye\""
   ]
  },
  {
   "cell_type": "markdown",
   "metadata": {},
   "source": [
    " Now the field value has changed for the instance of the class:    "
   ]
  },
  {
   "cell_type": "code",
   "execution_count": null,
   "metadata": {},
   "outputs": [],
   "source": [
    "hello2.message"
   ]
  },
  {
   "cell_type": "markdown",
   "metadata": {},
   "source": [
    "If we tried something similar for  the class Hello1 we would get an error because the field is a value and we cannot change a \"val\". Lets create an instance of class  hello1,and assign it to the variable H1:  "
   ]
  },
  {
   "cell_type": "code",
   "execution_count": null,
   "metadata": {},
   "outputs": [],
   "source": [
    "val H1=new Hello1()\n",
    "H1.message"
   ]
  },
  {
   "cell_type": "markdown",
   "metadata": {},
   "source": [
    " If we try and change the field we get an error "
   ]
  },
  {
   "cell_type": "code",
   "execution_count": null,
   "metadata": {},
   "outputs": [],
   "source": [
    "hello1.message=\"good bye\""
   ]
  },
  {
   "cell_type": "markdown",
   "metadata": {},
   "source": [
    "### Promoting class Parameters to become Fields "
   ]
  },
  {
   "cell_type": "markdown",
   "metadata": {},
   "source": [
    " you can convert a parameter a field by adding the key word   “val” to the parameter in the class constructor (in this case, we are adding the \"val\"  inside the round parenthesis, not the curly parenthesis)    "
   ]
  },
  {
   "cell_type": "code",
   "execution_count": null,
   "metadata": {},
   "outputs": [],
   "source": [
    " class Hello(val message: String)"
   ]
  },
  {
   "cell_type": "markdown",
   "metadata": {},
   "source": [
    " Let’s create a new instance of the class  with the parameter:"
   ]
  },
  {
   "cell_type": "code",
   "execution_count": null,
   "metadata": {},
   "outputs": [],
   "source": [
    "val hello=new Hello(\"Hello, world!\")"
   ]
  },
  {
   "cell_type": "markdown",
   "metadata": {},
   "source": [
    " Because we have “val” key word we have access to the parameter :"
   ]
  },
  {
   "cell_type": "code",
   "execution_count": null,
   "metadata": {},
   "outputs": [],
   "source": [
    "hello.message"
   ]
  },
  {
   "cell_type": "markdown",
   "metadata": {},
   "source": [
    " <div class=\"alert alert-danger alertdanger\" style=\"margin-top: 20px\">\n",
    "<h1> Question  1: </h1>\n",
    "<p> \n",
    "Create class person uses the persons birthday as a parameter, in the class body the variable year is the present year of 2017 and the age is the persons age , create an instants of class person and call  it bob. Set the parameter to 1990. and show the field of age.</b>\n",
    "</p>\n",
    "</div>"
   ]
  },
  {
   "cell_type": "code",
   "execution_count": null,
   "metadata": {},
   "outputs": [],
   "source": []
  },
  {
   "cell_type": "code",
   "execution_count": null,
   "metadata": {},
   "outputs": [],
   "source": []
  },
  {
   "cell_type": "markdown",
   "metadata": {},
   "source": [
    " <div class=\"alert alert-danger alertdanger\" style=\"margin-top: 20px\">\n",
    "<h1> Question  3: </h1>\n",
    "<p> \n",
    "Can you change the field year and what happens to age?  \n",
    "</p>\n",
    "</div>"
   ]
  },
  {
   "cell_type": "code",
   "execution_count": null,
   "metadata": {},
   "outputs": [],
   "source": []
  },
  {
   "cell_type": "markdown",
   "metadata": {},
   "source": [
    "### Constructors\n",
    "\n",
    "Constructors can have optional parameters by providing a default value like so:\n",
    "\n"
   ]
  },
  {
   "cell_type": "code",
   "execution_count": null,
   "metadata": {},
   "outputs": [],
   "source": [
    "class Hello(val message: String = \"Welcome\")\n",
    "\n",
    "val hello1 = new Hello()\n",
    "hello1.message"
   ]
  },
  {
   "cell_type": "markdown",
   "metadata": {},
   "source": [
    "#### Override constructor"
   ]
  },
  {
   "cell_type": "code",
   "execution_count": null,
   "metadata": {},
   "outputs": [],
   "source": [
    "class Hello(val message: String, val firstname: String) {\n",
    "    def this(message: String) = {\n",
    "        this(message, \"No Name\")\n",
    "    }\n",
    "    \n",
    "    def this() = {\n",
    "        this(\"Welcome\", \"No Name\")\n",
    "    }\n",
    "}\n",
    "\n",
    "val hello = new Hello()\n",
    "println(hello.message + \" \" + hello.firstname)"
   ]
  },
  {
   "cell_type": "markdown",
   "metadata": {},
   "source": [
    "### Method in class"
   ]
  },
  {
   "cell_type": "markdown",
   "metadata": {},
   "source": [
    " Methods do work on the instance of the class, they may or may not take parameters, and they may return values. We create a method using the \"def\" key word."
   ]
  },
  {
   "cell_type": "markdown",
   "metadata": {},
   "source": [
    "You can change the value of a method after the object has been created.We can create the class \"hey\" with the method \"SaySomthing\": "
   ]
  },
  {
   "cell_type": "code",
   "execution_count": null,
   "metadata": {},
   "outputs": [],
   "source": [
    "class hey{def SaySomthing(Somthing:String):String=Somthing}"
   ]
  },
  {
   "cell_type": "markdown",
   "metadata": {},
   "source": [
    "We can create a new object and call a method with an argument of 'Hello':"
   ]
  },
  {
   "cell_type": "code",
   "execution_count": null,
   "metadata": {},
   "outputs": [],
   "source": [
    "var Hi=new hey()\n",
    "Hi.SaySomthing(\"Hello\")"
   ]
  },
  {
   "cell_type": "markdown",
   "metadata": {},
   "source": [
    "\n",
    "If we call the method with different parameters we get a different result."
   ]
  },
  {
   "cell_type": "code",
   "execution_count": null,
   "metadata": {},
   "outputs": [],
   "source": [
    "Hi.SaySomthing(\"Se Ya\")"
   ]
  },
  {
   "cell_type": "markdown",
   "metadata": {},
   "source": [
    " You can change the value of a method after the object has been created"
   ]
  },
  {
   "cell_type": "markdown",
   "metadata": {},
   "source": [
    " <div class=\"alert alert-danger alertdanger\" style=\"margin-top: 20px\">\n",
    "<h1> Question  4: </h1>\n",
    "<p> \n",
    "Modified the class person and replaced the field age with a method , create an instant of class person and call it bob. Set the parameter to 1990. Call the method of age.\n",
    "\n",
    "</p> \n",
    "</div>"
   ]
  },
  {
   "cell_type": "code",
   "execution_count": null,
   "metadata": {},
   "outputs": [],
   "source": []
  },
  {
   "cell_type": "code",
   "execution_count": null,
   "metadata": {},
   "outputs": [],
   "source": []
  },
  {
   "cell_type": "markdown",
   "metadata": {},
   "source": [
    " <div class=\"alert alert-danger alertdanger\" style=\"margin-top: 20px\">\n",
    "<h1> Question  5: </h1>\n",
    "<p> \n",
    "If we change the field year what will happen to the method age?\n",
    "</p> \n",
    "</div>"
   ]
  },
  {
   "cell_type": "code",
   "execution_count": null,
   "metadata": {},
   "outputs": [],
   "source": []
  },
  {
   "cell_type": "markdown",
   "metadata": {},
   "source": [
    "## Infix Notaion"
   ]
  },
  {
   "cell_type": "markdown",
   "metadata": {},
   "source": [
    "If the method only takes one argument we can use Infix notation we can call a method with no dot or parentheses. For example we can split a string using the split method."
   ]
  },
  {
   "cell_type": "code",
   "execution_count": null,
   "metadata": {},
   "outputs": [],
   "source": [
    "\"Infix Notaion\".split(\" \")"
   ]
  },
  {
   "cell_type": "markdown",
   "metadata": {},
   "source": [
    "Equivalently using Infix notation "
   ]
  },
  {
   "cell_type": "code",
   "execution_count": null,
   "metadata": {},
   "outputs": [],
   "source": [
    "\"Infix Notaion\" split \" \""
   ]
  },
  {
   "cell_type": "markdown",
   "metadata": {},
   "source": [
    "<a id=\"ref5\"> </a> \n",
    "\n",
    "# OBJECTS "
   ]
  },
  {
   "cell_type": "markdown",
   "metadata": {},
   "source": [
    "### Singleton object "
   ]
  },
  {
   "cell_type": "markdown",
   "metadata": {},
   "source": [
    "### By the end of this section you should be able to:##\n",
    "\n",
    "<ul>\n",
    "  <li> Understand singleton objects in Scala </li>\n",
    "  <li>Describe the difference between a class and an object </li>\n",
    "</ul> \n"
   ]
  },
  {
   "cell_type": "markdown",
   "metadata": {},
   "source": [
    "In Scala we can create an object directly using the \"object\" key word.  For example, we can create the object Hello as follows:"
   ]
  },
  {
   "cell_type": "code",
   "execution_count": null,
   "metadata": {},
   "outputs": [],
   "source": [
    "object Hello{def message =\"Hello!\"}"
   ]
  },
  {
   "cell_type": "markdown",
   "metadata": {},
   "source": [
    "Unlike a class we do not need to create the object, we can call it directly:"
   ]
  },
  {
   "cell_type": "code",
   "execution_count": null,
   "metadata": {},
   "outputs": [],
   "source": [
    "Hello.message "
   ]
  },
  {
   "cell_type": "markdown",
   "metadata": {},
   "source": [
    "We can create a class Time,that converts minutes to hours :"
   ]
  },
  {
   "cell_type": "code",
   "execution_count": null,
   "metadata": {},
   "outputs": [],
   "source": [
    "class Time(FullHours :Int, PartialHours:Int){\n",
    "    println(FullHours+\".\"+PartialHours+\" Hours\");\n",
    "}"
   ]
  },
  {
   "cell_type": "markdown",
   "metadata": {},
   "source": [
    " We can then create an object Hello  that creates instances of the class \"Time\" using the method \"GetHours\" "
   ]
  },
  {
   "cell_type": "code",
   "execution_count": null,
   "metadata": {},
   "outputs": [],
   "source": [
    "object Hello{\n",
    "    val oneHourInMinutes:Int=60\n",
    "    \n",
    "    def getHours(minutes:Int)=new Time(minutes/OneHourInMinutes, minutes%OneHourInMinutes )\n",
    "    \n",
    "}"
   ]
  },
  {
   "cell_type": "markdown",
   "metadata": {},
   "source": [
    " You can apply the method \"GetHours\" from the object to perform the conversion  "
   ]
  },
  {
   "cell_type": "code",
   "execution_count": null,
   "metadata": {},
   "outputs": [],
   "source": [
    "Hello.oneHourInMinutes(64)"
   ]
  },
  {
   "cell_type": "code",
   "execution_count": null,
   "metadata": {},
   "outputs": [],
   "source": [
    "Hello.getHours(50)"
   ]
  },
  {
   "cell_type": "markdown",
   "metadata": {},
   "source": [
    "The method `getHours` can be imported from anywhere in the program. Creating utility methods like this is a common use case for singleton objects.\n",
    "\n",
    "```\n",
    "package info\n",
    "\n",
    "object Hello{\n",
    "    val oneHourInMinutes:Int=60\n",
    "    \n",
    "    def getHours(minutes:Int)=new Time(minutes/OneHourInMinutes, minutes%OneHourInMinutes )\n",
    "    \n",
    "}\n",
    "```\n",
    "\n",
    "can be imported in\n",
    "\n",
    "```\n",
    "import info.Hello.getHours\n",
    "```"
   ]
  }
 ],
 "metadata": {
  "kernelspec": {
   "display_name": "spylon-kernel",
   "language": "scala",
   "name": "spylon-kernel"
  },
  "language_info": {
   "codemirror_mode": "text/x-scala",
   "file_extension": ".scala",
   "help_links": [
    {
     "text": "MetaKernel Magics",
     "url": "https://metakernel.readthedocs.io/en/latest/source/README.html"
    }
   ],
   "mimetype": "text/x-scala",
   "name": "scala",
   "pygments_lexer": "scala",
   "version": "0.4.1"
  },
  "widgets": {
   "state": {},
   "version": "1.1.2"
  }
 },
 "nbformat": 4,
 "nbformat_minor": 4
}
