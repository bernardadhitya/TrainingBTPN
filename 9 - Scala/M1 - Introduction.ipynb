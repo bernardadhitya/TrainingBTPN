{
 "cells": [
  {
   "cell_type": "markdown",
   "id": "f078aae2-07d1-4221-b199-5b8b44312c38",
   "metadata": {},
   "source": [
    "# Introduction"
   ]
  },
  {
   "cell_type": "markdown",
   "id": "89595e68-c66d-4fe8-b44f-cf639660e7a5",
   "metadata": {},
   "source": [
    "## Scala Basic Literals"
   ]
  },
  {
   "cell_type": "markdown",
   "id": "36189cd6-d660-4a03-a156-d6242ca187bc",
   "metadata": {},
   "source": [
    "### Integer Literal\n",
    "\n",
    "Integer literals are usually of type Int, or of type Long when followed by a L or l suffix. Here are some integer literals:\n",
    "\n",
    "- 0\n",
    "- 035\n",
    "- 21\n",
    "- 0xFFFFFFFF\n",
    "- 0777L\n"
   ]
  },
  {
   "cell_type": "code",
   "execution_count": null,
   "id": "5fd3fd52-a34e-4844-984c-c8fad0ca0822",
   "metadata": {},
   "outputs": [],
   "source": [
    "35"
   ]
  },
  {
   "cell_type": "markdown",
   "id": "a49af973-3d12-4783-95e0-9ea4b8468242",
   "metadata": {},
   "source": [
    "**Why integer literal below is error?**"
   ]
  },
  {
   "cell_type": "code",
   "execution_count": null,
   "id": "5d94ab71-4c4c-449b-b5b0-cce65e7d5462",
   "metadata": {},
   "outputs": [],
   "source": [
    "111111111111111111"
   ]
  },
  {
   "cell_type": "markdown",
   "id": "2d4e50cb-7e50-41ce-9313-0037cd7a6109",
   "metadata": {},
   "source": [
    "### Floating Point Literals\n",
    "Floating point literals are of type Float when followed by a floating point type suffix F or f, and are of type Double\n",
    "otherwise. Here are some floating point literals:\n",
    "- 0.0\n",
    "- 1e30f\n",
    "- 3.14159f\n",
    "- 1.0e100\n",
    "- .1"
   ]
  },
  {
   "cell_type": "code",
   "execution_count": null,
   "id": "3d1ae4ef-14be-4159-81b0-3ec8052267ac",
   "metadata": {},
   "outputs": [],
   "source": [
    "0.0"
   ]
  },
  {
   "cell_type": "markdown",
   "id": "4b93bf45-51fe-4b22-8609-3b406be0b1b2",
   "metadata": {},
   "source": [
    "### Boolean Literals\n",
    "The boolean literals **true** and **false** are members of type Boolean."
   ]
  },
  {
   "cell_type": "code",
   "execution_count": null,
   "id": "4ed54597-9026-4652-8f50-cefd8fea3eda",
   "metadata": {},
   "outputs": [],
   "source": [
    "true"
   ]
  },
  {
   "cell_type": "markdown",
   "id": "35b1d64f-a2e2-4128-a511-f88f900db6f2",
   "metadata": {},
   "source": [
    "### Symbol Literals\n",
    "A symbol literal **'x is a shorthand for the expression scala.Symbol(\"x\").**"
   ]
  },
  {
   "cell_type": "code",
   "execution_count": null,
   "id": "6d0e6601-c4bf-4a71-9ca7-575479e824a2",
   "metadata": {},
   "outputs": [],
   "source": [
    "scala.Symbol(\"x\")"
   ]
  },
  {
   "cell_type": "markdown",
   "id": "0778ce2c-15cf-4e34-b7d4-13aba3a90006",
   "metadata": {},
   "source": [
    "### Character Literals\n",
    "A character literal is a single character enclosed in quotes. The character is either a printable unicode character or\n",
    "is described by an escape sequence. Here are some character literals:\n",
    "- 'a'\n",
    "- '\\u0041'\n",
    "- '\\n'\n",
    "- '\\t'"
   ]
  },
  {
   "cell_type": "code",
   "execution_count": null,
   "id": "5a7642b1-619e-4c90-81c8-4160e29af08d",
   "metadata": {},
   "outputs": [],
   "source": [
    "'a'"
   ]
  },
  {
   "cell_type": "markdown",
   "id": "154285f4-179a-42a4-be23-6e85d697fb42",
   "metadata": {},
   "source": [
    "### String Literals\n",
    "A string literal is a sequence of characters in double quotes. The characters are either printable unicode character\n",
    "or are described by escape sequences. Here are some string literals:\n",
    "```\n",
    "\"Hello,\\nWorld!\"\n",
    "\"This string contains a \\\" character.\"\n",
    "```"
   ]
  },
  {
   "cell_type": "code",
   "execution_count": null,
   "id": "54a15bc0-8c35-4304-a967-6099d44801d0",
   "metadata": {},
   "outputs": [],
   "source": [
    "\"Hello,\\nWorld!\""
   ]
  },
  {
   "cell_type": "markdown",
   "id": "c5085893-41a6-4a0e-803b-84fc49654a8a",
   "metadata": {},
   "source": [
    "### Multi-Line Strings\n",
    "A multi-line string literal is a sequence of characters enclosed in triple quotes \"\"\" ... \"\"\". The sequence of characters\n",
    "is arbitrary, except that it may contain three or more consuctive quote characters only at the very end.\n",
    "\n",
    "Characters must not necessarily be printable; newlines or other control characters are also permitted. Here is a\n",
    "multi-line string literal:\n",
    "\n",
    "```\n",
    "\"\"\"the present string\n",
    "spans three\n",
    "lines.\"\"\"\n",
    "```"
   ]
  },
  {
   "cell_type": "code",
   "execution_count": null,
   "id": "911c8031-c214-445d-95f0-24592c66fa06",
   "metadata": {},
   "outputs": [],
   "source": [
    "\"\"\"the present string\n",
    "spans three\n",
    "lines.\"\"\""
   ]
  },
  {
   "cell_type": "markdown",
   "id": "ab308229-ee59-484d-a9b0-579c639227ec",
   "metadata": {},
   "source": [
    "### Scala Type Hierarchy\n",
    "Any is the supertype of all types, also called the top type. It defines certain universal methods such as equals, hashCode, and toString. Any has two direct subclasses: AnyVal and AnyRef.\n",
    "\n",
    "AnyVal represents value types. There are nine predefined value types and they are non-nullable: Double, Float, Long, Int, Short, Byte, Char, Unit, and Boolean. Unit is a value type which carries no meaningful information. There is exactly one instance of Unit which can be declared literally like so: (). All functions must return something so sometimes Unit is a useful return type.\n",
    "\n",
    "AnyRef represents reference types. All non-value types are defined as reference types. Every user-defined type in Scala is a subtype of AnyRef. If Scala is used in the context of a Java runtime environment, AnyRef corresponds to java.lang.Object.\n",
    "\n",
    "Here is an example that demonstrates that strings, integers, characters, boolean values, and functions are all of type Any just like every other object:"
   ]
  },
  {
   "cell_type": "code",
   "execution_count": null,
   "id": "5b99e821-9a6c-43dc-9590-72921018fbda",
   "metadata": {},
   "outputs": [],
   "source": [
    "val list: List[Any] = List(\n",
    "  \"a string\",\n",
    "  732,  // an integer\n",
    "  'c',  // a character\n",
    "  true, // a boolean value\n",
    "  () => \"an anonymous function returning a string\"\n",
    ")\n",
    "\n",
    "list.foreach(element => println(element))\n"
   ]
  },
  {
   "cell_type": "markdown",
   "id": "6c7dbd7b-e71d-4389-b14f-cd079e977a8b",
   "metadata": {},
   "source": [
    "### Type Casting"
   ]
  },
  {
   "cell_type": "code",
   "execution_count": null,
   "id": "60df4dc2-d4aa-4d8c-82ab-3acf8deb2560",
   "metadata": {},
   "outputs": [],
   "source": [
    "val x: Long = 987654321\n",
    "val y: Float = x  // 9.8765434E8 (note that some precision is lost in this case)\n",
    "\n",
    "val face: Char = '☺'\n",
    "val number: Int = face  // 9786"
   ]
  },
  {
   "cell_type": "markdown",
   "id": "52cfcc68-0277-4a71-8215-fd3715235b8a",
   "metadata": {},
   "source": [
    "**Casting is unidirectional. This will not compile:**"
   ]
  },
  {
   "cell_type": "code",
   "execution_count": null,
   "id": "b8769be6-63a8-4fc3-b393-5f65438fa617",
   "metadata": {},
   "outputs": [],
   "source": [
    "val x: Long = 987654321\n",
    "val y: Float = x  // 9.8765434E8\n",
    "val z: Long = y  // Does not conform"
   ]
  },
  {
   "cell_type": "markdown",
   "id": "5961a084-b91d-494c-8fac-66c81b998df0",
   "metadata": {},
   "source": [
    "## Variables"
   ]
  },
  {
   "cell_type": "markdown",
   "id": "4a802b86-3792-4402-9caf-e41dadb037b2",
   "metadata": {},
   "source": [
    "### Variables Declarations\n",
    "\n",
    "```\n",
    "var myVar : String = \"Foo\"\n",
    "val myVal : String = \"Foo\"\n",
    "```"
   ]
  },
  {
   "cell_type": "code",
   "execution_count": null,
   "id": "871cb254-2b52-4df3-a1d5-163b27e0b0ec",
   "metadata": {},
   "outputs": [],
   "source": [
    "var myVar : String = \"Foo\""
   ]
  },
  {
   "cell_type": "code",
   "execution_count": null,
   "id": "9e024bd6-63dd-4d0b-a044-530c10523a4d",
   "metadata": {},
   "outputs": [],
   "source": [
    "val myVal : String = \"Foo\""
   ]
  },
  {
   "cell_type": "markdown",
   "id": "a5504a5e-7691-4836-8f16-77d1c0074ed8",
   "metadata": {},
   "source": [
    "**What's the difference between *val* and *var*?**"
   ]
  },
  {
   "cell_type": "code",
   "execution_count": null,
   "id": "d204cbcc-df20-47e9-bc5d-fe9247bb2fd2",
   "metadata": {},
   "outputs": [],
   "source": [
    "myVar = \"boo\""
   ]
  },
  {
   "cell_type": "markdown",
   "id": "fe9bf8d6-6185-4e48-ba04-2671167c512f",
   "metadata": {},
   "source": [
    "### Variable Type Inference\n",
    "\n",
    "When you assign an initial value to a variable, the Scala compiler can figure out the type of the variable based on\n",
    "the value assigned to it. This is called variable type inference. Therefore, you could write these variable declarations\n",
    "like this:\n",
    "\n",
    "```\n",
    "var myVar = 10;\n",
    "val myVal = \"Hello, Scala!\";\n",
    "```"
   ]
  },
  {
   "cell_type": "code",
   "execution_count": null,
   "id": "123aeda6-4293-429b-9932-fe8121d2337c",
   "metadata": {},
   "outputs": [],
   "source": [
    "var myVar = 10;\n",
    "val myVal = \"Hello, Scala!\";\n",
    "val myFloat = 0.0"
   ]
  },
  {
   "cell_type": "markdown",
   "id": "e80563f1-de70-4a26-b747-509d61e8a54e",
   "metadata": {},
   "source": [
    "### Multiple Assignment\n",
    "\n",
    "Scala supports multiple assignments. If a code block or method returns a Tuple, the Tuple can be assigned to a val\n",
    "variable\n",
    "\n",
    "```\n",
    "val (myVar1: Int, myVar2: String) = Pair(40, \"Foo\")\n",
    "```\n",
    "And the type inference gets it right:\n",
    "```\n",
    "val (myVar1, myVar2) = Pair(40, \"Foo\")\n",
    "```"
   ]
  },
  {
   "cell_type": "code",
   "execution_count": null,
   "id": "86affadf-241a-4bcc-b442-148b2e97d5a4",
   "metadata": {},
   "outputs": [],
   "source": [
    "val (myVar1: Int, myVar2: String) = Pair(40, \"Foo\")"
   ]
  },
  {
   "cell_type": "code",
   "execution_count": null,
   "id": "f2c958f6-5a75-4d97-9cf8-8a13c201e69f",
   "metadata": {},
   "outputs": [],
   "source": [
    "val (myVar1, myVar2) = Pair(40, \"Foo\")"
   ]
  },
  {
   "cell_type": "markdown",
   "id": "da6d05cf-29f5-4e58-a77f-88a4990488ae",
   "metadata": {},
   "source": [
    "### Scala Advantages"
   ]
  },
  {
   "cell_type": "markdown",
   "id": "e4aa6e63-f59f-4351-a2c5-9bd51be2cf8d",
   "metadata": {},
   "source": [
    "you can create data, for example, you can generate a sequence of numbers"
   ]
  },
  {
   "cell_type": "code",
   "execution_count": null,
   "id": "683bf43f-8327-4770-9dad-5ead69f19a78",
   "metadata": {},
   "outputs": [],
   "source": [
    "1 to 10"
   ]
  },
  {
   "cell_type": "markdown",
   "id": "6838d6b9-2b28-450b-a0bf-d84b41a0bdb8",
   "metadata": {},
   "source": [
    "We can increase the value of the element of each number by using the map function as illustrated in the following figure:  "
   ]
  },
  {
   "cell_type": "markdown",
   "id": "7ab4b6f2-930f-4473-be0c-1d7128857123",
   "metadata": {},
   "source": [
    "<a ><img src = \"https://ibm.box.com/shared/static/tvvopmvs9zzv8lxeh8s3vlet5j3jcm2x.png\" width = 1000, align = \"center\"></a>\n",
    "\n",
    "<h1 align=center><font size = 4>Example of the map in function </h1>"
   ]
  },
  {
   "cell_type": "markdown",
   "id": "4246adf1-3a7e-4d5a-9809-54de79207db7",
   "metadata": {},
   "source": [
    "It just takes one line of code: "
   ]
  },
  {
   "cell_type": "code",
   "execution_count": null,
   "id": "0b21f2c2-035e-417f-b147-06b20452fd2d",
   "metadata": {},
   "outputs": [],
   "source": [
    "(1 to 10).map(x => x + 1)"
   ]
  },
  {
   "cell_type": "markdown",
   "id": "fd18b55f-eab7-4d86-ae8d-77fa162d1f66",
   "metadata": {},
   "source": [
    "We can explicitly bind a name to a value by using the familiar `=` syntax. The declaration `val a = 1 to 10` says that we want to bind the result of `1 to 10` to the name `a`. It is important to note that when we use `val` we're creating an immutable value. This is the reason why we call it a binding rather than assignment. Once we bind a name to a value, that name cannot be re-bound to the a different value in the same scope, even if the types are the same. You can try this out below. Try to bind a different value to `a`. To do this complete change the line that just contains `a` to be `a = 10 to 15` and observe the compiler error."
   ]
  },
  {
   "cell_type": "code",
   "execution_count": null,
   "id": "6fd068bd-f833-43d8-92dc-18e996e05489",
   "metadata": {},
   "outputs": [],
   "source": [
    "val a = 1 to 10\n",
    "//sometimes If you don't leave the variable at the end you will not display the results \n",
    "a"
   ]
  },
  {
   "cell_type": "markdown",
   "id": "b2a2fd96-7b48-4521-91b7-884f95a6cbf1",
   "metadata": {},
   "source": [
    "Functions do not mutate the objects they are call on. For instance you can call the `map` function on `a`. This will return a new value."
   ]
  },
  {
   "cell_type": "code",
   "execution_count": null,
   "id": "13425bef-cff4-4257-a427-ad19a0e353a7",
   "metadata": {},
   "outputs": [],
   "source": [
    "a.map(x => x + 1)"
   ]
  },
  {
   "cell_type": "markdown",
   "id": "113a9dc4-a3b2-48cf-85e6-cbc44d949ea3",
   "metadata": {},
   "source": [
    "the variable `a` has not changed. We have just returned a new value."
   ]
  },
  {
   "cell_type": "code",
   "execution_count": null,
   "id": "a27c8c53-0a92-42d4-b43f-00d793e55827",
   "metadata": {},
   "outputs": [],
   "source": [
    "a"
   ]
  },
  {
   "cell_type": "markdown",
   "id": "f16a2b0f-f6ec-4c21-8679-39d758a5bca2",
   "metadata": {},
   "source": [
    "In order to be able to re-assign values to a name you can use the `var` syntax."
   ]
  },
  {
   "cell_type": "code",
   "execution_count": null,
   "id": "7d051ff3-5588-47c8-b1e4-422e4bba53dd",
   "metadata": {},
   "outputs": [],
   "source": [
    "var b = a.map(x => x + 1)\n",
    "b"
   ]
  },
  {
   "cell_type": "code",
   "execution_count": null,
   "id": "ca15b75a-8102-4428-a181-7f4a8a85a70c",
   "metadata": {},
   "outputs": [],
   "source": [
    "b=1 to 10\n",
    "b"
   ]
  },
  {
   "cell_type": "markdown",
   "id": "a9ff8c7f-4e25-402b-9d4a-4eba2ba8eb4f",
   "metadata": {},
   "source": [
    "Note that assigning values multiple times to a single `var`, they have to be the same type. Try assigning a value of type `String` to `b` and observe what happens. To do this, change the line containing `b` to read `b = \"hello there` and observe the error."
   ]
  },
  {
   "cell_type": "code",
   "execution_count": null,
   "id": "fdafcf0e-52c1-4e89-8e7e-243307d9b3a6",
   "metadata": {},
   "outputs": [],
   "source": [
    "b"
   ]
  },
  {
   "cell_type": "markdown",
   "id": "4b080b03-c488-4294-8af3-16fd40548b3a",
   "metadata": {},
   "source": [
    "In general, prefer using `val` to `var`. It is much easier to understand and think about code when we do not have to consider that it may be mutated by some operation. Working without mutation makes writing multi-threaded programs significantly easier. "
   ]
  },
  {
   "cell_type": "markdown",
   "id": "5670c4b7-ab2e-42f2-844c-b8256ccc4b6a",
   "metadata": {},
   "source": [
    "### Blocks"
   ]
  },
  {
   "cell_type": "markdown",
   "id": "1c439ab6-57e0-4f5a-8445-aa36f722057b",
   "metadata": {},
   "source": [
    "You can combine expressions by surrounding them with {}. We call this a block.\n",
    "\n",
    "The result of the last expression in the block is the result of the overall block, too:"
   ]
  },
  {
   "cell_type": "code",
   "execution_count": null,
   "id": "58e07474-3cd2-4869-bfcd-2175d52b9bce",
   "metadata": {},
   "outputs": [],
   "source": [
    "println({\n",
    "  val x = 1 + 1\n",
    "  x + 1\n",
    "}) // 3"
   ]
  },
  {
   "cell_type": "code",
   "execution_count": null,
   "id": "a204ad2f-2e28-4acd-b185-0d5a251a7373",
   "metadata": {},
   "outputs": [],
   "source": [
    "val a = {\n",
    "    val x = 1 + 1\n",
    "    x + 1\n",
    "}"
   ]
  },
  {
   "cell_type": "markdown",
   "id": "6a725e6b-afe1-4242-bdc3-65660a5525ee",
   "metadata": {},
   "source": [
    "### If Statements"
   ]
  },
  {
   "cell_type": "markdown",
   "id": "b8cf22f8-842d-4c8c-a2ff-95c9a9d19125",
   "metadata": {},
   "source": [
    "An if statement consists of a Boolean expression followed by one or more statements ."
   ]
  },
  {
   "cell_type": "code",
   "execution_count": null,
   "id": "401fa6aa-1d20-45b2-851e-17017b1a8cc1",
   "metadata": {},
   "outputs": [],
   "source": [
    "var x = 10;\n",
    "if( x < 20 ){\n",
    "    println(\"This is if statement\");\n",
    "}"
   ]
  },
  {
   "cell_type": "markdown",
   "id": "d44bdccb-0dcb-4fb1-8ca0-eb82685b364f",
   "metadata": {},
   "source": [
    "An if statement can be followed by an optional else statement, which executes when the Boolean expression is false."
   ]
  },
  {
   "cell_type": "code",
   "execution_count": null,
   "id": "a6ea90ce-7e5a-41c4-b981-099c2c8c6233",
   "metadata": {},
   "outputs": [],
   "source": [
    "var x = 30;\n",
    "if( x < 20 ){\n",
    "    println(\"This is if statement\");\n",
    "}else{\n",
    "    println(\"This is else statement\");\n",
    "}"
   ]
  },
  {
   "cell_type": "markdown",
   "id": "743047a8-cf51-4034-9912-4a118480ed16",
   "metadata": {},
   "source": [
    "An if statement can be followed by an optional else if...else statement, which is very useful to test various conditions using single if...else if statement."
   ]
  },
  {
   "cell_type": "code",
   "execution_count": null,
   "id": "48542ba5-2226-44dc-bfe0-c6c6740e32cb",
   "metadata": {},
   "outputs": [],
   "source": [
    "var x = 30;\n",
    "if( x == 10 ){\n",
    "  println(\"Value of X is 10\");\n",
    "}else if( x == 20 ){\n",
    "  println(\"Value of X is 20\");\n",
    "}else if( x == 30 ){\n",
    "  println(\"Value of X is 30\");\n",
    "}else{\n",
    "  println(\"This is else statement\");\n",
    "}"
   ]
  },
  {
   "cell_type": "markdown",
   "id": "7e06f7e8-a6c0-46f6-97a0-d03f2b8f1b09",
   "metadata": {},
   "source": [
    "It is always legal to nest if-else statements, which means you can use one if or else if statement inside another if or\n",
    "else if statement."
   ]
  },
  {
   "cell_type": "code",
   "execution_count": null,
   "id": "9e98a868-af8f-4798-9967-86017d054ea7",
   "metadata": {},
   "outputs": [],
   "source": [
    "var x = 30;\n",
    "var y = 10;\n",
    "if( x == 30 ){\n",
    "    if( y == 10 ){\n",
    "        println(\"X = 30 and Y = 10\");\n",
    "    }\n",
    "}"
   ]
  },
  {
   "cell_type": "markdown",
   "id": "7ec4d1d6-2ebd-4cab-85e3-e64683e9bd61",
   "metadata": {},
   "source": [
    "if statement could use block or not use it"
   ]
  },
  {
   "cell_type": "code",
   "execution_count": null,
   "id": "8b5eb6d8-8d2d-41f7-9e46-403d21588d7c",
   "metadata": {},
   "outputs": [],
   "source": [
    "var x = 30 \n",
    "if (x == 30) println(\"if statement\")\n",
    "else println(\"else statemen\")"
   ]
  },
  {
   "cell_type": "markdown",
   "id": "87412e84-8a11-45fc-a516-0a3c9f620171",
   "metadata": {},
   "source": [
    "### Looping"
   ]
  },
  {
   "cell_type": "markdown",
   "id": "309fabeb-b6e5-4255-b106-5a30044cbaea",
   "metadata": {},
   "source": [
    "#### while\n",
    "A while loop statement repeatedly executes a target statement as long as a given condition is true."
   ]
  },
  {
   "cell_type": "code",
   "execution_count": null,
   "id": "4c84a199-b02b-4887-b938-82292dcf1cc0",
   "metadata": {},
   "outputs": [],
   "source": [
    "var a = 10;\n",
    "while( a < 20 ){\n",
    "    println( \"Value of a: \" + a );\n",
    "    a = a + 1;\n",
    "}"
   ]
  },
  {
   "cell_type": "markdown",
   "id": "b1b03ff4-b16b-46f7-a878-a634867eca79",
   "metadata": {},
   "source": [
    "#### do ... while\n",
    "Unlike while loop, which tests the loop condition at the top of the loop, the do...while loop checks its condition at\n",
    "the bottom of the loop. A do...while loop is similar to a while loop, except that a do...while loop is guaranteed to\n",
    "execute at least one time."
   ]
  },
  {
   "cell_type": "code",
   "execution_count": null,
   "id": "0781f16c-d911-4df9-b580-14fa3fa68f9b",
   "metadata": {},
   "outputs": [],
   "source": [
    "var a = 10;\n",
    "do{\n",
    "    println( \"Value of a: \" + a );\n",
    "    a = a + 1;\n",
    "} while( a < 20 )"
   ]
  },
  {
   "cell_type": "markdown",
   "id": "0f45c0bb-c037-450d-a519-7f190f155598",
   "metadata": {},
   "source": [
    "#### for\n",
    "A for loop is a repetition control structure that allows you to efficiently write a loop that needs to execute a specific\n",
    "number of times"
   ]
  },
  {
   "cell_type": "code",
   "execution_count": null,
   "id": "ea1e0324-4851-4c91-a469-130bcc1bee41",
   "metadata": {},
   "outputs": [],
   "source": [
    "var a = 0;\n",
    "// for loop execution with a range\n",
    "for( a <- 1 to 10){\n",
    "    println(\"Value of a: \" + a );\n",
    "}"
   ]
  },
  {
   "cell_type": "markdown",
   "id": "7cc7941a-f7b7-45f9-bcef-9d9e96e82bb1",
   "metadata": {},
   "source": [
    "# Tuples\n",
    "\n",
    "\n",
    "In Scala, a tuple is a value that contains a fixed number of elements, each\n",
    "with its own type.  Tuples are immutable.\n",
    "\n",
    "Tuples are especially handy for returning multiple values from a method.\n",
    "\n",
    "A tuple with two elements can be created as follows:\n"
   ]
  },
  {
   "cell_type": "code",
   "execution_count": null,
   "id": "2e6854eb-b7af-450b-aca4-129478db0d75",
   "metadata": {},
   "outputs": [],
   "source": [
    "val ingredient = (\"Sugar\" , 25)"
   ]
  },
  {
   "cell_type": "markdown",
   "id": "c639865b-2c48-406d-a2a9-6a1857dea415",
   "metadata": {},
   "source": [
    "\n",
    "This creates a tuple containing a `String` element and an `Int` element.\n",
    "\n",
    "The inferred type of `ingredient` is `(String, Int)`, which is shorthand\n",
    "for `Tuple2[String, Int]`.\n",
    "\n",
    "To represent tuples, Scala uses a series of classes: `Tuple2`, `Tuple3`, etc., through `Tuple22`.\n",
    "Each class has as many type parameters as it has elements.\n",
    "\n",
    "## Accessing the elements\n",
    "\n",
    "One way of accessing tuple elements is by position.  The individual\n",
    "elements are named `_1`, `_2`, and so forth."
   ]
  },
  {
   "cell_type": "code",
   "execution_count": null,
   "id": "eed4e6f1-4607-46a0-bc36-7df538dae5b8",
   "metadata": {},
   "outputs": [],
   "source": [
    "println(ingredient._1) // Sugar\n",
    "println(ingredient._2) // 25"
   ]
  },
  {
   "cell_type": "markdown",
   "id": "88c88f35-3470-4145-8352-1b1af5c1a854",
   "metadata": {},
   "source": [
    "## Pattern matching on tuples\n",
    "\n",
    "A tuple can also be taken apart using pattern matching:"
   ]
  },
  {
   "cell_type": "code",
   "execution_count": null,
   "id": "746d8928-983e-4287-b0ab-9433d93578a1",
   "metadata": {},
   "outputs": [],
   "source": [
    "val (name, quantity) = ingredient\n",
    "println(name) // Sugar\n",
    "println(quantity) // 25"
   ]
  },
  {
   "cell_type": "markdown",
   "id": "653b3a9a-a17c-49c4-85b0-621305bf4132",
   "metadata": {},
   "source": [
    "\n",
    "Here `name`'s inferred type is `String` and `quantity`'s inferred type\n",
    "is `Int`.\n",
    "\n",
    "Here is another example of pattern-matching a tuple:"
   ]
  },
  {
   "cell_type": "code",
   "execution_count": null,
   "id": "05a89b07-8a4b-480f-87ba-515b02958cb8",
   "metadata": {},
   "outputs": [],
   "source": [
    "val planets =\n",
    "  List((\"Mercury\", 57.9), (\"Venus\", 108.2), (\"Earth\", 149.6),\n",
    "       (\"Mars\", 227.9), (\"Jupiter\", 778.3))\n",
    "planets.foreach{\n",
    "  case (\"Earth\", distance) =>\n",
    "    println(s\"Our planet is $distance million kilometers from the sun\")\n",
    "  case _ =>\n",
    "}"
   ]
  },
  {
   "cell_type": "markdown",
   "id": "d93feba7-947c-448c-a4ae-94c6eaeb112c",
   "metadata": {},
   "source": [
    "\n",
    "Or, in `for` comprehension:"
   ]
  },
  {
   "cell_type": "code",
   "execution_count": null,
   "id": "86d9e6f9-3fbc-43ec-97b3-386efc80567c",
   "metadata": {},
   "outputs": [],
   "source": [
    "val numPairs = List((2, 5), (3, -7), (20, 56))\n",
    "for ((a, b) <- numPairs) {\n",
    "  println(a * b)\n",
    "}"
   ]
  }
 ],
 "metadata": {
  "kernelspec": {
   "display_name": "spylon-kernel",
   "language": "scala",
   "name": "spylon-kernel"
  },
  "language_info": {
   "codemirror_mode": "text/x-scala",
   "file_extension": ".scala",
   "help_links": [
    {
     "text": "MetaKernel Magics",
     "url": "https://metakernel.readthedocs.io/en/latest/source/README.html"
    }
   ],
   "mimetype": "text/x-scala",
   "name": "scala",
   "pygments_lexer": "scala",
   "version": "0.4.1"
  }
 },
 "nbformat": 4,
 "nbformat_minor": 5
}
