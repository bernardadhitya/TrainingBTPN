{
 "cells": [
  {
   "cell_type": "markdown",
   "id": "63d561f1-e157-420d-a5cf-5682815b3a15",
   "metadata": {},
   "source": [
    "# Exercise 3"
   ]
  },
  {
   "cell_type": "markdown",
   "id": "1f0e1243-6f01-4353-b97b-e5a9ab800dc2",
   "metadata": {},
   "source": [
    "1. Write a code to delete element(s) from a given List."
   ]
  },
  {
   "cell_type": "code",
   "execution_count": null,
   "id": "82b28654-f335-46bb-9117-310b45aa2b6b",
   "metadata": {},
   "outputs": [],
   "source": []
  },
  {
   "cell_type": "markdown",
   "id": "523a31d8-3930-47b7-a75d-c74e1207b669",
   "metadata": {},
   "source": [
    "2. Write a code to iterate over a list to print the elements and calculate the sum and product of all elements of this list"
   ]
  },
  {
   "cell_type": "code",
   "execution_count": null,
   "id": "a28c97d5-ab6d-4075-a80e-b974719db75b",
   "metadata": {},
   "outputs": [],
   "source": []
  },
  {
   "cell_type": "markdown",
   "id": "0e2dbe8a-5406-4fa4-a52e-04886d0f1616",
   "metadata": {},
   "source": [
    "3. Create list and calculate sum and avg using reduce"
   ]
  },
  {
   "cell_type": "code",
   "execution_count": null,
   "id": "ea11f4c7-4f3e-4064-ba7e-ea6a2c708fb7",
   "metadata": {},
   "outputs": [],
   "source": []
  },
  {
   "cell_type": "markdown",
   "id": "4719d3c7-3024-448a-8044-872efb24b622",
   "metadata": {},
   "source": [
    "4. create a list and calculate even and odd numbers"
   ]
  },
  {
   "cell_type": "code",
   "execution_count": null,
   "id": "15bb9f6c-f09d-4121-a761-42b1a1e80a7f",
   "metadata": {},
   "outputs": [],
   "source": []
  }
 ],
 "metadata": {
  "kernelspec": {
   "display_name": "spylon-kernel",
   "language": "scala",
   "name": "spylon-kernel"
  },
  "language_info": {
   "codemirror_mode": "text/x-scala",
   "file_extension": ".scala",
   "help_links": [
    {
     "text": "MetaKernel Magics",
     "url": "https://metakernel.readthedocs.io/en/latest/source/README.html"
    }
   ],
   "mimetype": "text/x-scala",
   "name": "scala",
   "pygments_lexer": "scala",
   "version": "0.4.1"
  }
 },
 "nbformat": 4,
 "nbformat_minor": 5
}
