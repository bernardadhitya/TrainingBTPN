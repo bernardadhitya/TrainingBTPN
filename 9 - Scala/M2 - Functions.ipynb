{
 "cells": [
  {
   "cell_type": "markdown",
   "id": "07c8fb5b-c506-4fc2-9195-1e35f79c61bb",
   "metadata": {},
   "source": [
    "## Functions & Methods\n",
    "\n",
    "### Function"
   ]
  },
  {
   "cell_type": "markdown",
   "id": "858254ae-895a-4117-af14-ae9c8ceb4826",
   "metadata": {},
   "source": [
    "You can define an anonymous function (i.e., a function that has no name) that returns a given integer plus one:"
   ]
  },
  {
   "cell_type": "code",
   "execution_count": null,
   "id": "b47f38b5-5691-4f0f-8b7e-33f0c10ec051",
   "metadata": {},
   "outputs": [],
   "source": [
    "(x: Int) => x + 1"
   ]
  },
  {
   "cell_type": "markdown",
   "id": "32146401-5946-44e8-a90b-a8a092e372fd",
   "metadata": {},
   "source": [
    "On the left of => is a list of parameters. On the right is an expression involving the parameters.\n",
    "\n",
    "You can also name functions"
   ]
  },
  {
   "cell_type": "code",
   "execution_count": null,
   "id": "24ff4596-9bbd-47fb-8aa9-b71fa21e331d",
   "metadata": {},
   "outputs": [],
   "source": [
    "val addOne = (x: Int) => x + 1\n",
    "println(addOne(1)) // 2"
   ]
  },
  {
   "cell_type": "markdown",
   "id": "a01d19d1-44ca-4036-b9b9-6d956b523ae7",
   "metadata": {},
   "source": [
    "A function can have multiple parameters:"
   ]
  },
  {
   "cell_type": "code",
   "execution_count": null,
   "id": "15ad0eef-954f-42d9-b80d-02530a0a481b",
   "metadata": {},
   "outputs": [],
   "source": [
    "val add = (x: Int, y: Int) => x + y\n",
    "println(add(1, 2)) // 3"
   ]
  },
  {
   "cell_type": "markdown",
   "id": "2bb24721-3c4c-48b8-8637-62a4d9145c0b",
   "metadata": {},
   "source": [
    "Or it can have no parameters at all:"
   ]
  },
  {
   "cell_type": "code",
   "execution_count": null,
   "id": "2fd9f39a-156a-4ec7-9a59-2eaefc133261",
   "metadata": {},
   "outputs": [],
   "source": [
    "val getTheAnswer = () => 42\n",
    "println(getTheAnswer()) // 42"
   ]
  },
  {
   "cell_type": "markdown",
   "id": "4a08e7e6-d0ab-423f-b230-6f434a402fee",
   "metadata": {},
   "source": [
    "### Methods"
   ]
  },
  {
   "cell_type": "markdown",
   "id": "4959d0cf-079c-4c51-825d-690307883c7e",
   "metadata": {},
   "source": [
    "Methods look and behave very similar to functions, but there are a few key differences between them.\n",
    "\n",
    "Methods are defined with the def keyword. def is followed by a name, parameter list(s), a return type, and a body:"
   ]
  },
  {
   "cell_type": "code",
   "execution_count": null,
   "id": "3f234bbb-ee2e-4036-a2de-a8fa794f63ee",
   "metadata": {},
   "outputs": [],
   "source": [
    "def addInt( a:Int, b:Int ) : Int = {\n",
    "    var sum:Int = 0\n",
    "    sum = a + b\n",
    "    return sum\n",
    "}\n",
    "addInt(1, 2)"
   ]
  },
  {
   "cell_type": "markdown",
   "id": "230d5b90-c501-40b7-8f14-c705dfa7201d",
   "metadata": {},
   "source": [
    "Notice how the return type Int is declared after the parameter list and a :.\n",
    "\n",
    "A method can take multiple parameter lists:"
   ]
  },
  {
   "cell_type": "code",
   "execution_count": null,
   "id": "eca86c23-3956-43ba-a81a-0b11589ddcd3",
   "metadata": {},
   "outputs": [],
   "source": [
    "def addThenMultiply(x: Int, y: Int)(multiplier: Int): Int = (x + y) * multiplier\n",
    "println(addThenMultiply(1, 2)(3)) "
   ]
  },
  {
   "cell_type": "markdown",
   "id": "f6c8f9c1-fe4f-416f-a337-d1ba94d53000",
   "metadata": {},
   "source": [
    "Or no parameter lists at all:"
   ]
  },
  {
   "cell_type": "code",
   "execution_count": null,
   "id": "8417c6ea-7e76-4261-892a-7511560141c1",
   "metadata": {},
   "outputs": [],
   "source": [
    "def name: String = System.getProperty(\"user.name\")\n",
    "println(\"Hello, \" + name + \"!\")"
   ]
  },
  {
   "cell_type": "markdown",
   "id": "5a17fa37-6590-4362-b566-5e6fb837cfe5",
   "metadata": {},
   "source": [
    "There are some other differences, but for now, you can think of methods as something similar to functions.\n",
    "\n",
    "Methods can have multi-line expressions (blocks)"
   ]
  },
  {
   "cell_type": "code",
   "execution_count": null,
   "id": "076bace1-5953-4fd1-a58d-289dea8b6680",
   "metadata": {},
   "outputs": [],
   "source": [
    "def getSquareString(input: Double): String = {\n",
    "  val square = input * input\n",
    "  square.toString\n",
    "}\n",
    "println(getSquareString(2.5)) // 6.25"
   ]
  },
  {
   "cell_type": "markdown",
   "id": "c686c399-05d6-480e-99fd-4fcfd565ebbf",
   "metadata": {},
   "source": [
    "Methods also able utilize type inference"
   ]
  },
  {
   "cell_type": "code",
   "execution_count": null,
   "id": "b7ac748b-8333-427a-b041-b72c436644d4",
   "metadata": {},
   "outputs": [],
   "source": [
    "def hello=\"Hello\""
   ]
  },
  {
   "cell_type": "markdown",
   "id": "b6ef8ec0-4c13-441c-b2c1-a55ce6786f7b",
   "metadata": {},
   "source": [
    "### Functions with Named Arguments\n",
    "In a normal function call, the arguments in the call are matched one by one in the order of the parameters of the\n",
    "called function. Named arguments allow you to pass arguments to a function in a different order. The syntax is\n",
    "simply that each argument is preceded by a parameter name and an equals sign."
   ]
  },
  {
   "cell_type": "code",
   "execution_count": null,
   "id": "33d660b0-01e3-4737-8812-5ba80e6c6f34",
   "metadata": {},
   "outputs": [],
   "source": [
    "def printInt( a:Int, b:Int ) = {\n",
    "    println(\"Value of a : \" + a );\n",
    "    println(\"Value of b : \" + b );\n",
    "}\n",
    "printInt(b=5, a=7);"
   ]
  },
  {
   "cell_type": "markdown",
   "id": "e746b0c3-e9b5-4db4-b268-0632bd7c62bc",
   "metadata": {},
   "source": [
    "### Function with Variable Arguments\n",
    "Scala allows you to indicate that the last parameter to a function may be repeated. This allows clients to pass\n",
    "variable length argument lists to the function"
   ]
  },
  {
   "cell_type": "code",
   "execution_count": null,
   "id": "a32895e9-854d-471e-adfd-9978ded877b7",
   "metadata": {},
   "outputs": [],
   "source": [
    "def printStrings( args:String* ) = {\n",
    "    var i : Int = 0;\n",
    "    for( arg <- args ){\n",
    "        println(\"Arg value[\" + i + \"] = \" + arg );\n",
    "        i = i + 1;\n",
    "    }\n",
    "}\n",
    "\n",
    "printStrings(\"Hello\", \"Scala\", \"Python\");"
   ]
  },
  {
   "cell_type": "markdown",
   "id": "6bbc649e-1dc1-4662-ab71-f16afcb1a2e8",
   "metadata": {},
   "source": [
    "arguments could be accessed individually"
   ]
  },
  {
   "cell_type": "code",
   "execution_count": null,
   "id": "5b10b741-cc2b-4a75-8943-b8812b20cb08",
   "metadata": {},
   "outputs": [],
   "source": [
    "def printStrings( args:String* ) = {\n",
    "    println(args(0))\n",
    "    println(args(1))\n",
    "    println(args(2))\n",
    "}\n",
    "\n",
    "printStrings(\"Hello\", \"Scala\", \"Python\");"
   ]
  },
  {
   "cell_type": "markdown",
   "id": "6d8a76ae-d949-423a-abdd-0a584bd9924d",
   "metadata": {},
   "source": [
    "### Default Value\n",
    "Scala provides the ability to give parameters default values that can be used to allow a caller to omit those parameters"
   ]
  },
  {
   "cell_type": "code",
   "execution_count": null,
   "id": "e436705e-2211-4a8b-b082-8db4b83bdf46",
   "metadata": {},
   "outputs": [],
   "source": [
    "def log(message: String, level: String = \"INFO\") = println(s\"$level: $message\")\n",
    "\n",
    "log(\"System starting\")  // prints INFO: System starting\n",
    "log(\"User not found\", \"WARNING\")  // prints WARNING: User not found"
   ]
  },
  {
   "cell_type": "markdown",
   "id": "2ad473a6-6689-4eef-9f52-9563ebfb3688",
   "metadata": {},
   "source": [
    "### Higher-Order Functions \n",
    "\n",
    "Scala allows the definition of higher-order functions. These are functions that take other functions as parameters,\n",
    "or whose result is a function. For example in the following code, apply() function takes another function f and a\n",
    "value v and applies function f to v:"
   ]
  },
  {
   "cell_type": "code",
   "execution_count": null,
   "id": "824500b3-5899-4912-adc9-cfd3fb29ab4e",
   "metadata": {},
   "outputs": [],
   "source": [
    "def apply(f: Int => String, v: Int) = f(v)\n",
    "\n",
    "def layout[A](x: A) = \"[\" + x.toString() + \"]\"\n",
    "\n",
    "\n",
    "println( apply( layout, 10) )"
   ]
  },
  {
   "cell_type": "markdown",
   "id": "ff625b24-696d-4fca-8ee0-df85c1575ba1",
   "metadata": {},
   "source": [
    "#### Functions that accept functions\n",
    "\n",
    "One reason to use higher-order functions is to reduce redundant code. Let’s say you wanted some methods that could raise someone’s salaries by various factors. Without creating a higher-order function, it might look something like this:"
   ]
  },
  {
   "cell_type": "code",
   "execution_count": null,
   "id": "2f86b5dd-375a-4907-9e2c-01df40196378",
   "metadata": {},
   "outputs": [],
   "source": [
    "def smallPromotion(salaries: List[Double]): List[Double] = salaries.map(salary => salary * 1.1)\n",
    "\n",
    "def greatPromotion(salaries: List[Double]): List[Double] = salaries.map(salary => salary * math.log(salary))\n",
    "\n",
    "def hugePromotion(salaries: List[Double]): List[Double] = salaries.map(salary => salary * salary)\n",
    "\n",
    "\n",
    "println(smallPromotion(List(10, 20, 30)))\n",
    "println(greatPromotion(List(10, 20, 30)))\n",
    "println(hugePromotion(List(10, 20, 30)))"
   ]
  },
  {
   "cell_type": "markdown",
   "id": "8784153a-87e5-494e-bdc5-3e68e4669f8b",
   "metadata": {},
   "source": [
    "Notice how each of the three methods vary only by the multiplication factor. \n",
    "\n",
    "To simplify, you can extract the repeated code into a higher-order function like so:"
   ]
  },
  {
   "cell_type": "code",
   "execution_count": null,
   "id": "7fc224a2-0274-419b-a9ac-ece085c9975e",
   "metadata": {},
   "outputs": [],
   "source": [
    "def promotion(salaries: List[Double], promotionFunction: Double => Double): List[Double] = salaries.map(promotionFunction)\n",
    "\n",
    "def smallPromotion(salaries: List[Double]): List[Double] = promotion(salaries, salary => salary * 1.1)\n",
    "\n",
    "def greatPromotion(salaries: List[Double]): List[Double] = promotion(salaries, salary => salary * math.log(salary))\n",
    "\n",
    "def hugePromotion(salaries: List[Double]): List[Double] = promotion(salaries, salary => salary * salary)\n",
    "\n",
    "println(smallPromotion(List(10, 20, 30)))\n",
    "println(greatPromotion(List(10, 20, 30)))\n",
    "println(hugePromotion(List(10, 20, 30)))\n"
   ]
  },
  {
   "cell_type": "markdown",
   "id": "3e8ce001-2270-42f7-914d-07de9af1150b",
   "metadata": {},
   "source": [
    "#### Functions that return functions\n",
    "There are certain cases where you want to generate a function. Here’s an example of a method that returns a function."
   ]
  },
  {
   "cell_type": "code",
   "execution_count": null,
   "id": "2884a132-b508-428b-b9a3-5d0e8441a016",
   "metadata": {},
   "outputs": [],
   "source": [
    "def urlBuilder(ssl: Boolean, domainName: String): (String, String) => String = {\n",
    "  val schema = if (ssl) \"https://\" else \"http://\"\n",
    "  return (endpoint: String, query: String) => s\"$schema$domainName/$endpoint?$query\"\n",
    "}\n",
    "\n",
    "val domainName = \"www.example.com\"\n",
    "def getURL = urlBuilder(ssl=true, domainName)\n",
    "val endpoint = \"users\"\n",
    "val query = \"id=1\"\n",
    "val url = getURL(endpoint, query)"
   ]
  },
  {
   "cell_type": "markdown",
   "id": "25386eb2-c58a-44ab-b712-123bd7db54a3",
   "metadata": {},
   "source": [
    "#### collections map\n",
    "\n",
    "One of the most common examples is the higher-order function map which is available for collections in Scala."
   ]
  },
  {
   "cell_type": "code",
   "execution_count": null,
   "id": "4aad4233-2f97-4d1d-9ed8-48e4697a896c",
   "metadata": {},
   "outputs": [],
   "source": [
    "val salaries = List(10, 20, 30)\n",
    "val doubleSalary = (x: Int) => x * 2\n",
    "val newSalaries = salaries.map(doubleSalary)"
   ]
  },
  {
   "cell_type": "markdown",
   "id": "19c26bb1-5517-47b5-83fe-c1fd92d42b9d",
   "metadata": {},
   "source": [
    "could be simplified as"
   ]
  },
  {
   "cell_type": "code",
   "execution_count": null,
   "id": "2803216f-2013-4d56-bff2-590ed7d3b743",
   "metadata": {},
   "outputs": [],
   "source": [
    "val salaries = List(10, 20, 30)\n",
    "val newSalaries = salaries.map((x: Int) => x * 2)"
   ]
  },
  {
   "cell_type": "markdown",
   "id": "afca8a96-d804-4b8e-aaf2-51c904f6e8f3",
   "metadata": {},
   "source": [
    "### Partially-applied functions (Currying)"
   ]
  },
  {
   "cell_type": "markdown",
   "id": "79f9fcd4-5de6-4de1-bb8b-3fd4b09631e2",
   "metadata": {},
   "source": [
    "This is the process of applying a function to some of its arguments. A partially-applied function gets returned for later use. In other words, a PAF is a function that takes a function with multiple parameters and returns a function with fewer parameters."
   ]
  },
  {
   "cell_type": "code",
   "execution_count": null,
   "id": "c58a1dc9-9919-404f-9828-e6f870f1e7fa",
   "metadata": {},
   "outputs": [],
   "source": [
    "def plus(a: Int)(b: Int) = a + b\n",
    "plus(1)(3)"
   ]
  },
  {
   "cell_type": "markdown",
   "id": "716b73ee-05d5-4851-a327-f05c6f28f4f8",
   "metadata": {},
   "source": [
    "It turns out `plus` function is rather popular. How about create a simmiliar functions"
   ]
  },
  {
   "cell_type": "code",
   "execution_count": null,
   "id": "bec9bce8-8c70-4ef4-890c-0450d96ec8a0",
   "metadata": {},
   "outputs": [],
   "source": [
    "def plus2 = plus(2)(_)"
   ]
  },
  {
   "cell_type": "markdown",
   "id": "94198ff8-8ce3-42f3-b775-ab2c5247b46f",
   "metadata": {},
   "source": [
    "plus2 has been “seeded” with the initial Int value 2, and now it’s just sitting there, waiting for another Int value that it can add to it. Let’s give it another 2"
   ]
  },
  {
   "cell_type": "code",
   "execution_count": null,
   "id": "b7621526-40a8-444d-b21f-3e9339161316",
   "metadata": {},
   "outputs": [],
   "source": [
    "println(plus2(1))\n",
    "println(plus2(5))\n",
    "println(plus2(3))"
   ]
  },
  {
   "cell_type": "markdown",
   "id": "48a9e931-9af4-459f-84fb-9540740f254d",
   "metadata": {},
   "source": [
    "you can create plus2 in either of these ways"
   ]
  },
  {
   "cell_type": "code",
   "execution_count": null,
   "id": "ac0044b5-99df-4318-b954-1d652938f281",
   "metadata": {},
   "outputs": [],
   "source": [
    "def plus2a = plus(2)(_)\n",
    "def plus2b = plus(2)_"
   ]
  },
  {
   "cell_type": "markdown",
   "id": "21bdafda-1732-486e-be1f-fdfdbf531d13",
   "metadata": {},
   "source": [
    "**The general benefit that this approach gives you is that it’s a way to create specialized methods from more general methods**\n",
    "\n",
    "here is another example\n",
    "\n",
    "When you’re emitting HTML from Scala code, a wrap function that adds a prefix and a suffix to an HTML snippet can be really useful:\n"
   ]
  },
  {
   "cell_type": "code",
   "execution_count": null,
   "id": "b0909c1d-c688-4c64-a2ba-084b1a6c2387",
   "metadata": {},
   "outputs": [],
   "source": [
    "def wrap(prefix: String)(html: String)(suffix: String) = {\n",
    "    prefix + html + suffix\n",
    "}"
   ]
  },
  {
   "cell_type": "markdown",
   "id": "88aa5966-df50-4281-9858-4b9708f43a50",
   "metadata": {},
   "source": [
    "You can use that function to something like this"
   ]
  },
  {
   "cell_type": "code",
   "execution_count": null,
   "id": "7f7fcf92-86ff-430a-8fe5-51d085b8bb8f",
   "metadata": {},
   "outputs": [],
   "source": [
    "val hello = \"Hello, world\"\n",
    "val result = wrap(\"<div>\")(hello)(\"</div>\")"
   ]
  },
  {
   "cell_type": "markdown",
   "id": "4b2247d4-6a73-4385-b405-659ef6824280",
   "metadata": {},
   "source": [
    "Turns out you want to create specified wrapper"
   ]
  },
  {
   "cell_type": "code",
   "execution_count": null,
   "id": "30a5f051-3684-49cc-aca0-490df38b33db",
   "metadata": {},
   "outputs": [],
   "source": [
    "val wrapWithDiv = wrap(\"<div>\")(_: String)(\"</div>\")\n",
    "println(wrapWithDiv(\"<p>Hello, world</p>\"))\n",
    "println(wrapWithDiv(\"<img src=\\\"/images/foo.png\\\" />\"))"
   ]
  },
  {
   "cell_type": "code",
   "execution_count": null,
   "id": "7142e6d5-6b7e-4b84-8c6f-14c31a6c6cb8",
   "metadata": {},
   "outputs": [],
   "source": [
    "val wrapWithPre = wrap(\"<pre>\")(_: String)(\"</pre>\")\n",
    "println(wrapWithPre(\"<p>Hello, world</p>\"))\n",
    "println(wrapWithPre(\"<img src=\\\"/images/foo.png\\\" />\"))"
   ]
  },
  {
   "cell_type": "markdown",
   "id": "397185be-556b-420b-ac40-2291ae9b5325",
   "metadata": {},
   "source": [
    "**Partial Applied Function could be applied to single parameter**"
   ]
  },
  {
   "cell_type": "code",
   "execution_count": null,
   "id": "a9486ae7-5ee1-4cf7-a816-5fbed5565cf6",
   "metadata": {},
   "outputs": [],
   "source": [
    "import java.util.Date\n",
    "\n",
    "def log(date: Date, message: String) = {\n",
    "    println(date + \"----\" + message)\n",
    "}\n",
    "\n",
    "log(new Date, \"Hello world\")\n",
    "\n",
    "val logWithDate = log(new Date, _ : String)\n",
    "logWithDate(\"Hello world 1\")\n",
    "logWithDate(\"Hello world 2\")"
   ]
  },
  {
   "cell_type": "markdown",
   "id": "9392696f-1b22-4cd4-ba3a-290a2c7c8a17",
   "metadata": {},
   "source": [
    "#### Handling missing parameter"
   ]
  },
  {
   "cell_type": "markdown",
   "id": "6bbf9ece-86e7-4f4c-a4fc-8d743a923111",
   "metadata": {},
   "source": [
    "What happen with this code"
   ]
  },
  {
   "cell_type": "code",
   "execution_count": null,
   "id": "ff08a87f-b8aa-4279-b467-ab0eb920f20a",
   "metadata": {},
   "outputs": [],
   "source": [
    "val wrapWithDiv = wrap(\"<div>\")(_)(\"</div>\")"
   ]
  }
 ],
 "metadata": {
  "kernelspec": {
   "display_name": "spylon-kernel",
   "language": "scala",
   "name": "spylon-kernel"
  },
  "language_info": {
   "codemirror_mode": "text/x-scala",
   "file_extension": ".scala",
   "help_links": [
    {
     "text": "MetaKernel Magics",
     "url": "https://metakernel.readthedocs.io/en/latest/source/README.html"
    }
   ],
   "mimetype": "text/x-scala",
   "name": "scala",
   "pygments_lexer": "scala",
   "version": "0.4.1"
  }
 },
 "nbformat": 4,
 "nbformat_minor": 5
}
