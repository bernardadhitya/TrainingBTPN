{
 "cells": [
  {
   "cell_type": "markdown",
   "id": "cbf2a2ef-bb0a-43c4-9f5a-59c39ff9e9e3",
   "metadata": {},
   "source": [
    "# Exercise 2"
   ]
  },
  {
   "cell_type": "markdown",
   "id": "fe9c89bc-9985-4003-ad2d-deaab76c2009",
   "metadata": {},
   "source": [
    "1. Write a class BankAccount with methods deposit and withdraw, and a read-only property balance."
   ]
  },
  {
   "cell_type": "code",
   "execution_count": null,
   "id": "6ddb7171-ae47-4437-9a8c-52fd0e6e4443",
   "metadata": {},
   "outputs": [],
   "source": []
  },
  {
   "cell_type": "markdown",
   "id": "0fac794e-3880-4156-8b11-a6f078690c04",
   "metadata": {},
   "source": [
    "2. Write a class **Time** with **read-only** properties hours and minutes and a method before(other: Time): Boolean that checks whether this time comes before the other. A Time object should be constructed as new Time(hrs, min), where hrs is in military time format (between 0 and 23)."
   ]
  },
  {
   "cell_type": "code",
   "execution_count": null,
   "id": "aa7e9ac8-022a-422c-ae5e-e78003a5a2e3",
   "metadata": {},
   "outputs": [],
   "source": []
  },
  {
   "cell_type": "markdown",
   "id": "becc83ee-6a8d-4e67-be57-ae621d2f46b9",
   "metadata": {},
   "source": [
    "3. Reimplement the Time class from the exercise number 2 so that the internal representation is the number of minutes since midnight (between 0 and 24 * 60 - 1). Do not change the public interface. That is. **for example:** if class initiated with `new Time(4, 54)` then internal variable will have value 4 * 60 + 54 = 294"
   ]
  },
  {
   "cell_type": "code",
   "execution_count": null,
   "id": "4083c406-25fc-4ea0-9868-140d5bab0af4",
   "metadata": {},
   "outputs": [],
   "source": []
  },
  {
   "cell_type": "markdown",
   "id": "042d670a-18ba-496c-a3fd-382e1e589244",
   "metadata": {},
   "source": [
    "4. Make a class Car with read-only properties for manufacturer, model name, and model year, and a read-write property for the license plate. Supply four constructors. All require the manufacturer and model name. Optionally, model year and license plate can also be specified in the constructor. If not, the model year is set to -1 and the license plate to the empty string. Which constructor are you choosing as the primary constructor? Why?\n"
   ]
  },
  {
   "cell_type": "code",
   "execution_count": null,
   "id": "7a5aef54-947e-4f4d-a0fb-a09769089928",
   "metadata": {},
   "outputs": [],
   "source": []
  },
  {
   "cell_type": "markdown",
   "id": "c869ea41-5b8a-40e6-92be-96e49f356c26",
   "metadata": {},
   "source": [
    "5. Refactor class on exercise 4 using default values for constructor parameters"
   ]
  },
  {
   "cell_type": "code",
   "execution_count": null,
   "id": "5cd2a0b9-c7f2-4418-913d-59e3430472c8",
   "metadata": {},
   "outputs": [],
   "source": []
  }
 ],
 "metadata": {
  "kernelspec": {
   "display_name": "spylon-kernel",
   "language": "scala",
   "name": "spylon-kernel"
  },
  "language_info": {
   "codemirror_mode": "text/x-scala",
   "file_extension": ".scala",
   "help_links": [
    {
     "text": "MetaKernel Magics",
     "url": "https://metakernel.readthedocs.io/en/latest/source/README.html"
    }
   ],
   "mimetype": "text/x-scala",
   "name": "scala",
   "pygments_lexer": "scala",
   "version": "0.4.1"
  }
 },
 "nbformat": 4,
 "nbformat_minor": 5
}
